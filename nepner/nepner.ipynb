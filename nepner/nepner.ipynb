{
 "cells": [
  {
   "cell_type": "markdown",
   "id": "97162673",
   "metadata": {
    "id": "X1G263eDDq-t",
    "papermill": {
     "duration": 0.03243,
     "end_time": "2023-12-17T22:16:49.300818",
     "exception": false,
     "start_time": "2023-12-17T22:16:49.268388",
     "status": "completed"
    },
    "tags": []
   },
   "source": [
    "# Named Entity Recognition in Nepali Language\n",
    "\n",
    "Performs Named Entity Recognition Tasks using BERT models in Nepali Language.   \n",
    "It extracts mainly abusive entities like Profanity, Violence and General from Nepali Social Media texts.   \n",
    "Successfully runs in Kaggle.   "
   ]
  },
  {
   "cell_type": "markdown",
   "id": "fbffcc14",
   "metadata": {
    "id": "S7wpfzHCy8de",
    "papermill": {
     "duration": 0.032378,
     "end_time": "2023-12-17T22:16:49.365179",
     "exception": false,
     "start_time": "2023-12-17T22:16:49.332801",
     "status": "completed"
    },
    "tags": []
   },
   "source": [
    "## Installation"
   ]
  },
  {
   "cell_type": "code",
   "execution_count": 1,
   "id": "f73eadca",
   "metadata": {
    "execution": {
     "iopub.execute_input": "2023-12-17T22:16:49.431285Z",
     "iopub.status.busy": "2023-12-17T22:16:49.430309Z",
     "iopub.status.idle": "2023-12-17T22:18:06.005006Z",
     "shell.execute_reply": "2023-12-17T22:18:06.003920Z"
    },
    "executionInfo": {
     "elapsed": 40518,
     "status": "ok",
     "timestamp": 1701054276966,
     "user": {
      "displayName": "Merishna Suwal",
      "userId": "00324140771498152491"
     },
     "user_tz": 300
    },
    "id": "F0TjG-9xD1B8",
    "outputId": "0e4f9161-26ee-47f9-d334-d17b849253dd",
    "papermill": {
     "duration": 76.6109,
     "end_time": "2023-12-17T22:18:06.007536",
     "exception": false,
     "start_time": "2023-12-17T22:16:49.396636",
     "status": "completed"
    },
    "tags": []
   },
   "outputs": [],
   "source": [
    "%%capture\n",
    "!python3 -m pip install -U transformers\n",
    "!python3 -m pip install -U datasets evaluate\n",
    "!python3 -m pip install -U accelerate\n",
    "!python3 -m pip install -U seqeval\n",
    "!python3 -m pip install -U wandb"
   ]
  },
  {
   "cell_type": "markdown",
   "id": "9c73b386",
   "metadata": {
    "id": "cVHZma_ZD84H",
    "papermill": {
     "duration": 0.032114,
     "end_time": "2023-12-17T22:18:06.072870",
     "exception": false,
     "start_time": "2023-12-17T22:18:06.040756",
     "status": "completed"
    },
    "tags": []
   },
   "source": [
    "# Data Preprocessing"
   ]
  },
  {
   "cell_type": "markdown",
   "id": "6949ec3e",
   "metadata": {
    "id": "T_WfbZ_1zK2C",
    "papermill": {
     "duration": 0.077619,
     "end_time": "2023-12-17T22:18:06.182117",
     "exception": false,
     "start_time": "2023-12-17T22:18:06.104498",
     "status": "completed"
    },
    "tags": []
   },
   "source": [
    "## Load NepSA dataset\n"
   ]
  },
  {
   "cell_type": "code",
   "execution_count": 2,
   "id": "2e7e5cd5",
   "metadata": {
    "execution": {
     "iopub.execute_input": "2023-12-17T22:18:06.247780Z",
     "iopub.status.busy": "2023-12-17T22:18:06.247029Z",
     "iopub.status.idle": "2023-12-17T22:18:08.484820Z",
     "shell.execute_reply": "2023-12-17T22:18:08.483636Z"
    },
    "executionInfo": {
     "elapsed": 111197,
     "status": "ok",
     "timestamp": 1701054388112,
     "user": {
      "displayName": "Merishna Suwal",
      "userId": "00324140771498152491"
     },
     "user_tz": 300
    },
    "id": "uoHsvIemmm7g",
    "outputId": "5f88731f-daac-44ec-da33-3c7dc17d8e88",
    "papermill": {
     "duration": 2.273457,
     "end_time": "2023-12-17T22:18:08.487336",
     "exception": false,
     "start_time": "2023-12-17T22:18:06.213879",
     "status": "completed"
    },
    "tags": []
   },
   "outputs": [
    {
     "name": "stdout",
     "output_type": "stream",
     "text": [
      "Cloning into 'bert-llm'...\r\n",
      "remote: Enumerating objects: 89, done.\u001b[K\r\n",
      "remote: Counting objects: 100% (89/89), done.\u001b[K\r\n",
      "remote: Compressing objects: 100% (73/73), done.\u001b[K\r\n",
      "remote: Total 89 (delta 33), reused 52 (delta 12), pack-reused 0\u001b[K\r\n",
      "Receiving objects: 100% (89/89), 5.66 MiB | 21.00 MiB/s, done.\r\n",
      "Resolving deltas: 100% (33/33), done.\r\n"
     ]
    }
   ],
   "source": [
    "# Your github repo link here\n",
    "!git clone https://github.com/oya163/bert-llm.git"
   ]
  },
  {
   "cell_type": "code",
   "execution_count": 3,
   "id": "2d9b7faf",
   "metadata": {
    "execution": {
     "iopub.execute_input": "2023-12-17T22:18:08.555853Z",
     "iopub.status.busy": "2023-12-17T22:18:08.555438Z",
     "iopub.status.idle": "2023-12-17T22:18:08.560298Z",
     "shell.execute_reply": "2023-12-17T22:18:08.559457Z"
    },
    "executionInfo": {
     "elapsed": 36,
     "status": "ok",
     "timestamp": 1701054388112,
     "user": {
      "displayName": "Merishna Suwal",
      "userId": "00324140771498152491"
     },
     "user_tz": 300
    },
    "id": "WrmOo-iZw2JU",
    "outputId": "bb3808f3-4350-4561-eedd-8b8b36ac4687",
    "papermill": {
     "duration": 0.041239,
     "end_time": "2023-12-17T22:18:08.562227",
     "exception": false,
     "start_time": "2023-12-17T22:18:08.520988",
     "status": "completed"
    },
    "tags": []
   },
   "outputs": [],
   "source": [
    "DATA_DIR = 'bert-llm/NepNER/dataset'"
   ]
  },
  {
   "cell_type": "code",
   "execution_count": 4,
   "id": "8f2d5183",
   "metadata": {
    "execution": {
     "iopub.execute_input": "2023-12-17T22:18:08.629592Z",
     "iopub.status.busy": "2023-12-17T22:18:08.629244Z",
     "iopub.status.idle": "2023-12-17T22:18:11.162037Z",
     "shell.execute_reply": "2023-12-17T22:18:11.161251Z"
    },
    "executionInfo": {
     "elapsed": 6318,
     "status": "ok",
     "timestamp": 1701054394398,
     "user": {
      "displayName": "Merishna Suwal",
      "userId": "00324140771498152491"
     },
     "user_tz": 300
    },
    "id": "PzFOoAr-FXlF",
    "outputId": "5016b87e-1d82-4afe-f750-31a5601c4713",
    "papermill": {
     "duration": 2.569055,
     "end_time": "2023-12-17T22:18:11.164098",
     "exception": false,
     "start_time": "2023-12-17T22:18:08.595043",
     "status": "completed"
    },
    "tags": []
   },
   "outputs": [
    {
     "name": "stderr",
     "output_type": "stream",
     "text": [
      "/opt/conda/lib/python3.10/site-packages/scipy/__init__.py:146: UserWarning: A NumPy version >=1.16.5 and <1.23.0 is required for this version of SciPy (detected version 1.24.3\n",
      "  warnings.warn(f\"A NumPy version >={np_minversion} and <{np_maxversion}\"\n"
     ]
    },
    {
     "data": {
      "application/vnd.jupyter.widget-view+json": {
       "model_id": "6a2759bf879d462bb0f3117ed1f9124f",
       "version_major": 2,
       "version_minor": 0
      },
      "text/plain": [
       "Downloading data files:   0%|          | 0/3 [00:00<?, ?it/s]"
      ]
     },
     "metadata": {},
     "output_type": "display_data"
    },
    {
     "data": {
      "application/vnd.jupyter.widget-view+json": {
       "model_id": "b2fdab93e08d4db7ba9bdaef475bb317",
       "version_major": 2,
       "version_minor": 0
      },
      "text/plain": [
       "Extracting data files:   0%|          | 0/3 [00:00<?, ?it/s]"
      ]
     },
     "metadata": {},
     "output_type": "display_data"
    },
    {
     "data": {
      "application/vnd.jupyter.widget-view+json": {
       "model_id": "ebee25935d5d47c69475687fa1824627",
       "version_major": 2,
       "version_minor": 0
      },
      "text/plain": [
       "Generating train split: 0 examples [00:00, ? examples/s]"
      ]
     },
     "metadata": {},
     "output_type": "display_data"
    },
    {
     "data": {
      "application/vnd.jupyter.widget-view+json": {
       "model_id": "842294656bac4606b34baf824c324109",
       "version_major": 2,
       "version_minor": 0
      },
      "text/plain": [
       "Generating validation split: 0 examples [00:00, ? examples/s]"
      ]
     },
     "metadata": {},
     "output_type": "display_data"
    },
    {
     "data": {
      "application/vnd.jupyter.widget-view+json": {
       "model_id": "2a5c1374b3924fb7b4a4e6c1be4ca8c3",
       "version_major": 2,
       "version_minor": 0
      },
      "text/plain": [
       "Generating test split: 0 examples [00:00, ? examples/s]"
      ]
     },
     "metadata": {},
     "output_type": "display_data"
    }
   ],
   "source": [
    "import os\n",
    "from datasets import load_dataset\n",
    "\n",
    "data_files = {\n",
    "    \"train\": \"train.txt\",\n",
    "    \"validation\": \"valid.txt\",\n",
    "    \"test\": \"test.txt\",\n",
    "}\n",
    "\n",
    "load_script = os.path.join(DATA_DIR, \"load_ner.py\")\n",
    "\n",
    "raw_datasets = load_dataset(load_script, data_files=data_files)"
   ]
  },
  {
   "cell_type": "markdown",
   "id": "69f92e3c",
   "metadata": {
    "id": "dWR6iKPv1VMC",
    "papermill": {
     "duration": 0.033778,
     "end_time": "2023-12-17T22:18:11.232316",
     "exception": false,
     "start_time": "2023-12-17T22:18:11.198538",
     "status": "completed"
    },
    "tags": []
   },
   "source": [
    "Check the basic information on the loaded dataset"
   ]
  },
  {
   "cell_type": "code",
   "execution_count": 5,
   "id": "52678864",
   "metadata": {
    "execution": {
     "iopub.execute_input": "2023-12-17T22:18:11.302532Z",
     "iopub.status.busy": "2023-12-17T22:18:11.301682Z",
     "iopub.status.idle": "2023-12-17T22:18:11.308157Z",
     "shell.execute_reply": "2023-12-17T22:18:11.307290Z"
    },
    "executionInfo": {
     "elapsed": 45,
     "status": "ok",
     "timestamp": 1701054394398,
     "user": {
      "displayName": "Merishna Suwal",
      "userId": "00324140771498152491"
     },
     "user_tz": 300
    },
    "id": "Gfj48y-nLHTs",
    "outputId": "819fb3f6-1805-4b5c-d8bf-4966c2fe82e2",
    "papermill": {
     "duration": 0.0434,
     "end_time": "2023-12-17T22:18:11.310144",
     "exception": false,
     "start_time": "2023-12-17T22:18:11.266744",
     "status": "completed"
    },
    "tags": []
   },
   "outputs": [
    {
     "data": {
      "text/plain": [
       "DatasetDict({\n",
       "    train: Dataset({\n",
       "        features: ['id', 'tokens', 'ner_tags'],\n",
       "        num_rows: 2323\n",
       "    })\n",
       "    validation: Dataset({\n",
       "        features: ['id', 'tokens', 'ner_tags'],\n",
       "        num_rows: 330\n",
       "    })\n",
       "    test: Dataset({\n",
       "        features: ['id', 'tokens', 'ner_tags'],\n",
       "        num_rows: 280\n",
       "    })\n",
       "})"
      ]
     },
     "execution_count": 5,
     "metadata": {},
     "output_type": "execute_result"
    }
   ],
   "source": [
    "raw_datasets"
   ]
  },
  {
   "cell_type": "markdown",
   "id": "35be8981",
   "metadata": {
    "id": "c-X82WgK1ZZV",
    "papermill": {
     "duration": 0.034072,
     "end_time": "2023-12-17T22:18:11.378378",
     "exception": false,
     "start_time": "2023-12-17T22:18:11.344306",
     "status": "completed"
    },
    "tags": []
   },
   "source": [
    "Check sample of tokens from train dataset"
   ]
  },
  {
   "cell_type": "code",
   "execution_count": 6,
   "id": "0cfd77e8",
   "metadata": {
    "execution": {
     "iopub.execute_input": "2023-12-17T22:18:11.448412Z",
     "iopub.status.busy": "2023-12-17T22:18:11.447535Z",
     "iopub.status.idle": "2023-12-17T22:18:11.453941Z",
     "shell.execute_reply": "2023-12-17T22:18:11.453091Z"
    },
    "executionInfo": {
     "elapsed": 40,
     "status": "ok",
     "timestamp": 1701054394398,
     "user": {
      "displayName": "Merishna Suwal",
      "userId": "00324140771498152491"
     },
     "user_tz": 300
    },
    "id": "GthOG3KemYn_",
    "outputId": "21d49041-84db-457f-e293-c352de3f532f",
    "papermill": {
     "duration": 0.043507,
     "end_time": "2023-12-17T22:18:11.455926",
     "exception": false,
     "start_time": "2023-12-17T22:18:11.412419",
     "status": "completed"
    },
    "tags": []
   },
   "outputs": [
    {
     "name": "stdout",
     "output_type": "stream",
     "text": [
      "['भालुनी', 'सावित्री', 'कुकुरनी', 'मिले', 'को', 'रहेछ', 'आजा', 'प्रक्षया', 'थाहा', 'भयो', 'निर्माल', 'बहिनी', 'लाई', 'बलत्कार', 'गर्न', 'लगाउने', 'यनि', 'भलु', 'हरु', 'रहेछ', 'पहिला', 'जाती', 'आन्दोलान', 'गरे', 'को', 'थियो', 'त्यो', 'सबै', 'यनि', 'हरु', 'को', 'नाटक', 'रहेछ', 'आजा', 'बल', 'थाहा', 'भयो', '।']\n"
     ]
    }
   ],
   "source": [
    "print(raw_datasets[\"train\"][0][\"tokens\"])"
   ]
  },
  {
   "cell_type": "markdown",
   "id": "a1c6c885",
   "metadata": {
    "id": "DZ60Ictv1gsB",
    "papermill": {
     "duration": 0.034423,
     "end_time": "2023-12-17T22:18:11.526565",
     "exception": false,
     "start_time": "2023-12-17T22:18:11.492142",
     "status": "completed"
    },
    "tags": []
   },
   "source": [
    "Check the NER tags (its IDS) of the corresponding sample"
   ]
  },
  {
   "cell_type": "code",
   "execution_count": 7,
   "id": "684926c4",
   "metadata": {
    "execution": {
     "iopub.execute_input": "2023-12-17T22:18:11.597013Z",
     "iopub.status.busy": "2023-12-17T22:18:11.596155Z",
     "iopub.status.idle": "2023-12-17T22:18:11.601875Z",
     "shell.execute_reply": "2023-12-17T22:18:11.600758Z"
    },
    "executionInfo": {
     "elapsed": 335,
     "status": "ok",
     "timestamp": 1701054394695,
     "user": {
      "displayName": "Merishna Suwal",
      "userId": "00324140771498152491"
     },
     "user_tz": 300
    },
    "id": "MWbI8SgdEHcU",
    "outputId": "837d0c35-0bbb-43cf-d0a6-26cfc6c4b131",
    "papermill": {
     "duration": 0.042896,
     "end_time": "2023-12-17T22:18:11.603789",
     "exception": false,
     "start_time": "2023-12-17T22:18:11.560893",
     "status": "completed"
    },
    "tags": []
   },
   "outputs": [
    {
     "name": "stdout",
     "output_type": "stream",
     "text": [
      "[1, 0, 1, 0, 0, 0, 0, 0, 0, 0, 0, 0, 0, 7, 0, 0, 0, 1, 0, 0, 0, 0, 0, 0, 0, 0, 0, 0, 0, 0, 0, 0, 0, 0, 0, 0, 0, 0]\n"
     ]
    }
   ],
   "source": [
    "print(raw_datasets[\"train\"][0][\"ner_tags\"])"
   ]
  },
  {
   "cell_type": "code",
   "execution_count": 8,
   "id": "7b41d806",
   "metadata": {
    "execution": {
     "iopub.execute_input": "2023-12-17T22:18:11.674012Z",
     "iopub.status.busy": "2023-12-17T22:18:11.673356Z",
     "iopub.status.idle": "2023-12-17T22:18:11.679466Z",
     "shell.execute_reply": "2023-12-17T22:18:11.678593Z"
    },
    "executionInfo": {
     "elapsed": 54,
     "status": "ok",
     "timestamp": 1701054394695,
     "user": {
      "displayName": "Merishna Suwal",
      "userId": "00324140771498152491"
     },
     "user_tz": 300
    },
    "id": "4h0gTlDNELsK",
    "outputId": "f78b6228-d2b4-4e9e-c456-5fdec0d2b352",
    "papermill": {
     "duration": 0.043381,
     "end_time": "2023-12-17T22:18:11.681422",
     "exception": false,
     "start_time": "2023-12-17T22:18:11.638041",
     "status": "completed"
    },
    "tags": []
   },
   "outputs": [
    {
     "data": {
      "text/plain": [
       "Sequence(feature=ClassLabel(names=['O', 'B-PROFANITY', 'I-PROFANITY', 'B-FEEDBACK', 'I-FEEDBACK', 'B-GENERAL', 'I-GENERAL', 'B-VIOLENCE', 'I-VIOLENCE'], id=None), length=-1, id=None)"
      ]
     },
     "execution_count": 8,
     "metadata": {},
     "output_type": "execute_result"
    }
   ],
   "source": [
    "ner_feature = raw_datasets[\"train\"].features[\"ner_tags\"]\n",
    "ner_feature"
   ]
  },
  {
   "cell_type": "markdown",
   "id": "db0ddadf",
   "metadata": {
    "id": "BgoZjyZv05Ty",
    "papermill": {
     "duration": 0.034676,
     "end_time": "2023-12-17T22:18:11.750561",
     "exception": false,
     "start_time": "2023-12-17T22:18:11.715885",
     "status": "completed"
    },
    "tags": []
   },
   "source": [
    "Check the labels in the dataset"
   ]
  },
  {
   "cell_type": "code",
   "execution_count": 9,
   "id": "4debf3c5",
   "metadata": {
    "execution": {
     "iopub.execute_input": "2023-12-17T22:18:11.821457Z",
     "iopub.status.busy": "2023-12-17T22:18:11.820793Z",
     "iopub.status.idle": "2023-12-17T22:18:11.827132Z",
     "shell.execute_reply": "2023-12-17T22:18:11.826281Z"
    },
    "executionInfo": {
     "elapsed": 52,
     "status": "ok",
     "timestamp": 1701054394696,
     "user": {
      "displayName": "Merishna Suwal",
      "userId": "00324140771498152491"
     },
     "user_tz": 300
    },
    "id": "WKUzS2pQEV6z",
    "outputId": "b2fc56f9-76b8-41c1-d6b3-ebb72956e8ca",
    "papermill": {
     "duration": 0.044025,
     "end_time": "2023-12-17T22:18:11.829135",
     "exception": false,
     "start_time": "2023-12-17T22:18:11.785110",
     "status": "completed"
    },
    "tags": []
   },
   "outputs": [
    {
     "data": {
      "text/plain": [
       "['O',\n",
       " 'B-PROFANITY',\n",
       " 'I-PROFANITY',\n",
       " 'B-FEEDBACK',\n",
       " 'I-FEEDBACK',\n",
       " 'B-GENERAL',\n",
       " 'I-GENERAL',\n",
       " 'B-VIOLENCE',\n",
       " 'I-VIOLENCE']"
      ]
     },
     "execution_count": 9,
     "metadata": {},
     "output_type": "execute_result"
    }
   ],
   "source": [
    "label_names = ner_feature.feature.names\n",
    "label_names # GENERAL = slightly negative or positive connotation giving word"
   ]
  },
  {
   "cell_type": "markdown",
   "id": "97ecbdb6",
   "metadata": {
    "id": "5BjWH1cH1uLn",
    "papermill": {
     "duration": 0.034729,
     "end_time": "2023-12-17T22:18:11.898425",
     "exception": false,
     "start_time": "2023-12-17T22:18:11.863696",
     "status": "completed"
    },
    "tags": []
   },
   "source": [
    "Display the token and labels"
   ]
  },
  {
   "cell_type": "code",
   "execution_count": 10,
   "id": "bdaa17a4",
   "metadata": {
    "execution": {
     "iopub.execute_input": "2023-12-17T22:18:11.969250Z",
     "iopub.status.busy": "2023-12-17T22:18:11.968865Z",
     "iopub.status.idle": "2023-12-17T22:18:11.977638Z",
     "shell.execute_reply": "2023-12-17T22:18:11.976732Z"
    },
    "executionInfo": {
     "elapsed": 50,
     "status": "ok",
     "timestamp": 1701054394696,
     "user": {
      "displayName": "Merishna Suwal",
      "userId": "00324140771498152491"
     },
     "user_tz": 300
    },
    "id": "SK43vgqFEYt1",
    "outputId": "bdd3dd48-6c53-4a0f-92f1-92cfe4eb1eaa",
    "papermill": {
     "duration": 0.046857,
     "end_time": "2023-12-17T22:18:11.979900",
     "exception": false,
     "start_time": "2023-12-17T22:18:11.933043",
     "status": "completed"
    },
    "tags": []
   },
   "outputs": [
    {
     "name": "stdout",
     "output_type": "stream",
     "text": [
      "भालुनी \t B-PROFANITY\n",
      "सावित्री \t O\n",
      "कुकुरनी \t B-PROFANITY\n",
      "मिले \t O\n",
      "को \t O\n",
      "रहेछ \t O\n",
      "आजा \t O\n",
      "प्रक्षया \t O\n",
      "थाहा \t O\n",
      "भयो \t O\n",
      "निर्माल \t O\n",
      "बहिनी \t O\n",
      "लाई \t O\n",
      "बलत्कार \t B-VIOLENCE\n",
      "गर्न \t O\n",
      "लगाउने \t O\n",
      "यनि \t O\n",
      "भलु \t B-PROFANITY\n",
      "हरु \t O\n",
      "रहेछ \t O\n",
      "पहिला \t O\n",
      "जाती \t O\n",
      "आन्दोलान \t O\n",
      "गरे \t O\n",
      "को \t O\n",
      "थियो \t O\n",
      "त्यो \t O\n",
      "सबै \t O\n",
      "यनि \t O\n",
      "हरु \t O\n",
      "को \t O\n",
      "नाटक \t O\n",
      "रहेछ \t O\n",
      "आजा \t O\n",
      "बल \t O\n",
      "थाहा \t O\n",
      "भयो \t O\n",
      "। \t O\n"
     ]
    }
   ],
   "source": [
    "words = raw_datasets[\"train\"][0][\"tokens\"]\n",
    "labels = raw_datasets[\"train\"][0][\"ner_tags\"]\n",
    "line1 = \"\"\n",
    "line2 = \"\"\n",
    "for word, label in zip(words, labels):\n",
    "    full_label = label_names[label]\n",
    "    max_length = max(len(word), len(full_label))\n",
    "    line1 += word + \" \" * (max_length - len(word) + 1)\n",
    "    line2 += full_label + \" \" * (max_length - len(full_label) + 1)\n",
    "\n",
    "for x, y in zip(line1.split(), line2.split()):\n",
    "    print(x, '\\t', y)"
   ]
  },
  {
   "cell_type": "markdown",
   "id": "4a7bc2b5",
   "metadata": {
    "id": "nQqAKrabE5RF",
    "papermill": {
     "duration": 0.034898,
     "end_time": "2023-12-17T22:18:12.049712",
     "exception": false,
     "start_time": "2023-12-17T22:18:12.014814",
     "status": "completed"
    },
    "tags": []
   },
   "source": [
    "## Tokenization"
   ]
  },
  {
   "cell_type": "code",
   "execution_count": 11,
   "id": "ba7ad52b",
   "metadata": {
    "execution": {
     "iopub.execute_input": "2023-12-17T22:18:12.121673Z",
     "iopub.status.busy": "2023-12-17T22:18:12.120908Z",
     "iopub.status.idle": "2023-12-17T22:18:18.144732Z",
     "shell.execute_reply": "2023-12-17T22:18:18.143885Z"
    },
    "executionInfo": {
     "elapsed": 732,
     "status": "ok",
     "timestamp": 1701057399033,
     "user": {
      "displayName": "Merishna Suwal",
      "userId": "00324140771498152491"
     },
     "user_tz": 300
    },
    "id": "DUXvTMz1EdZp",
    "outputId": "767b547d-2c3a-4270-9cec-26b36e884fbe",
    "papermill": {
     "duration": 6.062234,
     "end_time": "2023-12-17T22:18:18.147066",
     "exception": false,
     "start_time": "2023-12-17T22:18:12.084832",
     "status": "completed"
    },
    "tags": []
   },
   "outputs": [
    {
     "data": {
      "application/vnd.jupyter.widget-view+json": {
       "model_id": "21c05838360a440086f983c21f621014",
       "version_major": 2,
       "version_minor": 0
      },
      "text/plain": [
       "config.json:   0%|          | 0.00/569 [00:00<?, ?B/s]"
      ]
     },
     "metadata": {},
     "output_type": "display_data"
    },
    {
     "data": {
      "application/vnd.jupyter.widget-view+json": {
       "model_id": "87ed3241e4ca40af95139b7ef7a79e55",
       "version_major": 2,
       "version_minor": 0
      },
      "text/plain": [
       "vocab.txt:   0%|          | 0.00/987k [00:00<?, ?B/s]"
      ]
     },
     "metadata": {},
     "output_type": "display_data"
    }
   ],
   "source": [
    "from transformers import AutoTokenizer\n",
    "\n",
    "# model_checkpoint = \"NepBERTa/NepBERTa\"\n",
    "model_checkpoint = \"Rajan/NepaliBERT\"\n",
    "# model_checkpoint = \"Rajan/nepbertaTorch\"\n",
    "# model_checkpoint = \"Sakonii/distilbert-base-nepali\"\n",
    "# model_checkpoint = \"Sakonii/deberta-base-nepali\"\n",
    "# model_checkpoint = \"mrm8488/bert-multi-cased-finetuned-xquadv1\"\n",
    "# model_checkpoint = \"xlm-roberta-large\"\n",
    "# model_checkpoint = \"nlptown/bert-base-multilingual-uncased-sentiment\"\n",
    "# model_checkpoint = \"bert-base-multilingual-uncased\"\n",
    "# model_checkpoint = \"cardiffnlp/twitter-xlm-roberta-base-sentiment\"\n",
    "\n",
    "tokenizer = AutoTokenizer.from_pretrained(model_checkpoint)"
   ]
  },
  {
   "cell_type": "code",
   "execution_count": 12,
   "id": "adf13ff2",
   "metadata": {
    "execution": {
     "iopub.execute_input": "2023-12-17T22:18:18.220814Z",
     "iopub.status.busy": "2023-12-17T22:18:18.219769Z",
     "iopub.status.idle": "2023-12-17T22:18:18.233334Z",
     "shell.execute_reply": "2023-12-17T22:18:18.232283Z"
    },
    "executionInfo": {
     "elapsed": 52,
     "status": "ok",
     "timestamp": 1701057399033,
     "user": {
      "displayName": "Merishna Suwal",
      "userId": "00324140771498152491"
     },
     "user_tz": 300
    },
    "id": "1HB_rJiaE7Kj",
    "outputId": "2c7ecfe6-3cac-46a6-bec4-4cc080c59e6d",
    "papermill": {
     "duration": 0.051996,
     "end_time": "2023-12-17T22:18:18.235212",
     "exception": false,
     "start_time": "2023-12-17T22:18:18.183216",
     "status": "completed"
    },
    "tags": []
   },
   "outputs": [
    {
     "name": "stdout",
     "output_type": "stream",
     "text": [
      "['[CLS]', 'भाल', '##नी', 'सावित', '##री', 'कक', '##रन', '##ी', 'मिल', 'को', 'रह', '##छ', 'आजा', 'पर', '##क', '##ष', '##या', 'थाहा', 'भयो', 'निरमा', '##ल', 'बहिनी', 'लाई', 'बल', '##तका', '##र', 'गर', '##न', 'लगाउन', 'य', '##नि', 'भल', 'हर', 'रह', '##छ', 'पहिला', 'जाती', 'आन', '##दो', '##लान', 'गर', 'को', 'थियो', 'तयो', 'सब', 'य', '##नि', 'हर', 'को', 'नाटक', 'रह', '##छ', 'आजा', 'बल', 'थाहा', 'भयो', '।', '[SEP]']\n"
     ]
    }
   ],
   "source": [
    "inputs = tokenizer(raw_datasets[\"train\"][0][\"tokens\"], is_split_into_words=True)\n",
    "print(inputs.tokens())"
   ]
  },
  {
   "cell_type": "code",
   "execution_count": 13,
   "id": "30a91ee6",
   "metadata": {
    "execution": {
     "iopub.execute_input": "2023-12-17T22:18:18.309419Z",
     "iopub.status.busy": "2023-12-17T22:18:18.309056Z",
     "iopub.status.idle": "2023-12-17T22:18:18.313673Z",
     "shell.execute_reply": "2023-12-17T22:18:18.312791Z"
    },
    "executionInfo": {
     "elapsed": 51,
     "status": "ok",
     "timestamp": 1701057399034,
     "user": {
      "displayName": "Merishna Suwal",
      "userId": "00324140771498152491"
     },
     "user_tz": 300
    },
    "id": "XivkSxxyFHyu",
    "outputId": "0091bd06-70ec-41ae-fd1d-232157adfdc4",
    "papermill": {
     "duration": 0.04432,
     "end_time": "2023-12-17T22:18:18.316069",
     "exception": false,
     "start_time": "2023-12-17T22:18:18.271749",
     "status": "completed"
    },
    "tags": []
   },
   "outputs": [
    {
     "name": "stdout",
     "output_type": "stream",
     "text": [
      "[None, 0, 0, 1, 1, 2, 2, 2, 3, 4, 5, 5, 6, 7, 7, 7, 7, 8, 9, 10, 10, 11, 12, 13, 13, 13, 14, 14, 15, 16, 16, 17, 18, 19, 19, 20, 21, 22, 22, 22, 23, 24, 25, 26, 27, 28, 28, 29, 30, 31, 32, 32, 33, 34, 35, 36, 37, None]\n"
     ]
    }
   ],
   "source": [
    "print(inputs.word_ids())"
   ]
  },
  {
   "cell_type": "markdown",
   "id": "6e6a7705",
   "metadata": {
    "id": "N26-KMJKnCSJ",
    "papermill": {
     "duration": 0.035502,
     "end_time": "2023-12-17T22:18:18.387323",
     "exception": false,
     "start_time": "2023-12-17T22:18:18.351821",
     "status": "completed"
    },
    "tags": []
   },
   "source": [
    "## Data Preprocessing"
   ]
  },
  {
   "cell_type": "code",
   "execution_count": 14,
   "id": "fbb215ed",
   "metadata": {
    "execution": {
     "iopub.execute_input": "2023-12-17T22:18:18.460595Z",
     "iopub.status.busy": "2023-12-17T22:18:18.459684Z",
     "iopub.status.idle": "2023-12-17T22:18:18.466894Z",
     "shell.execute_reply": "2023-12-17T22:18:18.465973Z"
    },
    "executionInfo": {
     "elapsed": 50,
     "status": "ok",
     "timestamp": 1701057399034,
     "user": {
      "displayName": "Merishna Suwal",
      "userId": "00324140771498152491"
     },
     "user_tz": 300
    },
    "id": "6Hn1YMyQFt3B",
    "outputId": "7430e24b-c981-4beb-e12d-0e1234e82aaf",
    "papermill": {
     "duration": 0.045886,
     "end_time": "2023-12-17T22:18:18.468759",
     "exception": false,
     "start_time": "2023-12-17T22:18:18.422873",
     "status": "completed"
    },
    "tags": []
   },
   "outputs": [],
   "source": [
    "# Align the number of labels and the tokens\n",
    "def align_labels_with_tokens(labels, word_ids):\n",
    "    new_labels = []\n",
    "    current_word = None\n",
    "    for word_id in word_ids:\n",
    "        if word_id != current_word:\n",
    "            # Start of a new word!\n",
    "            current_word = word_id\n",
    "            label = -100 if word_id is None else labels[word_id]\n",
    "            new_labels.append(label)\n",
    "        elif word_id is None:\n",
    "            # Special token\n",
    "            new_labels.append(-100)\n",
    "        else:\n",
    "            # Same word as previous token\n",
    "            label = labels[word_id]\n",
    "            # If the label is B-XXX we change it to I-XXX\n",
    "            if label % 2 == 1:\n",
    "                label += 1\n",
    "            new_labels.append(label)\n",
    "\n",
    "    return new_labels"
   ]
  },
  {
   "cell_type": "code",
   "execution_count": 15,
   "id": "e6426050",
   "metadata": {
    "execution": {
     "iopub.execute_input": "2023-12-17T22:18:18.544207Z",
     "iopub.status.busy": "2023-12-17T22:18:18.543383Z",
     "iopub.status.idle": "2023-12-17T22:18:18.549365Z",
     "shell.execute_reply": "2023-12-17T22:18:18.548431Z"
    },
    "executionInfo": {
     "elapsed": 48,
     "status": "ok",
     "timestamp": 1701057399034,
     "user": {
      "displayName": "Merishna Suwal",
      "userId": "00324140771498152491"
     },
     "user_tz": 300
    },
    "id": "mqFGbsdZF_dN",
    "outputId": "11563bb7-d88b-498f-b4a9-0a9f495d5576",
    "papermill": {
     "duration": 0.04539,
     "end_time": "2023-12-17T22:18:18.551488",
     "exception": false,
     "start_time": "2023-12-17T22:18:18.506098",
     "status": "completed"
    },
    "tags": []
   },
   "outputs": [
    {
     "name": "stdout",
     "output_type": "stream",
     "text": [
      "[1, 0, 1, 0, 0, 0, 0, 0, 0, 0, 0, 0, 0, 7, 0, 0, 0, 1, 0, 0, 0, 0, 0, 0, 0, 0, 0, 0, 0, 0, 0, 0, 0, 0, 0, 0, 0, 0]\n",
      "[-100, 1, 2, 0, 0, 1, 2, 2, 0, 0, 0, 0, 0, 0, 0, 0, 0, 0, 0, 0, 0, 0, 0, 7, 8, 8, 0, 0, 0, 0, 0, 1, 0, 0, 0, 0, 0, 0, 0, 0, 0, 0, 0, 0, 0, 0, 0, 0, 0, 0, 0, 0, 0, 0, 0, 0, 0, -100]\n"
     ]
    }
   ],
   "source": [
    "labels = raw_datasets[\"train\"][0][\"ner_tags\"]\n",
    "word_ids = inputs.word_ids()\n",
    "print(labels)\n",
    "print(align_labels_with_tokens(labels, word_ids))"
   ]
  },
  {
   "cell_type": "code",
   "execution_count": 16,
   "id": "91862483",
   "metadata": {
    "execution": {
     "iopub.execute_input": "2023-12-17T22:18:18.625769Z",
     "iopub.status.busy": "2023-12-17T22:18:18.624875Z",
     "iopub.status.idle": "2023-12-17T22:18:18.630843Z",
     "shell.execute_reply": "2023-12-17T22:18:18.629955Z"
    },
    "executionInfo": {
     "elapsed": 46,
     "status": "ok",
     "timestamp": 1701057399034,
     "user": {
      "displayName": "Merishna Suwal",
      "userId": "00324140771498152491"
     },
     "user_tz": 300
    },
    "id": "JXezKVM0GCBz",
    "outputId": "3d95a342-cc53-4352-d067-c6101f165e9e",
    "papermill": {
     "duration": 0.044903,
     "end_time": "2023-12-17T22:18:18.632843",
     "exception": false,
     "start_time": "2023-12-17T22:18:18.587940",
     "status": "completed"
    },
    "tags": []
   },
   "outputs": [],
   "source": [
    "# Helper function to tokenize and align labels\n",
    "def tokenize_and_align_labels(examples):\n",
    "    tokenized_inputs = tokenizer(\n",
    "        examples[\"tokens\"], truncation=True, is_split_into_words=True\n",
    "    )\n",
    "    all_labels = examples[\"ner_tags\"]\n",
    "    new_labels = []\n",
    "    for i, labels in enumerate(all_labels):\n",
    "        word_ids = tokenized_inputs.word_ids(i)\n",
    "        new_labels.append(align_labels_with_tokens(labels, word_ids))\n",
    "\n",
    "    tokenized_inputs[\"labels\"] = new_labels\n",
    "    return tokenized_inputs"
   ]
  },
  {
   "cell_type": "code",
   "execution_count": 17,
   "id": "7e6fe867",
   "metadata": {
    "execution": {
     "iopub.execute_input": "2023-12-17T22:18:18.707901Z",
     "iopub.status.busy": "2023-12-17T22:18:18.707027Z",
     "iopub.status.idle": "2023-12-17T22:18:19.266649Z",
     "shell.execute_reply": "2023-12-17T22:18:19.265766Z"
    },
    "executionInfo": {
     "elapsed": 799,
     "status": "ok",
     "timestamp": 1701057399790,
     "user": {
      "displayName": "Merishna Suwal",
      "userId": "00324140771498152491"
     },
     "user_tz": 300
    },
    "id": "V29wJtgyGPkD",
    "outputId": "c43dde60-61a6-471a-d478-5025abd1e085",
    "papermill": {
     "duration": 0.599429,
     "end_time": "2023-12-17T22:18:19.268772",
     "exception": false,
     "start_time": "2023-12-17T22:18:18.669343",
     "status": "completed"
    },
    "tags": []
   },
   "outputs": [
    {
     "data": {
      "application/vnd.jupyter.widget-view+json": {
       "model_id": "e9b2ba4890e846a09087716b489a5983",
       "version_major": 2,
       "version_minor": 0
      },
      "text/plain": [
       "Map:   0%|          | 0/2323 [00:00<?, ? examples/s]"
      ]
     },
     "metadata": {},
     "output_type": "display_data"
    },
    {
     "name": "stderr",
     "output_type": "stream",
     "text": [
      "Asking to truncate to max_length but no maximum length is provided and the model has no predefined maximum length. Default to no truncation.\n"
     ]
    },
    {
     "data": {
      "application/vnd.jupyter.widget-view+json": {
       "model_id": "89ef449433154bda84d436402df4523d",
       "version_major": 2,
       "version_minor": 0
      },
      "text/plain": [
       "Map:   0%|          | 0/330 [00:00<?, ? examples/s]"
      ]
     },
     "metadata": {},
     "output_type": "display_data"
    },
    {
     "data": {
      "application/vnd.jupyter.widget-view+json": {
       "model_id": "7782b67b8a014bc19c53d672fdd97c1d",
       "version_major": 2,
       "version_minor": 0
      },
      "text/plain": [
       "Map:   0%|          | 0/280 [00:00<?, ? examples/s]"
      ]
     },
     "metadata": {},
     "output_type": "display_data"
    }
   ],
   "source": [
    "# Tokenize all the examples from the datasets\n",
    "tokenized_datasets = raw_datasets.map(\n",
    "    tokenize_and_align_labels,\n",
    "    batched=True,\n",
    "    remove_columns=raw_datasets[\"train\"].column_names,\n",
    ")"
   ]
  },
  {
   "cell_type": "markdown",
   "id": "a8cec221",
   "metadata": {
    "id": "IGu3qmRkG2N1",
    "papermill": {
     "duration": 0.03717,
     "end_time": "2023-12-17T22:18:19.343755",
     "exception": false,
     "start_time": "2023-12-17T22:18:19.306585",
     "status": "completed"
    },
    "tags": []
   },
   "source": [
    "# Fine Tuning"
   ]
  },
  {
   "cell_type": "markdown",
   "id": "8ab3d71f",
   "metadata": {
    "id": "BfrSd1tWG45r",
    "papermill": {
     "duration": 0.036127,
     "end_time": "2023-12-17T22:18:19.416425",
     "exception": false,
     "start_time": "2023-12-17T22:18:19.380298",
     "status": "completed"
    },
    "tags": []
   },
   "source": [
    "## Data Collation"
   ]
  },
  {
   "cell_type": "markdown",
   "id": "f57298c4",
   "metadata": {
    "id": "YBY_qVxv617B",
    "papermill": {
     "duration": 0.038261,
     "end_time": "2023-12-17T22:18:19.491015",
     "exception": false,
     "start_time": "2023-12-17T22:18:19.452754",
     "status": "completed"
    },
    "tags": []
   },
   "source": [
    "Prepare the dataloader for the training session"
   ]
  },
  {
   "cell_type": "code",
   "execution_count": 18,
   "id": "2ae7027c",
   "metadata": {
    "execution": {
     "iopub.execute_input": "2023-12-17T22:18:19.566698Z",
     "iopub.status.busy": "2023-12-17T22:18:19.566062Z",
     "iopub.status.idle": "2023-12-17T22:18:30.386345Z",
     "shell.execute_reply": "2023-12-17T22:18:30.385370Z"
    },
    "executionInfo": {
     "elapsed": 32,
     "status": "ok",
     "timestamp": 1701057399790,
     "user": {
      "displayName": "Merishna Suwal",
      "userId": "00324140771498152491"
     },
     "user_tz": 300
    },
    "id": "t3R7wlG_GWL5",
    "outputId": "71e09440-1806-4a7a-8e31-4a4a2cca416c",
    "papermill": {
     "duration": 10.860453,
     "end_time": "2023-12-17T22:18:30.388573",
     "exception": false,
     "start_time": "2023-12-17T22:18:19.528120",
     "status": "completed"
    },
    "tags": []
   },
   "outputs": [
    {
     "name": "stderr",
     "output_type": "stream",
     "text": [
      "You're using a BertTokenizerFast tokenizer. Please note that with a fast tokenizer, using the `__call__` method is faster than using a method to encode the text followed by a call to the `pad` method to get a padded encoding.\n"
     ]
    },
    {
     "data": {
      "text/plain": [
       "tensor([[-100,    1,    2,    0,    0,    1,    2,    2,    0,    0,    0,    0,\n",
       "            0,    0,    0,    0,    0,    0,    0,    0,    0,    0,    0,    7,\n",
       "            8,    8,    0,    0,    0,    0,    0,    1,    0,    0,    0,    0,\n",
       "            0,    0,    0,    0,    0,    0,    0,    0,    0,    0,    0,    0,\n",
       "            0,    0,    0,    0,    0,    0,    0,    0,    0, -100],\n",
       "        [-100,    0,    0,    0,    0,    0,    0,    0,    0,    0,    0,    0,\n",
       "            0,    0,    0,    5,    6,    6,    6,    6,    0,    0,    0,    0,\n",
       "            0,    0,    0,    0,    0,    0,    0,    0,    0, -100, -100, -100,\n",
       "         -100, -100, -100, -100, -100, -100, -100, -100, -100, -100, -100, -100,\n",
       "         -100, -100, -100, -100, -100, -100, -100, -100, -100, -100]])"
      ]
     },
     "execution_count": 18,
     "metadata": {},
     "output_type": "execute_result"
    }
   ],
   "source": [
    "from transformers import DataCollatorForTokenClassification\n",
    "\n",
    "data_collator = DataCollatorForTokenClassification(tokenizer=tokenizer)\n",
    "\n",
    "batch = data_collator([tokenized_datasets[\"train\"][i] for i in range(2)])\n",
    "batch[\"labels\"]"
   ]
  },
  {
   "cell_type": "code",
   "execution_count": 19,
   "id": "71ddd7fc",
   "metadata": {
    "execution": {
     "iopub.execute_input": "2023-12-17T22:18:30.465624Z",
     "iopub.status.busy": "2023-12-17T22:18:30.464651Z",
     "iopub.status.idle": "2023-12-17T22:18:30.471079Z",
     "shell.execute_reply": "2023-12-17T22:18:30.470190Z"
    },
    "executionInfo": {
     "elapsed": 30,
     "status": "ok",
     "timestamp": 1701057399790,
     "user": {
      "displayName": "Merishna Suwal",
      "userId": "00324140771498152491"
     },
     "user_tz": 300
    },
    "id": "NwFcL5IMHApf",
    "outputId": "6e36f154-7002-4474-b8c4-b2c663a272f5",
    "papermill": {
     "duration": 0.047464,
     "end_time": "2023-12-17T22:18:30.473475",
     "exception": false,
     "start_time": "2023-12-17T22:18:30.426011",
     "status": "completed"
    },
    "tags": []
   },
   "outputs": [
    {
     "name": "stdout",
     "output_type": "stream",
     "text": [
      "[-100, 1, 2, 0, 0, 1, 2, 2, 0, 0, 0, 0, 0, 0, 0, 0, 0, 0, 0, 0, 0, 0, 0, 7, 8, 8, 0, 0, 0, 0, 0, 1, 0, 0, 0, 0, 0, 0, 0, 0, 0, 0, 0, 0, 0, 0, 0, 0, 0, 0, 0, 0, 0, 0, 0, 0, 0, -100]\n",
      "[-100, 0, 0, 0, 0, 0, 0, 0, 0, 0, 0, 0, 0, 0, 0, 5, 6, 6, 6, 6, 0, 0, 0, 0, 0, 0, 0, 0, 0, 0, 0, 0, 0, -100]\n"
     ]
    }
   ],
   "source": [
    "for i in range(2):\n",
    "    print(tokenized_datasets[\"train\"][i][\"labels\"])"
   ]
  },
  {
   "cell_type": "markdown",
   "id": "654bcabc",
   "metadata": {
    "id": "V3iGcDJZnH7J",
    "papermill": {
     "duration": 0.038704,
     "end_time": "2023-12-17T22:18:30.550515",
     "exception": false,
     "start_time": "2023-12-17T22:18:30.511811",
     "status": "completed"
    },
    "tags": []
   },
   "source": [
    "## Setup Evaluation"
   ]
  },
  {
   "cell_type": "code",
   "execution_count": 20,
   "id": "fc2d7f79",
   "metadata": {
    "execution": {
     "iopub.execute_input": "2023-12-17T22:18:30.627295Z",
     "iopub.status.busy": "2023-12-17T22:18:30.626906Z",
     "iopub.status.idle": "2023-12-17T22:18:33.521080Z",
     "shell.execute_reply": "2023-12-17T22:18:33.520223Z"
    },
    "executionInfo": {
     "elapsed": 737,
     "status": "ok",
     "timestamp": 1701057400498,
     "user": {
      "displayName": "Merishna Suwal",
      "userId": "00324140771498152491"
     },
     "user_tz": 300
    },
    "id": "q-69MVMlHXXP",
    "outputId": "e49b36ca-8015-442d-9dec-c028e8690978",
    "papermill": {
     "duration": 2.93503,
     "end_time": "2023-12-17T22:18:33.523269",
     "exception": false,
     "start_time": "2023-12-17T22:18:30.588239",
     "status": "completed"
    },
    "tags": []
   },
   "outputs": [
    {
     "data": {
      "application/vnd.jupyter.widget-view+json": {
       "model_id": "7b1f720f80394acc8ad86f6d082e1e22",
       "version_major": 2,
       "version_minor": 0
      },
      "text/plain": [
       "Downloading builder script:   0%|          | 0.00/6.34k [00:00<?, ?B/s]"
      ]
     },
     "metadata": {},
     "output_type": "display_data"
    }
   ],
   "source": [
    "import evaluate\n",
    "import numpy as np\n",
    "\n",
    "metric = evaluate.load(\"seqeval\")\n",
    "\n",
    "\n",
    "def compute_metrics(eval_preds):\n",
    "    logits, labels = eval_preds\n",
    "    predictions = np.argmax(logits, axis=-1)\n",
    "\n",
    "    # Remove ignored index (special tokens) and convert to labels\n",
    "    true_labels = [[label_names[l] for l in label if l != -100] for label in labels]\n",
    "    true_predictions = [\n",
    "        [label_names[p] for (p, l) in zip(prediction, label) if l != -100]\n",
    "        for prediction, label in zip(predictions, labels)\n",
    "    ]\n",
    "    all_metrics = metric.compute(predictions=true_predictions, references=true_labels)\n",
    "    return {\n",
    "        \"precision\": all_metrics[\"overall_precision\"],\n",
    "        \"recall\": all_metrics[\"overall_recall\"],\n",
    "        \"f1\": all_metrics[\"overall_f1\"],\n",
    "        \"accuracy\": all_metrics[\"overall_accuracy\"],\n",
    "    }"
   ]
  },
  {
   "cell_type": "code",
   "execution_count": 21,
   "id": "4a3e5d78",
   "metadata": {
    "execution": {
     "iopub.execute_input": "2023-12-17T22:18:33.602479Z",
     "iopub.status.busy": "2023-12-17T22:18:33.601581Z",
     "iopub.status.idle": "2023-12-17T22:18:33.606774Z",
     "shell.execute_reply": "2023-12-17T22:18:33.605735Z"
    },
    "executionInfo": {
     "elapsed": 29,
     "status": "ok",
     "timestamp": 1701057400510,
     "user": {
      "displayName": "Merishna Suwal",
      "userId": "00324140771498152491"
     },
     "user_tz": 300
    },
    "id": "xudMcQ_rHxSd",
    "outputId": "aa391355-2676-4c17-c1a8-4a6a1fd2b836",
    "papermill": {
     "duration": 0.045846,
     "end_time": "2023-12-17T22:18:33.608859",
     "exception": false,
     "start_time": "2023-12-17T22:18:33.563013",
     "status": "completed"
    },
    "tags": []
   },
   "outputs": [],
   "source": [
    "id2label = {i: label for i, label in enumerate(label_names)}\n",
    "label2id = {v: k for k, v in id2label.items()}"
   ]
  },
  {
   "cell_type": "code",
   "execution_count": 22,
   "id": "5060b620",
   "metadata": {
    "execution": {
     "iopub.execute_input": "2023-12-17T22:18:33.686044Z",
     "iopub.status.busy": "2023-12-17T22:18:33.685667Z",
     "iopub.status.idle": "2023-12-17T22:18:40.480029Z",
     "shell.execute_reply": "2023-12-17T22:18:40.479022Z"
    },
    "executionInfo": {
     "elapsed": 15999,
     "status": "ok",
     "timestamp": 1701057416482,
     "user": {
      "displayName": "Merishna Suwal",
      "userId": "00324140771498152491"
     },
     "user_tz": 300
    },
    "id": "50P4mCTiIGuZ",
    "outputId": "d1913a69-7ece-4445-e812-13aff492874a",
    "papermill": {
     "duration": 6.835523,
     "end_time": "2023-12-17T22:18:40.482317",
     "exception": false,
     "start_time": "2023-12-17T22:18:33.646794",
     "status": "completed"
    },
    "tags": []
   },
   "outputs": [
    {
     "data": {
      "application/vnd.jupyter.widget-view+json": {
       "model_id": "66276f9400f84c5cab0ef3a0d15695c7",
       "version_major": 2,
       "version_minor": 0
      },
      "text/plain": [
       "pytorch_model.bin:   0%|          | 0.00/328M [00:00<?, ?B/s]"
      ]
     },
     "metadata": {},
     "output_type": "display_data"
    },
    {
     "name": "stderr",
     "output_type": "stream",
     "text": [
      "Some weights of BertForTokenClassification were not initialized from the model checkpoint at Rajan/NepaliBERT and are newly initialized: ['classifier.bias', 'classifier.weight']\n",
      "You should probably TRAIN this model on a down-stream task to be able to use it for predictions and inference.\n"
     ]
    }
   ],
   "source": [
    "from transformers import AutoModelForTokenClassification\n",
    "\n",
    "model = AutoModelForTokenClassification.from_pretrained(\n",
    "    model_checkpoint,\n",
    "    id2label=id2label,\n",
    "    label2id=label2id,\n",
    "    # from_tf=True,\n",
    ")\n"
   ]
  },
  {
   "cell_type": "code",
   "execution_count": 23,
   "id": "048f97c5",
   "metadata": {
    "execution": {
     "iopub.execute_input": "2023-12-17T22:18:40.560438Z",
     "iopub.status.busy": "2023-12-17T22:18:40.559668Z",
     "iopub.status.idle": "2023-12-17T22:18:40.566541Z",
     "shell.execute_reply": "2023-12-17T22:18:40.565535Z"
    },
    "executionInfo": {
     "elapsed": 33,
     "status": "ok",
     "timestamp": 1701057416482,
     "user": {
      "displayName": "Merishna Suwal",
      "userId": "00324140771498152491"
     },
     "user_tz": 300
    },
    "id": "ikGyFrkgIPhW",
    "outputId": "38052fee-ed6b-43f6-a748-2c543bf1c61a",
    "papermill": {
     "duration": 0.047668,
     "end_time": "2023-12-17T22:18:40.568557",
     "exception": false,
     "start_time": "2023-12-17T22:18:40.520889",
     "status": "completed"
    },
    "tags": []
   },
   "outputs": [
    {
     "data": {
      "text/plain": [
       "9"
      ]
     },
     "execution_count": 23,
     "metadata": {},
     "output_type": "execute_result"
    }
   ],
   "source": [
    "model.config.num_labels"
   ]
  },
  {
   "cell_type": "markdown",
   "id": "cd1316c8",
   "metadata": {
    "id": "4vvXDoFGsZMB",
    "papermill": {
     "duration": 0.037583,
     "end_time": "2023-12-17T22:18:40.643965",
     "exception": false,
     "start_time": "2023-12-17T22:18:40.606382",
     "status": "completed"
    },
    "tags": []
   },
   "source": [
    "## Training"
   ]
  },
  {
   "cell_type": "code",
   "execution_count": 24,
   "id": "92adc0e6",
   "metadata": {
    "execution": {
     "iopub.execute_input": "2023-12-17T22:18:40.720411Z",
     "iopub.status.busy": "2023-12-17T22:18:40.720076Z",
     "iopub.status.idle": "2023-12-17T22:18:43.140980Z",
     "shell.execute_reply": "2023-12-17T22:18:43.139345Z"
    },
    "executionInfo": {
     "elapsed": 1055,
     "status": "ok",
     "timestamp": 1701057417507,
     "user": {
      "displayName": "Merishna Suwal",
      "userId": "00324140771498152491"
     },
     "user_tz": 300
    },
    "id": "X_lupvWXIaCA",
    "outputId": "f71da098-b92c-43a5-a8a9-55c226b8569c",
    "papermill": {
     "duration": 2.462968,
     "end_time": "2023-12-17T22:18:43.144257",
     "exception": false,
     "start_time": "2023-12-17T22:18:40.681289",
     "status": "completed"
    },
    "tags": []
   },
   "outputs": [
    {
     "name": "stderr",
     "output_type": "stream",
     "text": [
      "\u001b[34m\u001b[1mwandb\u001b[0m: W&B API key is configured. Use \u001b[1m`wandb login --relogin`\u001b[0m to force relogin\n",
      "\u001b[34m\u001b[1mwandb\u001b[0m: \u001b[33mWARNING\u001b[0m If you're specifying your api key in code, ensure this code is not shared publicly.\n",
      "\u001b[34m\u001b[1mwandb\u001b[0m: \u001b[33mWARNING\u001b[0m Consider setting the WANDB_API_KEY environment variable, or running `wandb login` from the command line.\n",
      "\u001b[34m\u001b[1mwandb\u001b[0m: Appending key for api.wandb.ai to your netrc file: /root/.netrc\n"
     ]
    },
    {
     "data": {
      "text/plain": [
       "True"
      ]
     },
     "execution_count": 24,
     "metadata": {},
     "output_type": "execute_result"
    }
   ],
   "source": [
    "# from google.colab import userdata\n",
    "# from huggingface_hub import login, notebook_login\n",
    "\n",
    "# # notebook_login()\n",
    "# login(token=userdata.get('hugging_face'))\n",
    "\n",
    "import wandb\n",
    "from kaggle_secrets import UserSecretsClient\n",
    "user_secrets = UserSecretsClient()\n",
    "wandb_secret = user_secrets.get_secret(\"wandb\")\n",
    "wandb.login(key=wandb_secret)"
   ]
  },
  {
   "cell_type": "code",
   "execution_count": 25,
   "id": "7b79fa86",
   "metadata": {
    "execution": {
     "iopub.execute_input": "2023-12-17T22:18:43.242118Z",
     "iopub.status.busy": "2023-12-17T22:18:43.241230Z",
     "iopub.status.idle": "2023-12-17T22:20:39.972037Z",
     "shell.execute_reply": "2023-12-17T22:20:39.970908Z"
    },
    "executionInfo": {
     "elapsed": 175419,
     "status": "ok",
     "timestamp": 1701057592890,
     "user": {
      "displayName": "Merishna Suwal",
      "userId": "00324140771498152491"
     },
     "user_tz": 300
    },
    "id": "wiGQ-gUyIqay",
    "outputId": "62b248a1-8a2f-4eed-9851-021fffdc0578",
    "papermill": {
     "duration": 116.776847,
     "end_time": "2023-12-17T22:20:39.974168",
     "exception": false,
     "start_time": "2023-12-17T22:18:43.197321",
     "status": "completed"
    },
    "tags": []
   },
   "outputs": [
    {
     "name": "stderr",
     "output_type": "stream",
     "text": [
      "\u001b[34m\u001b[1mwandb\u001b[0m: Currently logged in as: \u001b[33moyashi163\u001b[0m. Use \u001b[1m`wandb login --relogin`\u001b[0m to force relogin\n",
      "\u001b[34m\u001b[1mwandb\u001b[0m: Tracking run with wandb version 0.16.1\n",
      "\u001b[34m\u001b[1mwandb\u001b[0m: Run data is saved locally in \u001b[35m\u001b[1m/kaggle/working/wandb/run-20231217_221848-7si4y9tt\u001b[0m\n",
      "\u001b[34m\u001b[1mwandb\u001b[0m: Run \u001b[1m`wandb offline`\u001b[0m to turn off syncing.\n",
      "\u001b[34m\u001b[1mwandb\u001b[0m: Syncing run \u001b[33mkind-moon-33\u001b[0m\n",
      "\u001b[34m\u001b[1mwandb\u001b[0m: ⭐️ View project at \u001b[34m\u001b[4mhttps://wandb.ai/oyashi163/huggingface\u001b[0m\n",
      "\u001b[34m\u001b[1mwandb\u001b[0m: 🚀 View run at \u001b[34m\u001b[4mhttps://wandb.ai/oyashi163/huggingface/runs/7si4y9tt\u001b[0m\n"
     ]
    },
    {
     "data": {
      "text/html": [
       "\n",
       "    <div>\n",
       "      \n",
       "      <progress value='1746' max='1746' style='width:300px; height:20px; vertical-align: middle;'></progress>\n",
       "      [1746/1746 01:18, Epoch 6/6]\n",
       "    </div>\n",
       "    <table border=\"1\" class=\"dataframe\">\n",
       "  <thead>\n",
       " <tr style=\"text-align: left;\">\n",
       "      <th>Epoch</th>\n",
       "      <th>Training Loss</th>\n",
       "      <th>Validation Loss</th>\n",
       "      <th>Precision</th>\n",
       "      <th>Recall</th>\n",
       "      <th>F1</th>\n",
       "      <th>Accuracy</th>\n",
       "    </tr>\n",
       "  </thead>\n",
       "  <tbody>\n",
       "    <tr>\n",
       "      <td>1</td>\n",
       "      <td>No log</td>\n",
       "      <td>0.590977</td>\n",
       "      <td>0.117904</td>\n",
       "      <td>0.115880</td>\n",
       "      <td>0.116883</td>\n",
       "      <td>0.814536</td>\n",
       "    </tr>\n",
       "    <tr>\n",
       "      <td>2</td>\n",
       "      <td>0.615400</td>\n",
       "      <td>0.539762</td>\n",
       "      <td>0.180974</td>\n",
       "      <td>0.167382</td>\n",
       "      <td>0.173913</td>\n",
       "      <td>0.829344</td>\n",
       "    </tr>\n",
       "    <tr>\n",
       "      <td>3</td>\n",
       "      <td>0.615400</td>\n",
       "      <td>0.533893</td>\n",
       "      <td>0.186747</td>\n",
       "      <td>0.266094</td>\n",
       "      <td>0.219469</td>\n",
       "      <td>0.826876</td>\n",
       "    </tr>\n",
       "    <tr>\n",
       "      <td>4</td>\n",
       "      <td>0.440000</td>\n",
       "      <td>0.522532</td>\n",
       "      <td>0.207012</td>\n",
       "      <td>0.266094</td>\n",
       "      <td>0.232864</td>\n",
       "      <td>0.831811</td>\n",
       "    </tr>\n",
       "    <tr>\n",
       "      <td>5</td>\n",
       "      <td>0.440000</td>\n",
       "      <td>0.527699</td>\n",
       "      <td>0.223368</td>\n",
       "      <td>0.278970</td>\n",
       "      <td>0.248092</td>\n",
       "      <td>0.834650</td>\n",
       "    </tr>\n",
       "    <tr>\n",
       "      <td>6</td>\n",
       "      <td>0.358100</td>\n",
       "      <td>0.534489</td>\n",
       "      <td>0.218409</td>\n",
       "      <td>0.300429</td>\n",
       "      <td>0.252936</td>\n",
       "      <td>0.830207</td>\n",
       "    </tr>\n",
       "  </tbody>\n",
       "</table><p>"
      ],
      "text/plain": [
       "<IPython.core.display.HTML object>"
      ]
     },
     "metadata": {},
     "output_type": "display_data"
    },
    {
     "data": {
      "text/plain": [
       "TrainOutput(global_step=1746, training_loss=0.4497850992698713, metrics={'train_runtime': 111.3768, 'train_samples_per_second': 125.143, 'train_steps_per_second': 15.677, 'total_flos': 172421137645596.0, 'train_loss': 0.4497850992698713, 'epoch': 6.0})"
      ]
     },
     "execution_count": 25,
     "metadata": {},
     "output_type": "execute_result"
    }
   ],
   "source": [
    "from transformers import TrainingArguments, Trainer\n",
    "\n",
    "model_name = \"nepner\"\n",
    "\n",
    "args = TrainingArguments(\n",
    "    model_name,\n",
    "    evaluation_strategy=\"epoch\",\n",
    "    learning_rate=2e-5,\n",
    "    num_train_epochs=6,\n",
    "    weight_decay=0.01,\n",
    "    push_to_hub=False,\n",
    "    save_strategy=\"no\"\n",
    ")\n",
    "\n",
    "trainer = Trainer(\n",
    "    model=model,\n",
    "    args=args,\n",
    "    train_dataset=tokenized_datasets[\"train\"],\n",
    "    eval_dataset=tokenized_datasets[\"validation\"],\n",
    "    data_collator=data_collator,\n",
    "    compute_metrics=compute_metrics,\n",
    "    tokenizer=tokenizer,\n",
    ")\n",
    "trainer.train()"
   ]
  },
  {
   "cell_type": "code",
   "execution_count": 26,
   "id": "fe13cdd2",
   "metadata": {
    "execution": {
     "iopub.execute_input": "2023-12-17T22:20:40.055663Z",
     "iopub.status.busy": "2023-12-17T22:20:40.055363Z",
     "iopub.status.idle": "2023-12-17T22:20:40.847378Z",
     "shell.execute_reply": "2023-12-17T22:20:40.846467Z"
    },
    "executionInfo": {
     "elapsed": 2388,
     "status": "ok",
     "timestamp": 1701057819080,
     "user": {
      "displayName": "Merishna Suwal",
      "userId": "00324140771498152491"
     },
     "user_tz": 300
    },
    "id": "K3Wby-ayI7nk",
    "outputId": "a5066098-7358-4d68-c854-2c7111414cd4",
    "papermill": {
     "duration": 0.834275,
     "end_time": "2023-12-17T22:20:40.849358",
     "exception": false,
     "start_time": "2023-12-17T22:20:40.015083",
     "status": "completed"
    },
    "tags": []
   },
   "outputs": [
    {
     "data": {
      "text/html": [],
      "text/plain": [
       "<IPython.core.display.HTML object>"
      ]
     },
     "metadata": {},
     "output_type": "display_data"
    },
    {
     "data": {
      "text/plain": [
       "{'eval_loss': 0.53448885679245,\n",
       " 'eval_precision': 0.21840873634945399,\n",
       " 'eval_recall': 0.30042918454935624,\n",
       " 'eval_f1': 0.2529358626919603,\n",
       " 'eval_accuracy': 0.8302073050345509,\n",
       " 'eval_runtime': 0.7805,\n",
       " 'eval_samples_per_second': 422.816,\n",
       " 'eval_steps_per_second': 53.813,\n",
       " 'epoch': 6.0}"
      ]
     },
     "execution_count": 26,
     "metadata": {},
     "output_type": "execute_result"
    }
   ],
   "source": [
    "trainer.evaluate()"
   ]
  },
  {
   "cell_type": "markdown",
   "id": "5bd433d9",
   "metadata": {
    "id": "edGfnEMhBKrq",
    "papermill": {
     "duration": 0.040887,
     "end_time": "2023-12-17T22:20:40.933904",
     "exception": false,
     "start_time": "2023-12-17T22:20:40.893017",
     "status": "completed"
    },
    "tags": []
   },
   "source": [
    "## Save the model"
   ]
  },
  {
   "cell_type": "code",
   "execution_count": 27,
   "id": "fd31bf6a",
   "metadata": {
    "execution": {
     "iopub.execute_input": "2023-12-17T22:20:41.021894Z",
     "iopub.status.busy": "2023-12-17T22:20:41.021252Z",
     "iopub.status.idle": "2023-12-17T22:20:41.804077Z",
     "shell.execute_reply": "2023-12-17T22:20:41.803071Z"
    },
    "executionInfo": {
     "elapsed": 11131,
     "status": "ok",
     "timestamp": 1701057830384,
     "user": {
      "displayName": "Merishna Suwal",
      "userId": "00324140771498152491"
     },
     "user_tz": 300
    },
    "id": "94bAP6D_ud5e",
    "outputId": "5bc409a6-8f3b-4772-fb13-abeef6085781",
    "papermill": {
     "duration": 0.83138,
     "end_time": "2023-12-17T22:20:41.806498",
     "exception": false,
     "start_time": "2023-12-17T22:20:40.975118",
     "status": "completed"
    },
    "tags": []
   },
   "outputs": [],
   "source": [
    "saved_model_path='nepner'\n",
    "trainer.save_model(saved_model_path)"
   ]
  },
  {
   "cell_type": "markdown",
   "id": "46c4a9e9",
   "metadata": {
    "id": "zOzIt3w0sbTi",
    "papermill": {
     "duration": 0.038989,
     "end_time": "2023-12-17T22:20:41.885895",
     "exception": false,
     "start_time": "2023-12-17T22:20:41.846906",
     "status": "completed"
    },
    "tags": []
   },
   "source": [
    "## Evaluation"
   ]
  },
  {
   "cell_type": "code",
   "execution_count": 28,
   "id": "fca998e6",
   "metadata": {
    "execution": {
     "iopub.execute_input": "2023-12-17T22:20:41.965935Z",
     "iopub.status.busy": "2023-12-17T22:20:41.965176Z",
     "iopub.status.idle": "2023-12-17T22:20:42.652129Z",
     "shell.execute_reply": "2023-12-17T22:20:42.651268Z"
    },
    "executionInfo": {
     "elapsed": 1793,
     "status": "ok",
     "timestamp": 1701057832151,
     "user": {
      "displayName": "Merishna Suwal",
      "userId": "00324140771498152491"
     },
     "user_tz": 300
    },
    "id": "lpnKhs83sc0H",
    "outputId": "e039c5da-7205-4418-fc5f-22e8cc58c1fc",
    "papermill": {
     "duration": 0.728951,
     "end_time": "2023-12-17T22:20:42.654086",
     "exception": false,
     "start_time": "2023-12-17T22:20:41.925135",
     "status": "completed"
    },
    "tags": []
   },
   "outputs": [],
   "source": [
    "predictions = trainer.predict(tokenized_datasets[\"test\"])"
   ]
  },
  {
   "cell_type": "code",
   "execution_count": 29,
   "id": "540bdc5a",
   "metadata": {
    "execution": {
     "iopub.execute_input": "2023-12-17T22:20:42.734106Z",
     "iopub.status.busy": "2023-12-17T22:20:42.733816Z",
     "iopub.status.idle": "2023-12-17T22:20:42.761649Z",
     "shell.execute_reply": "2023-12-17T22:20:42.760752Z"
    },
    "executionInfo": {
     "elapsed": 40,
     "status": "ok",
     "timestamp": 1701057832152,
     "user": {
      "displayName": "Merishna Suwal",
      "userId": "00324140771498152491"
     },
     "user_tz": 300
    },
    "id": "fnQSJrrZC-Fa",
    "outputId": "b3adf32f-2522-4e90-c2d7-8152312d51a7",
    "papermill": {
     "duration": 0.069918,
     "end_time": "2023-12-17T22:20:42.763514",
     "exception": false,
     "start_time": "2023-12-17T22:20:42.693596",
     "status": "completed"
    },
    "tags": []
   },
   "outputs": [
    {
     "name": "stdout",
     "output_type": "stream",
     "text": [
      "Metric          Score\n",
      "--------------  -------------------\n",
      "test_precision  21.97%\n",
      "test_recall     27.750000000000004%\n",
      "test_f1         24.52%\n",
      "test_accuracy   83.71%\n"
     ]
    }
   ],
   "source": [
    "from tabulate import tabulate\n",
    "\n",
    "metrics = ['precision', 'recall', 'f1', 'accuracy']\n",
    "prediction_results = []\n",
    "\n",
    "for key, val in predictions.metrics.items():\n",
    "    if any(item in key for item in metrics):\n",
    "        prediction_results.append([key, str(round(val,4)*100)+'%'])\n",
    "\n",
    "print(tabulate(prediction_results, headers=['Metric', 'Score']))"
   ]
  },
  {
   "cell_type": "markdown",
   "id": "112a20a4",
   "metadata": {
    "id": "3Wi7Cw03qZd_",
    "papermill": {
     "duration": 0.03863,
     "end_time": "2023-12-17T22:20:42.841134",
     "exception": false,
     "start_time": "2023-12-17T22:20:42.802504",
     "status": "completed"
    },
    "tags": []
   },
   "source": [
    "## Inference"
   ]
  },
  {
   "cell_type": "code",
   "execution_count": 30,
   "id": "8d889330",
   "metadata": {
    "execution": {
     "iopub.execute_input": "2023-12-17T22:20:42.920172Z",
     "iopub.status.busy": "2023-12-17T22:20:42.919858Z",
     "iopub.status.idle": "2023-12-17T22:20:43.154043Z",
     "shell.execute_reply": "2023-12-17T22:20:43.152884Z"
    },
    "executionInfo": {
     "elapsed": 1968,
     "status": "ok",
     "timestamp": 1701057834083,
     "user": {
      "displayName": "Merishna Suwal",
      "userId": "00324140771498152491"
     },
     "user_tz": 300
    },
    "id": "C3paUmtqqaar",
    "outputId": "12eb49bc-9522-4d9e-e5cb-280086fbb276",
    "papermill": {
     "duration": 0.276813,
     "end_time": "2023-12-17T22:20:43.156766",
     "exception": false,
     "start_time": "2023-12-17T22:20:42.879953",
     "status": "completed"
    },
    "tags": []
   },
   "outputs": [],
   "source": [
    "from transformers import pipeline\n",
    "\n",
    "token_classifier = pipeline(\n",
    "    \"token-classification\", model=saved_model_path, aggregation_strategy=\"simple\"\n",
    ")\n"
   ]
  },
  {
   "cell_type": "code",
   "execution_count": 31,
   "id": "17c4b07f",
   "metadata": {
    "execution": {
     "iopub.execute_input": "2023-12-17T22:20:43.242536Z",
     "iopub.status.busy": "2023-12-17T22:20:43.242199Z",
     "iopub.status.idle": "2023-12-17T22:20:43.372440Z",
     "shell.execute_reply": "2023-12-17T22:20:43.371580Z"
    },
    "executionInfo": {
     "elapsed": 282,
     "status": "ok",
     "timestamp": 1701057834349,
     "user": {
      "displayName": "Merishna Suwal",
      "userId": "00324140771498152491"
     },
     "user_tz": 300
    },
    "id": "ww9-NobDGjv-",
    "outputId": "4bf3cfa1-1e4d-40f1-a2d9-aa4aec960c01",
    "papermill": {
     "duration": 0.17285,
     "end_time": "2023-12-17T22:20:43.374906",
     "exception": false,
     "start_time": "2023-12-17T22:20:43.202056",
     "status": "completed"
    },
    "tags": []
   },
   "outputs": [
    {
     "name": "stderr",
     "output_type": "stream",
     "text": [
      "Asking to truncate to max_length but no maximum length is provided and the model has no predefined maximum length. Default to no truncation.\n"
     ]
    }
   ],
   "source": [
    "results = token_classifier(\"यो गोबिन्दे लाइ कि देश निकाला गर्नुपर्छ कि मार्नु पर्छ ।\")\n",
    "#ओली दलाल मुर्दाबाद\n",
    "#यो गोविन्दे लाई देश निकाला गर्नु पर्छ\"\n",
    " #यो पुण्य गौतम जड्या हो जस्तो कस कस लाई लाग्छ ।\")"
   ]
  },
  {
   "cell_type": "code",
   "execution_count": 32,
   "id": "73fda1cc",
   "metadata": {
    "execution": {
     "iopub.execute_input": "2023-12-17T22:20:43.455706Z",
     "iopub.status.busy": "2023-12-17T22:20:43.455415Z",
     "iopub.status.idle": "2023-12-17T22:20:43.461710Z",
     "shell.execute_reply": "2023-12-17T22:20:43.460767Z"
    },
    "executionInfo": {
     "elapsed": 34,
     "status": "ok",
     "timestamp": 1701057834350,
     "user": {
      "displayName": "Merishna Suwal",
      "userId": "00324140771498152491"
     },
     "user_tz": 300
    },
    "id": "oeFz1A4Fw_Dr",
    "outputId": "a5206bc4-85ea-4404-c01f-aa2b461f42d6",
    "papermill": {
     "duration": 0.048275,
     "end_time": "2023-12-17T22:20:43.463612",
     "exception": false,
     "start_time": "2023-12-17T22:20:43.415337",
     "status": "completed"
    },
    "tags": []
   },
   "outputs": [
    {
     "name": "stdout",
     "output_type": "stream",
     "text": [
      "Word      Predictions\n",
      "--------  -------------\n",
      "##नपरछ    VIOLENCE\n",
      "मारन परछ  VIOLENCE\n"
     ]
    }
   ],
   "source": [
    "prediction_results = []\n",
    "for each_entity in results:\n",
    "    prediction_results.append([each_entity['word'], each_entity['entity_group']])\n",
    "\n",
    "print(tabulate(prediction_results, headers=['Word', 'Predictions']))\n"
   ]
  },
  {
   "cell_type": "markdown",
   "id": "ef9b5a9a",
   "metadata": {
    "papermill": {
     "duration": 0.040016,
     "end_time": "2023-12-17T22:20:43.542929",
     "exception": false,
     "start_time": "2023-12-17T22:20:43.502913",
     "status": "completed"
    },
    "tags": []
   },
   "source": [
    "## Results\n",
    "\n",
    "### Rajan/NepaliBERT\n",
    "\n",
    "| Metric      | Score |\n",
    "| ----------- | ----------- |\n",
    "| test_precision | 21.84% |\n",
    "| test_recall    | 30.04% |\n",
    "| test_f1        | 25.92% |\n",
    "| test_accuracy  | 83.02% |\n",
    "\n",
    "### Sakonii/distilbert-base-nepali\n",
    "\n",
    "| Metric      | Score |\n",
    "| ----------- | ----------- |\n",
    "| test_precision | 24.08% |\n",
    "| test_recall    | 29.61% |\n",
    "| test_f1        | 26.56% |\n",
    "| test_accuracy  | 84.48% |\n",
    "\n",
    "### bert-base-multilingual-uncased\n",
    "\n",
    "| Metric      | Score |\n",
    "| ----------- | ----------- |\n",
    "| test_precision | 26.54% |\n",
    "| test_recall    | 33.26% |\n",
    "| test_f1        | 29.52% |\n",
    "| test_accuracy  | 82.84% |\n",
    "\n",
    "### xlm-roberta-large\n",
    "\n",
    "| Metric      | Score |\n",
    "| ----------- | ----------- |\n",
    "| test_precision | 38.26% |\n",
    "| test_recall    | 44.50% |\n",
    "| test_f1        | 41.15% |\n",
    "| test_accuracy  | 86.15% |\n"
   ]
  },
  {
   "cell_type": "markdown",
   "id": "065b0c24",
   "metadata": {
    "papermill": {
     "duration": 0.039385,
     "end_time": "2023-12-17T22:20:43.623090",
     "exception": false,
     "start_time": "2023-12-17T22:20:43.583705",
     "status": "completed"
    },
    "tags": []
   },
   "source": [
    "### \n",
    "\n"
   ]
  }
 ],
 "metadata": {
  "accelerator": "GPU",
  "colab": {
   "gpuType": "T4",
   "provenance": []
  },
  "kaggle": {
   "accelerator": "gpu",
   "dataSources": [],
   "dockerImageVersionId": 30627,
   "isGpuEnabled": true,
   "isInternetEnabled": true,
   "language": "python",
   "sourceType": "notebook"
  },
  "kernelspec": {
   "display_name": "Python 3",
   "language": "python",
   "name": "python3"
  },
  "language_info": {
   "codemirror_mode": {
    "name": "ipython",
    "version": 3
   },
   "file_extension": ".py",
   "mimetype": "text/x-python",
   "name": "python",
   "nbconvert_exporter": "python",
   "pygments_lexer": "ipython3",
   "version": "3.10.12"
  },
  "papermill": {
   "default_parameters": {},
   "duration": 240.60237,
   "end_time": "2023-12-17T22:20:46.484960",
   "environment_variables": {},
   "exception": null,
   "input_path": "__notebook__.ipynb",
   "output_path": "__notebook__.ipynb",
   "parameters": {},
   "start_time": "2023-12-17T22:16:45.882590",
   "version": "2.4.0"
  },
  "widgets": {
   "application/vnd.jupyter.widget-state+json": {
    "state": {
     "02d8ddd51b9644dc9ec17294a0e292da": {
      "model_module": "@jupyter-widgets/controls",
      "model_module_version": "1.5.0",
      "model_name": "DescriptionStyleModel",
      "state": {
       "_model_module": "@jupyter-widgets/controls",
       "_model_module_version": "1.5.0",
       "_model_name": "DescriptionStyleModel",
       "_view_count": null,
       "_view_module": "@jupyter-widgets/base",
       "_view_module_version": "1.2.0",
       "_view_name": "StyleView",
       "description_width": ""
      }
     },
     "036104f99a9649368e769963334dbc4d": {
      "model_module": "@jupyter-widgets/controls",
      "model_module_version": "1.5.0",
      "model_name": "DescriptionStyleModel",
      "state": {
       "_model_module": "@jupyter-widgets/controls",
       "_model_module_version": "1.5.0",
       "_model_name": "DescriptionStyleModel",
       "_view_count": null,
       "_view_module": "@jupyter-widgets/base",
       "_view_module_version": "1.2.0",
       "_view_name": "StyleView",
       "description_width": ""
      }
     },
     "04eafa26c45f4e5c80153a4fafbe2e48": {
      "model_module": "@jupyter-widgets/controls",
      "model_module_version": "1.5.0",
      "model_name": "HTMLModel",
      "state": {
       "_dom_classes": [],
       "_model_module": "@jupyter-widgets/controls",
       "_model_module_version": "1.5.0",
       "_model_name": "HTMLModel",
       "_view_count": null,
       "_view_module": "@jupyter-widgets/controls",
       "_view_module_version": "1.5.0",
       "_view_name": "HTMLView",
       "description": "",
       "description_tooltip": null,
       "layout": "IPY_MODEL_3ed6c533544b44158f99a5327806f883",
       "placeholder": "​",
       "style": "IPY_MODEL_036104f99a9649368e769963334dbc4d",
       "value": "Map: 100%"
      }
     },
     "0705a2d6c13141e692f95c5b8935799e": {
      "model_module": "@jupyter-widgets/controls",
      "model_module_version": "1.5.0",
      "model_name": "HTMLModel",
      "state": {
       "_dom_classes": [],
       "_model_module": "@jupyter-widgets/controls",
       "_model_module_version": "1.5.0",
       "_model_name": "HTMLModel",
       "_view_count": null,
       "_view_module": "@jupyter-widgets/controls",
       "_view_module_version": "1.5.0",
       "_view_name": "HTMLView",
       "description": "",
       "description_tooltip": null,
       "layout": "IPY_MODEL_12951ad5524b4e859f29f7ed4ce8a17d",
       "placeholder": "​",
       "style": "IPY_MODEL_96669cb637bc40128a149249e7b09c28",
       "value": "Map: 100%"
      }
     },
     "0872ae72f9964cc28a5e4e001058f2a9": {
      "model_module": "@jupyter-widgets/controls",
      "model_module_version": "1.5.0",
      "model_name": "HTMLModel",
      "state": {
       "_dom_classes": [],
       "_model_module": "@jupyter-widgets/controls",
       "_model_module_version": "1.5.0",
       "_model_name": "HTMLModel",
       "_view_count": null,
       "_view_module": "@jupyter-widgets/controls",
       "_view_module_version": "1.5.0",
       "_view_name": "HTMLView",
       "description": "",
       "description_tooltip": null,
       "layout": "IPY_MODEL_37c9726249a34732bc01579611f1c600",
       "placeholder": "​",
       "style": "IPY_MODEL_3595ed36437547f6ac1219bc81bfb310",
       "value": " 2323/0 [00:00&lt;00:00, 5000.35 examples/s]"
      }
     },
     "087d829e58a2493cb3b520c59b42593f": {
      "model_module": "@jupyter-widgets/controls",
      "model_module_version": "1.5.0",
      "model_name": "HTMLModel",
      "state": {
       "_dom_classes": [],
       "_model_module": "@jupyter-widgets/controls",
       "_model_module_version": "1.5.0",
       "_model_name": "HTMLModel",
       "_view_count": null,
       "_view_module": "@jupyter-widgets/controls",
       "_view_module_version": "1.5.0",
       "_view_name": "HTMLView",
       "description": "",
       "description_tooltip": null,
       "layout": "IPY_MODEL_acfa095e90694fe2a5edea2b398e3cc0",
       "placeholder": "​",
       "style": "IPY_MODEL_f744934e578841b79e73315493476508",
       "value": " 280/0 [00:00&lt;00:00, 3632.91 examples/s]"
      }
     },
     "0a7e03a844994d679a796992eb9da60e": {
      "model_module": "@jupyter-widgets/controls",
      "model_module_version": "1.5.0",
      "model_name": "HTMLModel",
      "state": {
       "_dom_classes": [],
       "_model_module": "@jupyter-widgets/controls",
       "_model_module_version": "1.5.0",
       "_model_name": "HTMLModel",
       "_view_count": null,
       "_view_module": "@jupyter-widgets/controls",
       "_view_module_version": "1.5.0",
       "_view_name": "HTMLView",
       "description": "",
       "description_tooltip": null,
       "layout": "IPY_MODEL_12f8caa7d13d41d08292068304c6c425",
       "placeholder": "​",
       "style": "IPY_MODEL_dd17cf942eb04812a34b7b6a04073a14",
       "value": "Downloading data files: 100%"
      }
     },
     "0dfa8cc20f5b44288c15dcc0f84da472": {
      "model_module": "@jupyter-widgets/base",
      "model_module_version": "1.2.0",
      "model_name": "LayoutModel",
      "state": {
       "_model_module": "@jupyter-widgets/base",
       "_model_module_version": "1.2.0",
       "_model_name": "LayoutModel",
       "_view_count": null,
       "_view_module": "@jupyter-widgets/base",
       "_view_module_version": "1.2.0",
       "_view_name": "LayoutView",
       "align_content": null,
       "align_items": null,
       "align_self": null,
       "border": null,
       "bottom": null,
       "display": null,
       "flex": null,
       "flex_flow": null,
       "grid_area": null,
       "grid_auto_columns": null,
       "grid_auto_flow": null,
       "grid_auto_rows": null,
       "grid_column": null,
       "grid_gap": null,
       "grid_row": null,
       "grid_template_areas": null,
       "grid_template_columns": null,
       "grid_template_rows": null,
       "height": null,
       "justify_content": null,
       "justify_items": null,
       "left": null,
       "margin": null,
       "max_height": null,
       "max_width": null,
       "min_height": null,
       "min_width": null,
       "object_fit": null,
       "object_position": null,
       "order": null,
       "overflow": null,
       "overflow_x": null,
       "overflow_y": null,
       "padding": null,
       "right": null,
       "top": null,
       "visibility": null,
       "width": null
      }
     },
     "10bca794c5e1457c8cc377a07c88e2db": {
      "model_module": "@jupyter-widgets/base",
      "model_module_version": "1.2.0",
      "model_name": "LayoutModel",
      "state": {
       "_model_module": "@jupyter-widgets/base",
       "_model_module_version": "1.2.0",
       "_model_name": "LayoutModel",
       "_view_count": null,
       "_view_module": "@jupyter-widgets/base",
       "_view_module_version": "1.2.0",
       "_view_name": "LayoutView",
       "align_content": null,
       "align_items": null,
       "align_self": null,
       "border": null,
       "bottom": null,
       "display": null,
       "flex": null,
       "flex_flow": null,
       "grid_area": null,
       "grid_auto_columns": null,
       "grid_auto_flow": null,
       "grid_auto_rows": null,
       "grid_column": null,
       "grid_gap": null,
       "grid_row": null,
       "grid_template_areas": null,
       "grid_template_columns": null,
       "grid_template_rows": null,
       "height": null,
       "justify_content": null,
       "justify_items": null,
       "left": null,
       "margin": null,
       "max_height": null,
       "max_width": null,
       "min_height": null,
       "min_width": null,
       "object_fit": null,
       "object_position": null,
       "order": null,
       "overflow": null,
       "overflow_x": null,
       "overflow_y": null,
       "padding": null,
       "right": null,
       "top": null,
       "visibility": null,
       "width": null
      }
     },
     "12951ad5524b4e859f29f7ed4ce8a17d": {
      "model_module": "@jupyter-widgets/base",
      "model_module_version": "1.2.0",
      "model_name": "LayoutModel",
      "state": {
       "_model_module": "@jupyter-widgets/base",
       "_model_module_version": "1.2.0",
       "_model_name": "LayoutModel",
       "_view_count": null,
       "_view_module": "@jupyter-widgets/base",
       "_view_module_version": "1.2.0",
       "_view_name": "LayoutView",
       "align_content": null,
       "align_items": null,
       "align_self": null,
       "border": null,
       "bottom": null,
       "display": null,
       "flex": null,
       "flex_flow": null,
       "grid_area": null,
       "grid_auto_columns": null,
       "grid_auto_flow": null,
       "grid_auto_rows": null,
       "grid_column": null,
       "grid_gap": null,
       "grid_row": null,
       "grid_template_areas": null,
       "grid_template_columns": null,
       "grid_template_rows": null,
       "height": null,
       "justify_content": null,
       "justify_items": null,
       "left": null,
       "margin": null,
       "max_height": null,
       "max_width": null,
       "min_height": null,
       "min_width": null,
       "object_fit": null,
       "object_position": null,
       "order": null,
       "overflow": null,
       "overflow_x": null,
       "overflow_y": null,
       "padding": null,
       "right": null,
       "top": null,
       "visibility": null,
       "width": null
      }
     },
     "12f8caa7d13d41d08292068304c6c425": {
      "model_module": "@jupyter-widgets/base",
      "model_module_version": "1.2.0",
      "model_name": "LayoutModel",
      "state": {
       "_model_module": "@jupyter-widgets/base",
       "_model_module_version": "1.2.0",
       "_model_name": "LayoutModel",
       "_view_count": null,
       "_view_module": "@jupyter-widgets/base",
       "_view_module_version": "1.2.0",
       "_view_name": "LayoutView",
       "align_content": null,
       "align_items": null,
       "align_self": null,
       "border": null,
       "bottom": null,
       "display": null,
       "flex": null,
       "flex_flow": null,
       "grid_area": null,
       "grid_auto_columns": null,
       "grid_auto_flow": null,
       "grid_auto_rows": null,
       "grid_column": null,
       "grid_gap": null,
       "grid_row": null,
       "grid_template_areas": null,
       "grid_template_columns": null,
       "grid_template_rows": null,
       "height": null,
       "justify_content": null,
       "justify_items": null,
       "left": null,
       "margin": null,
       "max_height": null,
       "max_width": null,
       "min_height": null,
       "min_width": null,
       "object_fit": null,
       "object_position": null,
       "order": null,
       "overflow": null,
       "overflow_x": null,
       "overflow_y": null,
       "padding": null,
       "right": null,
       "top": null,
       "visibility": null,
       "width": null
      }
     },
     "1322fc0e2cb345bb90f53d6d931f410c": {
      "model_module": "@jupyter-widgets/controls",
      "model_module_version": "1.5.0",
      "model_name": "HTMLModel",
      "state": {
       "_dom_classes": [],
       "_model_module": "@jupyter-widgets/controls",
       "_model_module_version": "1.5.0",
       "_model_name": "HTMLModel",
       "_view_count": null,
       "_view_module": "@jupyter-widgets/controls",
       "_view_module_version": "1.5.0",
       "_view_name": "HTMLView",
       "description": "",
       "description_tooltip": null,
       "layout": "IPY_MODEL_a452dfcf0a984123a36fb7d8759fef8d",
       "placeholder": "​",
       "style": "IPY_MODEL_ad84f6e7c80045629148db741f27c28b",
       "value": " 3/3 [00:00&lt;00:00, 362.19it/s]"
      }
     },
     "15ae399ffed04c15b580010ca91e186f": {
      "model_module": "@jupyter-widgets/base",
      "model_module_version": "1.2.0",
      "model_name": "LayoutModel",
      "state": {
       "_model_module": "@jupyter-widgets/base",
       "_model_module_version": "1.2.0",
       "_model_name": "LayoutModel",
       "_view_count": null,
       "_view_module": "@jupyter-widgets/base",
       "_view_module_version": "1.2.0",
       "_view_name": "LayoutView",
       "align_content": null,
       "align_items": null,
       "align_self": null,
       "border": null,
       "bottom": null,
       "display": null,
       "flex": null,
       "flex_flow": null,
       "grid_area": null,
       "grid_auto_columns": null,
       "grid_auto_flow": null,
       "grid_auto_rows": null,
       "grid_column": null,
       "grid_gap": null,
       "grid_row": null,
       "grid_template_areas": null,
       "grid_template_columns": null,
       "grid_template_rows": null,
       "height": null,
       "justify_content": null,
       "justify_items": null,
       "left": null,
       "margin": null,
       "max_height": null,
       "max_width": null,
       "min_height": null,
       "min_width": null,
       "object_fit": null,
       "object_position": null,
       "order": null,
       "overflow": null,
       "overflow_x": null,
       "overflow_y": null,
       "padding": null,
       "right": null,
       "top": null,
       "visibility": null,
       "width": null
      }
     },
     "17a0e85c8c4a4e938aba7d40df8b00e4": {
      "model_module": "@jupyter-widgets/controls",
      "model_module_version": "1.5.0",
      "model_name": "FloatProgressModel",
      "state": {
       "_dom_classes": [],
       "_model_module": "@jupyter-widgets/controls",
       "_model_module_version": "1.5.0",
       "_model_name": "FloatProgressModel",
       "_view_count": null,
       "_view_module": "@jupyter-widgets/controls",
       "_view_module_version": "1.5.0",
       "_view_name": "ProgressView",
       "bar_style": "success",
       "description": "",
       "description_tooltip": null,
       "layout": "IPY_MODEL_6919678a54d2470094a20144b14c58dc",
       "max": 1,
       "min": 0,
       "orientation": "horizontal",
       "style": "IPY_MODEL_50adffb098ac4860b4f6be878844a8fe",
       "value": 1
      }
     },
     "19f2fcca278c4fb684b0a8770255fe41": {
      "model_module": "@jupyter-widgets/base",
      "model_module_version": "1.2.0",
      "model_name": "LayoutModel",
      "state": {
       "_model_module": "@jupyter-widgets/base",
       "_model_module_version": "1.2.0",
       "_model_name": "LayoutModel",
       "_view_count": null,
       "_view_module": "@jupyter-widgets/base",
       "_view_module_version": "1.2.0",
       "_view_name": "LayoutView",
       "align_content": null,
       "align_items": null,
       "align_self": null,
       "border": null,
       "bottom": null,
       "display": null,
       "flex": null,
       "flex_flow": null,
       "grid_area": null,
       "grid_auto_columns": null,
       "grid_auto_flow": null,
       "grid_auto_rows": null,
       "grid_column": null,
       "grid_gap": null,
       "grid_row": null,
       "grid_template_areas": null,
       "grid_template_columns": null,
       "grid_template_rows": null,
       "height": null,
       "justify_content": null,
       "justify_items": null,
       "left": null,
       "margin": null,
       "max_height": null,
       "max_width": null,
       "min_height": null,
       "min_width": null,
       "object_fit": null,
       "object_position": null,
       "order": null,
       "overflow": null,
       "overflow_x": null,
       "overflow_y": null,
       "padding": null,
       "right": null,
       "top": null,
       "visibility": null,
       "width": null
      }
     },
     "1bc4e9ce22e744c289b61bb77602a673": {
      "model_module": "@jupyter-widgets/controls",
      "model_module_version": "1.5.0",
      "model_name": "HTMLModel",
      "state": {
       "_dom_classes": [],
       "_model_module": "@jupyter-widgets/controls",
       "_model_module_version": "1.5.0",
       "_model_name": "HTMLModel",
       "_view_count": null,
       "_view_module": "@jupyter-widgets/controls",
       "_view_module_version": "1.5.0",
       "_view_name": "HTMLView",
       "description": "",
       "description_tooltip": null,
       "layout": "IPY_MODEL_dec1e075bb6740c39a1cd587c3f55176",
       "placeholder": "​",
       "style": "IPY_MODEL_a6397b366828444594dd15c3f827dfe2",
       "value": "Generating test split: "
      }
     },
     "1d70d319b57f4e0e8b6241a4ffa7f8ab": {
      "model_module": "@jupyter-widgets/base",
      "model_module_version": "1.2.0",
      "model_name": "LayoutModel",
      "state": {
       "_model_module": "@jupyter-widgets/base",
       "_model_module_version": "1.2.0",
       "_model_name": "LayoutModel",
       "_view_count": null,
       "_view_module": "@jupyter-widgets/base",
       "_view_module_version": "1.2.0",
       "_view_name": "LayoutView",
       "align_content": null,
       "align_items": null,
       "align_self": null,
       "border": null,
       "bottom": null,
       "display": null,
       "flex": null,
       "flex_flow": null,
       "grid_area": null,
       "grid_auto_columns": null,
       "grid_auto_flow": null,
       "grid_auto_rows": null,
       "grid_column": null,
       "grid_gap": null,
       "grid_row": null,
       "grid_template_areas": null,
       "grid_template_columns": null,
       "grid_template_rows": null,
       "height": null,
       "justify_content": null,
       "justify_items": null,
       "left": null,
       "margin": null,
       "max_height": null,
       "max_width": null,
       "min_height": null,
       "min_width": null,
       "object_fit": null,
       "object_position": null,
       "order": null,
       "overflow": null,
       "overflow_x": null,
       "overflow_y": null,
       "padding": null,
       "right": null,
       "top": null,
       "visibility": null,
       "width": null
      }
     },
     "21c05838360a440086f983c21f621014": {
      "model_module": "@jupyter-widgets/controls",
      "model_module_version": "1.5.0",
      "model_name": "HBoxModel",
      "state": {
       "_dom_classes": [],
       "_model_module": "@jupyter-widgets/controls",
       "_model_module_version": "1.5.0",
       "_model_name": "HBoxModel",
       "_view_count": null,
       "_view_module": "@jupyter-widgets/controls",
       "_view_module_version": "1.5.0",
       "_view_name": "HBoxView",
       "box_style": "",
       "children": [
        "IPY_MODEL_2246204d56a6416b8932120e673d840f",
        "IPY_MODEL_5dc05438eb3f42dcb9d6e84a2cfd9fb5",
        "IPY_MODEL_4360bb3bbd9e43ab88f9b59b3c7acef3"
       ],
       "layout": "IPY_MODEL_f52be6381c8745a187133911a7ce683b"
      }
     },
     "2246204d56a6416b8932120e673d840f": {
      "model_module": "@jupyter-widgets/controls",
      "model_module_version": "1.5.0",
      "model_name": "HTMLModel",
      "state": {
       "_dom_classes": [],
       "_model_module": "@jupyter-widgets/controls",
       "_model_module_version": "1.5.0",
       "_model_name": "HTMLModel",
       "_view_count": null,
       "_view_module": "@jupyter-widgets/controls",
       "_view_module_version": "1.5.0",
       "_view_name": "HTMLView",
       "description": "",
       "description_tooltip": null,
       "layout": "IPY_MODEL_ec274f04992d433a8786e4d02ebecfb9",
       "placeholder": "​",
       "style": "IPY_MODEL_4e8dfaeafc89425d8ac9e9629011d2ac",
       "value": "config.json: 100%"
      }
     },
     "2289d1f0a1444e91b713e4811df8f90e": {
      "model_module": "@jupyter-widgets/controls",
      "model_module_version": "1.5.0",
      "model_name": "ProgressStyleModel",
      "state": {
       "_model_module": "@jupyter-widgets/controls",
       "_model_module_version": "1.5.0",
       "_model_name": "ProgressStyleModel",
       "_view_count": null,
       "_view_module": "@jupyter-widgets/base",
       "_view_module_version": "1.2.0",
       "_view_name": "StyleView",
       "bar_color": null,
       "description_width": ""
      }
     },
     "2788274ad94d4af29e63459ee6bac5a8": {
      "model_module": "@jupyter-widgets/base",
      "model_module_version": "1.2.0",
      "model_name": "LayoutModel",
      "state": {
       "_model_module": "@jupyter-widgets/base",
       "_model_module_version": "1.2.0",
       "_model_name": "LayoutModel",
       "_view_count": null,
       "_view_module": "@jupyter-widgets/base",
       "_view_module_version": "1.2.0",
       "_view_name": "LayoutView",
       "align_content": null,
       "align_items": null,
       "align_self": null,
       "border": null,
       "bottom": null,
       "display": null,
       "flex": null,
       "flex_flow": null,
       "grid_area": null,
       "grid_auto_columns": null,
       "grid_auto_flow": null,
       "grid_auto_rows": null,
       "grid_column": null,
       "grid_gap": null,
       "grid_row": null,
       "grid_template_areas": null,
       "grid_template_columns": null,
       "grid_template_rows": null,
       "height": null,
       "justify_content": null,
       "justify_items": null,
       "left": null,
       "margin": null,
       "max_height": null,
       "max_width": null,
       "min_height": null,
       "min_width": null,
       "object_fit": null,
       "object_position": null,
       "order": null,
       "overflow": null,
       "overflow_x": null,
       "overflow_y": null,
       "padding": null,
       "right": null,
       "top": null,
       "visibility": null,
       "width": null
      }
     },
     "2882991b1dbb4351b060b7347fcf00e2": {
      "model_module": "@jupyter-widgets/base",
      "model_module_version": "1.2.0",
      "model_name": "LayoutModel",
      "state": {
       "_model_module": "@jupyter-widgets/base",
       "_model_module_version": "1.2.0",
       "_model_name": "LayoutModel",
       "_view_count": null,
       "_view_module": "@jupyter-widgets/base",
       "_view_module_version": "1.2.0",
       "_view_name": "LayoutView",
       "align_content": null,
       "align_items": null,
       "align_self": null,
       "border": null,
       "bottom": null,
       "display": null,
       "flex": null,
       "flex_flow": null,
       "grid_area": null,
       "grid_auto_columns": null,
       "grid_auto_flow": null,
       "grid_auto_rows": null,
       "grid_column": null,
       "grid_gap": null,
       "grid_row": null,
       "grid_template_areas": null,
       "grid_template_columns": null,
       "grid_template_rows": null,
       "height": null,
       "justify_content": null,
       "justify_items": null,
       "left": null,
       "margin": null,
       "max_height": null,
       "max_width": null,
       "min_height": null,
       "min_width": null,
       "object_fit": null,
       "object_position": null,
       "order": null,
       "overflow": null,
       "overflow_x": null,
       "overflow_y": null,
       "padding": null,
       "right": null,
       "top": null,
       "visibility": null,
       "width": "20px"
      }
     },
     "28b26911f3604e27953cb79b54c36353": {
      "model_module": "@jupyter-widgets/base",
      "model_module_version": "1.2.0",
      "model_name": "LayoutModel",
      "state": {
       "_model_module": "@jupyter-widgets/base",
       "_model_module_version": "1.2.0",
       "_model_name": "LayoutModel",
       "_view_count": null,
       "_view_module": "@jupyter-widgets/base",
       "_view_module_version": "1.2.0",
       "_view_name": "LayoutView",
       "align_content": null,
       "align_items": null,
       "align_self": null,
       "border": null,
       "bottom": null,
       "display": null,
       "flex": null,
       "flex_flow": null,
       "grid_area": null,
       "grid_auto_columns": null,
       "grid_auto_flow": null,
       "grid_auto_rows": null,
       "grid_column": null,
       "grid_gap": null,
       "grid_row": null,
       "grid_template_areas": null,
       "grid_template_columns": null,
       "grid_template_rows": null,
       "height": null,
       "justify_content": null,
       "justify_items": null,
       "left": null,
       "margin": null,
       "max_height": null,
       "max_width": null,
       "min_height": null,
       "min_width": null,
       "object_fit": null,
       "object_position": null,
       "order": null,
       "overflow": null,
       "overflow_x": null,
       "overflow_y": null,
       "padding": null,
       "right": null,
       "top": null,
       "visibility": null,
       "width": null
      }
     },
     "299a1884f4a94dbfb1a3f104076641d7": {
      "model_module": "@jupyter-widgets/controls",
      "model_module_version": "1.5.0",
      "model_name": "DescriptionStyleModel",
      "state": {
       "_model_module": "@jupyter-widgets/controls",
       "_model_module_version": "1.5.0",
       "_model_name": "DescriptionStyleModel",
       "_view_count": null,
       "_view_module": "@jupyter-widgets/base",
       "_view_module_version": "1.2.0",
       "_view_name": "StyleView",
       "description_width": ""
      }
     },
     "2a5c1374b3924fb7b4a4e6c1be4ca8c3": {
      "model_module": "@jupyter-widgets/controls",
      "model_module_version": "1.5.0",
      "model_name": "HBoxModel",
      "state": {
       "_dom_classes": [],
       "_model_module": "@jupyter-widgets/controls",
       "_model_module_version": "1.5.0",
       "_model_name": "HBoxModel",
       "_view_count": null,
       "_view_module": "@jupyter-widgets/controls",
       "_view_module_version": "1.5.0",
       "_view_name": "HBoxView",
       "box_style": "",
       "children": [
        "IPY_MODEL_1bc4e9ce22e744c289b61bb77602a673",
        "IPY_MODEL_17a0e85c8c4a4e938aba7d40df8b00e4",
        "IPY_MODEL_087d829e58a2493cb3b520c59b42593f"
       ],
       "layout": "IPY_MODEL_93ade97c4584488c8a067ca3136d3dee"
      }
     },
     "2d01a3dd5f724060a908eea4f61fb665": {
      "model_module": "@jupyter-widgets/controls",
      "model_module_version": "1.5.0",
      "model_name": "FloatProgressModel",
      "state": {
       "_dom_classes": [],
       "_model_module": "@jupyter-widgets/controls",
       "_model_module_version": "1.5.0",
       "_model_name": "FloatProgressModel",
       "_view_count": null,
       "_view_module": "@jupyter-widgets/controls",
       "_view_module_version": "1.5.0",
       "_view_name": "ProgressView",
       "bar_style": "success",
       "description": "",
       "description_tooltip": null,
       "layout": "IPY_MODEL_10bca794c5e1457c8cc377a07c88e2db",
       "max": 327911986,
       "min": 0,
       "orientation": "horizontal",
       "style": "IPY_MODEL_e90d567077674cb7b2d4be05d81ea807",
       "value": 327911986
      }
     },
     "2d8709bb9d874280b6589a854abb2378": {
      "model_module": "@jupyter-widgets/controls",
      "model_module_version": "1.5.0",
      "model_name": "DescriptionStyleModel",
      "state": {
       "_model_module": "@jupyter-widgets/controls",
       "_model_module_version": "1.5.0",
       "_model_name": "DescriptionStyleModel",
       "_view_count": null,
       "_view_module": "@jupyter-widgets/base",
       "_view_module_version": "1.2.0",
       "_view_name": "StyleView",
       "description_width": ""
      }
     },
     "2df78c45d26c415a8b4ed97b652b0200": {
      "model_module": "@jupyter-widgets/controls",
      "model_module_version": "1.5.0",
      "model_name": "DescriptionStyleModel",
      "state": {
       "_model_module": "@jupyter-widgets/controls",
       "_model_module_version": "1.5.0",
       "_model_name": "DescriptionStyleModel",
       "_view_count": null,
       "_view_module": "@jupyter-widgets/base",
       "_view_module_version": "1.2.0",
       "_view_name": "StyleView",
       "description_width": ""
      }
     },
     "3595ed36437547f6ac1219bc81bfb310": {
      "model_module": "@jupyter-widgets/controls",
      "model_module_version": "1.5.0",
      "model_name": "DescriptionStyleModel",
      "state": {
       "_model_module": "@jupyter-widgets/controls",
       "_model_module_version": "1.5.0",
       "_model_name": "DescriptionStyleModel",
       "_view_count": null,
       "_view_module": "@jupyter-widgets/base",
       "_view_module_version": "1.2.0",
       "_view_name": "StyleView",
       "description_width": ""
      }
     },
     "37c9726249a34732bc01579611f1c600": {
      "model_module": "@jupyter-widgets/base",
      "model_module_version": "1.2.0",
      "model_name": "LayoutModel",
      "state": {
       "_model_module": "@jupyter-widgets/base",
       "_model_module_version": "1.2.0",
       "_model_name": "LayoutModel",
       "_view_count": null,
       "_view_module": "@jupyter-widgets/base",
       "_view_module_version": "1.2.0",
       "_view_name": "LayoutView",
       "align_content": null,
       "align_items": null,
       "align_self": null,
       "border": null,
       "bottom": null,
       "display": null,
       "flex": null,
       "flex_flow": null,
       "grid_area": null,
       "grid_auto_columns": null,
       "grid_auto_flow": null,
       "grid_auto_rows": null,
       "grid_column": null,
       "grid_gap": null,
       "grid_row": null,
       "grid_template_areas": null,
       "grid_template_columns": null,
       "grid_template_rows": null,
       "height": null,
       "justify_content": null,
       "justify_items": null,
       "left": null,
       "margin": null,
       "max_height": null,
       "max_width": null,
       "min_height": null,
       "min_width": null,
       "object_fit": null,
       "object_position": null,
       "order": null,
       "overflow": null,
       "overflow_x": null,
       "overflow_y": null,
       "padding": null,
       "right": null,
       "top": null,
       "visibility": null,
       "width": null
      }
     },
     "38f9779607d1435981ed87eb150714c5": {
      "model_module": "@jupyter-widgets/controls",
      "model_module_version": "1.5.0",
      "model_name": "ProgressStyleModel",
      "state": {
       "_model_module": "@jupyter-widgets/controls",
       "_model_module_version": "1.5.0",
       "_model_name": "ProgressStyleModel",
       "_view_count": null,
       "_view_module": "@jupyter-widgets/base",
       "_view_module_version": "1.2.0",
       "_view_name": "StyleView",
       "bar_color": null,
       "description_width": ""
      }
     },
     "3ce86d882a4b40b8abfec75abaa5ac89": {
      "model_module": "@jupyter-widgets/controls",
      "model_module_version": "1.5.0",
      "model_name": "DescriptionStyleModel",
      "state": {
       "_model_module": "@jupyter-widgets/controls",
       "_model_module_version": "1.5.0",
       "_model_name": "DescriptionStyleModel",
       "_view_count": null,
       "_view_module": "@jupyter-widgets/base",
       "_view_module_version": "1.2.0",
       "_view_name": "StyleView",
       "description_width": ""
      }
     },
     "3cea599887494ca2961751da15b606eb": {
      "model_module": "@jupyter-widgets/controls",
      "model_module_version": "1.5.0",
      "model_name": "DescriptionStyleModel",
      "state": {
       "_model_module": "@jupyter-widgets/controls",
       "_model_module_version": "1.5.0",
       "_model_name": "DescriptionStyleModel",
       "_view_count": null,
       "_view_module": "@jupyter-widgets/base",
       "_view_module_version": "1.2.0",
       "_view_name": "StyleView",
       "description_width": ""
      }
     },
     "3ed6c533544b44158f99a5327806f883": {
      "model_module": "@jupyter-widgets/base",
      "model_module_version": "1.2.0",
      "model_name": "LayoutModel",
      "state": {
       "_model_module": "@jupyter-widgets/base",
       "_model_module_version": "1.2.0",
       "_model_name": "LayoutModel",
       "_view_count": null,
       "_view_module": "@jupyter-widgets/base",
       "_view_module_version": "1.2.0",
       "_view_name": "LayoutView",
       "align_content": null,
       "align_items": null,
       "align_self": null,
       "border": null,
       "bottom": null,
       "display": null,
       "flex": null,
       "flex_flow": null,
       "grid_area": null,
       "grid_auto_columns": null,
       "grid_auto_flow": null,
       "grid_auto_rows": null,
       "grid_column": null,
       "grid_gap": null,
       "grid_row": null,
       "grid_template_areas": null,
       "grid_template_columns": null,
       "grid_template_rows": null,
       "height": null,
       "justify_content": null,
       "justify_items": null,
       "left": null,
       "margin": null,
       "max_height": null,
       "max_width": null,
       "min_height": null,
       "min_width": null,
       "object_fit": null,
       "object_position": null,
       "order": null,
       "overflow": null,
       "overflow_x": null,
       "overflow_y": null,
       "padding": null,
       "right": null,
       "top": null,
       "visibility": null,
       "width": null
      }
     },
     "3ff404e25e574f53bf962830650eefea": {
      "model_module": "@jupyter-widgets/controls",
      "model_module_version": "1.5.0",
      "model_name": "FloatProgressModel",
      "state": {
       "_dom_classes": [],
       "_model_module": "@jupyter-widgets/controls",
       "_model_module_version": "1.5.0",
       "_model_name": "FloatProgressModel",
       "_view_count": null,
       "_view_module": "@jupyter-widgets/controls",
       "_view_module_version": "1.5.0",
       "_view_name": "ProgressView",
       "bar_style": "success",
       "description": "",
       "description_tooltip": null,
       "layout": "IPY_MODEL_4b6a861327924ff28cd05788ed2062f8",
       "max": 3,
       "min": 0,
       "orientation": "horizontal",
       "style": "IPY_MODEL_70650c1f946a4369b3e7505dee58c039",
       "value": 3
      }
     },
     "426a733c442845cb91448878ec70fdc2": {
      "model_module": "@jupyter-widgets/controls",
      "model_module_version": "1.5.0",
      "model_name": "DescriptionStyleModel",
      "state": {
       "_model_module": "@jupyter-widgets/controls",
       "_model_module_version": "1.5.0",
       "_model_name": "DescriptionStyleModel",
       "_view_count": null,
       "_view_module": "@jupyter-widgets/base",
       "_view_module_version": "1.2.0",
       "_view_name": "StyleView",
       "description_width": ""
      }
     },
     "4360bb3bbd9e43ab88f9b59b3c7acef3": {
      "model_module": "@jupyter-widgets/controls",
      "model_module_version": "1.5.0",
      "model_name": "HTMLModel",
      "state": {
       "_dom_classes": [],
       "_model_module": "@jupyter-widgets/controls",
       "_model_module_version": "1.5.0",
       "_model_name": "HTMLModel",
       "_view_count": null,
       "_view_module": "@jupyter-widgets/controls",
       "_view_module_version": "1.5.0",
       "_view_name": "HTMLView",
       "description": "",
       "description_tooltip": null,
       "layout": "IPY_MODEL_1d70d319b57f4e0e8b6241a4ffa7f8ab",
       "placeholder": "​",
       "style": "IPY_MODEL_b0093d2aaa2a4b5c8936e8465b7954c1",
       "value": " 569/569 [00:00&lt;00:00, 48.3kB/s]"
      }
     },
     "44bd29343ebc4095a3bea2abb0903dbc": {
      "model_module": "@jupyter-widgets/controls",
      "model_module_version": "1.5.0",
      "model_name": "HTMLModel",
      "state": {
       "_dom_classes": [],
       "_model_module": "@jupyter-widgets/controls",
       "_model_module_version": "1.5.0",
       "_model_name": "HTMLModel",
       "_view_count": null,
       "_view_module": "@jupyter-widgets/controls",
       "_view_module_version": "1.5.0",
       "_view_name": "HTMLView",
       "description": "",
       "description_tooltip": null,
       "layout": "IPY_MODEL_87b110f1aed8411da5d532f48be69154",
       "placeholder": "​",
       "style": "IPY_MODEL_3cea599887494ca2961751da15b606eb",
       "value": "Generating train split: "
      }
     },
     "4534cb5704ae48a5bb0db9a874b80dd9": {
      "model_module": "@jupyter-widgets/controls",
      "model_module_version": "1.5.0",
      "model_name": "FloatProgressModel",
      "state": {
       "_dom_classes": [],
       "_model_module": "@jupyter-widgets/controls",
       "_model_module_version": "1.5.0",
       "_model_name": "FloatProgressModel",
       "_view_count": null,
       "_view_module": "@jupyter-widgets/controls",
       "_view_module_version": "1.5.0",
       "_view_name": "ProgressView",
       "bar_style": "success",
       "description": "",
       "description_tooltip": null,
       "layout": "IPY_MODEL_8a709811d2384865b110a1c950341395",
       "max": 2323,
       "min": 0,
       "orientation": "horizontal",
       "style": "IPY_MODEL_cca6fc93931f455ba29069d87a5affae",
       "value": 2323
      }
     },
     "48e77af0ac4b43ae8a0d3498c3d00373": {
      "model_module": "@jupyter-widgets/controls",
      "model_module_version": "1.5.0",
      "model_name": "DescriptionStyleModel",
      "state": {
       "_model_module": "@jupyter-widgets/controls",
       "_model_module_version": "1.5.0",
       "_model_name": "DescriptionStyleModel",
       "_view_count": null,
       "_view_module": "@jupyter-widgets/base",
       "_view_module_version": "1.2.0",
       "_view_name": "StyleView",
       "description_width": ""
      }
     },
     "49770bc5b7494ac3b1755acadcac8905": {
      "model_module": "@jupyter-widgets/controls",
      "model_module_version": "1.5.0",
      "model_name": "FloatProgressModel",
      "state": {
       "_dom_classes": [],
       "_model_module": "@jupyter-widgets/controls",
       "_model_module_version": "1.5.0",
       "_model_name": "FloatProgressModel",
       "_view_count": null,
       "_view_module": "@jupyter-widgets/controls",
       "_view_module_version": "1.5.0",
       "_view_name": "ProgressView",
       "bar_style": "success",
       "description": "",
       "description_tooltip": null,
       "layout": "IPY_MODEL_c372f694e8ab46239b7c304787ad078a",
       "max": 330,
       "min": 0,
       "orientation": "horizontal",
       "style": "IPY_MODEL_855ce54d9ba445eda8da8a6c81d6cdd7",
       "value": 330
      }
     },
     "4b6a861327924ff28cd05788ed2062f8": {
      "model_module": "@jupyter-widgets/base",
      "model_module_version": "1.2.0",
      "model_name": "LayoutModel",
      "state": {
       "_model_module": "@jupyter-widgets/base",
       "_model_module_version": "1.2.0",
       "_model_name": "LayoutModel",
       "_view_count": null,
       "_view_module": "@jupyter-widgets/base",
       "_view_module_version": "1.2.0",
       "_view_name": "LayoutView",
       "align_content": null,
       "align_items": null,
       "align_self": null,
       "border": null,
       "bottom": null,
       "display": null,
       "flex": null,
       "flex_flow": null,
       "grid_area": null,
       "grid_auto_columns": null,
       "grid_auto_flow": null,
       "grid_auto_rows": null,
       "grid_column": null,
       "grid_gap": null,
       "grid_row": null,
       "grid_template_areas": null,
       "grid_template_columns": null,
       "grid_template_rows": null,
       "height": null,
       "justify_content": null,
       "justify_items": null,
       "left": null,
       "margin": null,
       "max_height": null,
       "max_width": null,
       "min_height": null,
       "min_width": null,
       "object_fit": null,
       "object_position": null,
       "order": null,
       "overflow": null,
       "overflow_x": null,
       "overflow_y": null,
       "padding": null,
       "right": null,
       "top": null,
       "visibility": null,
       "width": null
      }
     },
     "4d353768b35e40d6b91f2e8aa7d7ca5e": {
      "model_module": "@jupyter-widgets/controls",
      "model_module_version": "1.5.0",
      "model_name": "DescriptionStyleModel",
      "state": {
       "_model_module": "@jupyter-widgets/controls",
       "_model_module_version": "1.5.0",
       "_model_name": "DescriptionStyleModel",
       "_view_count": null,
       "_view_module": "@jupyter-widgets/base",
       "_view_module_version": "1.2.0",
       "_view_name": "StyleView",
       "description_width": ""
      }
     },
     "4e06bd0789e14ecc83e757a7e356bb05": {
      "model_module": "@jupyter-widgets/base",
      "model_module_version": "1.2.0",
      "model_name": "LayoutModel",
      "state": {
       "_model_module": "@jupyter-widgets/base",
       "_model_module_version": "1.2.0",
       "_model_name": "LayoutModel",
       "_view_count": null,
       "_view_module": "@jupyter-widgets/base",
       "_view_module_version": "1.2.0",
       "_view_name": "LayoutView",
       "align_content": null,
       "align_items": null,
       "align_self": null,
       "border": null,
       "bottom": null,
       "display": null,
       "flex": null,
       "flex_flow": null,
       "grid_area": null,
       "grid_auto_columns": null,
       "grid_auto_flow": null,
       "grid_auto_rows": null,
       "grid_column": null,
       "grid_gap": null,
       "grid_row": null,
       "grid_template_areas": null,
       "grid_template_columns": null,
       "grid_template_rows": null,
       "height": null,
       "justify_content": null,
       "justify_items": null,
       "left": null,
       "margin": null,
       "max_height": null,
       "max_width": null,
       "min_height": null,
       "min_width": null,
       "object_fit": null,
       "object_position": null,
       "order": null,
       "overflow": null,
       "overflow_x": null,
       "overflow_y": null,
       "padding": null,
       "right": null,
       "top": null,
       "visibility": null,
       "width": null
      }
     },
     "4e8dfaeafc89425d8ac9e9629011d2ac": {
      "model_module": "@jupyter-widgets/controls",
      "model_module_version": "1.5.0",
      "model_name": "DescriptionStyleModel",
      "state": {
       "_model_module": "@jupyter-widgets/controls",
       "_model_module_version": "1.5.0",
       "_model_name": "DescriptionStyleModel",
       "_view_count": null,
       "_view_module": "@jupyter-widgets/base",
       "_view_module_version": "1.2.0",
       "_view_name": "StyleView",
       "description_width": ""
      }
     },
     "5093d175607a4f1098685077570c2d2d": {
      "model_module": "@jupyter-widgets/base",
      "model_module_version": "1.2.0",
      "model_name": "LayoutModel",
      "state": {
       "_model_module": "@jupyter-widgets/base",
       "_model_module_version": "1.2.0",
       "_model_name": "LayoutModel",
       "_view_count": null,
       "_view_module": "@jupyter-widgets/base",
       "_view_module_version": "1.2.0",
       "_view_name": "LayoutView",
       "align_content": null,
       "align_items": null,
       "align_self": null,
       "border": null,
       "bottom": null,
       "display": null,
       "flex": null,
       "flex_flow": null,
       "grid_area": null,
       "grid_auto_columns": null,
       "grid_auto_flow": null,
       "grid_auto_rows": null,
       "grid_column": null,
       "grid_gap": null,
       "grid_row": null,
       "grid_template_areas": null,
       "grid_template_columns": null,
       "grid_template_rows": null,
       "height": null,
       "justify_content": null,
       "justify_items": null,
       "left": null,
       "margin": null,
       "max_height": null,
       "max_width": null,
       "min_height": null,
       "min_width": null,
       "object_fit": null,
       "object_position": null,
       "order": null,
       "overflow": null,
       "overflow_x": null,
       "overflow_y": null,
       "padding": null,
       "right": null,
       "top": null,
       "visibility": null,
       "width": null
      }
     },
     "50adffb098ac4860b4f6be878844a8fe": {
      "model_module": "@jupyter-widgets/controls",
      "model_module_version": "1.5.0",
      "model_name": "ProgressStyleModel",
      "state": {
       "_model_module": "@jupyter-widgets/controls",
       "_model_module_version": "1.5.0",
       "_model_name": "ProgressStyleModel",
       "_view_count": null,
       "_view_module": "@jupyter-widgets/base",
       "_view_module_version": "1.2.0",
       "_view_name": "StyleView",
       "bar_color": null,
       "description_width": ""
      }
     },
     "51a2b258aff544f5be7ce7e485bc2c9e": {
      "model_module": "@jupyter-widgets/controls",
      "model_module_version": "1.5.0",
      "model_name": "HTMLModel",
      "state": {
       "_dom_classes": [],
       "_model_module": "@jupyter-widgets/controls",
       "_model_module_version": "1.5.0",
       "_model_name": "HTMLModel",
       "_view_count": null,
       "_view_module": "@jupyter-widgets/controls",
       "_view_module_version": "1.5.0",
       "_view_name": "HTMLView",
       "description": "",
       "description_tooltip": null,
       "layout": "IPY_MODEL_19f2fcca278c4fb684b0a8770255fe41",
       "placeholder": "​",
       "style": "IPY_MODEL_dda78fd635ea44038e10e1afb34edd14",
       "value": " 987k/987k [00:00&lt;00:00, 8.26MB/s]"
      }
     },
     "56ded9aa5efc4052ac2119add062325a": {
      "model_module": "@jupyter-widgets/base",
      "model_module_version": "1.2.0",
      "model_name": "LayoutModel",
      "state": {
       "_model_module": "@jupyter-widgets/base",
       "_model_module_version": "1.2.0",
       "_model_name": "LayoutModel",
       "_view_count": null,
       "_view_module": "@jupyter-widgets/base",
       "_view_module_version": "1.2.0",
       "_view_name": "LayoutView",
       "align_content": null,
       "align_items": null,
       "align_self": null,
       "border": null,
       "bottom": null,
       "display": null,
       "flex": null,
       "flex_flow": null,
       "grid_area": null,
       "grid_auto_columns": null,
       "grid_auto_flow": null,
       "grid_auto_rows": null,
       "grid_column": null,
       "grid_gap": null,
       "grid_row": null,
       "grid_template_areas": null,
       "grid_template_columns": null,
       "grid_template_rows": null,
       "height": null,
       "justify_content": null,
       "justify_items": null,
       "left": null,
       "margin": null,
       "max_height": null,
       "max_width": null,
       "min_height": null,
       "min_width": null,
       "object_fit": null,
       "object_position": null,
       "order": null,
       "overflow": null,
       "overflow_x": null,
       "overflow_y": null,
       "padding": null,
       "right": null,
       "top": null,
       "visibility": null,
       "width": null
      }
     },
     "58324043518c4f0b8f725db1ca287883": {
      "model_module": "@jupyter-widgets/base",
      "model_module_version": "1.2.0",
      "model_name": "LayoutModel",
      "state": {
       "_model_module": "@jupyter-widgets/base",
       "_model_module_version": "1.2.0",
       "_model_name": "LayoutModel",
       "_view_count": null,
       "_view_module": "@jupyter-widgets/base",
       "_view_module_version": "1.2.0",
       "_view_name": "LayoutView",
       "align_content": null,
       "align_items": null,
       "align_self": null,
       "border": null,
       "bottom": null,
       "display": null,
       "flex": null,
       "flex_flow": null,
       "grid_area": null,
       "grid_auto_columns": null,
       "grid_auto_flow": null,
       "grid_auto_rows": null,
       "grid_column": null,
       "grid_gap": null,
       "grid_row": null,
       "grid_template_areas": null,
       "grid_template_columns": null,
       "grid_template_rows": null,
       "height": null,
       "justify_content": null,
       "justify_items": null,
       "left": null,
       "margin": null,
       "max_height": null,
       "max_width": null,
       "min_height": null,
       "min_width": null,
       "object_fit": null,
       "object_position": null,
       "order": null,
       "overflow": null,
       "overflow_x": null,
       "overflow_y": null,
       "padding": null,
       "right": null,
       "top": null,
       "visibility": null,
       "width": null
      }
     },
     "5a945f74fe184dcbbb3f6d9e30818c4d": {
      "model_module": "@jupyter-widgets/base",
      "model_module_version": "1.2.0",
      "model_name": "LayoutModel",
      "state": {
       "_model_module": "@jupyter-widgets/base",
       "_model_module_version": "1.2.0",
       "_model_name": "LayoutModel",
       "_view_count": null,
       "_view_module": "@jupyter-widgets/base",
       "_view_module_version": "1.2.0",
       "_view_name": "LayoutView",
       "align_content": null,
       "align_items": null,
       "align_self": null,
       "border": null,
       "bottom": null,
       "display": null,
       "flex": null,
       "flex_flow": null,
       "grid_area": null,
       "grid_auto_columns": null,
       "grid_auto_flow": null,
       "grid_auto_rows": null,
       "grid_column": null,
       "grid_gap": null,
       "grid_row": null,
       "grid_template_areas": null,
       "grid_template_columns": null,
       "grid_template_rows": null,
       "height": null,
       "justify_content": null,
       "justify_items": null,
       "left": null,
       "margin": null,
       "max_height": null,
       "max_width": null,
       "min_height": null,
       "min_width": null,
       "object_fit": null,
       "object_position": null,
       "order": null,
       "overflow": null,
       "overflow_x": null,
       "overflow_y": null,
       "padding": null,
       "right": null,
       "top": null,
       "visibility": null,
       "width": null
      }
     },
     "5dc05438eb3f42dcb9d6e84a2cfd9fb5": {
      "model_module": "@jupyter-widgets/controls",
      "model_module_version": "1.5.0",
      "model_name": "FloatProgressModel",
      "state": {
       "_dom_classes": [],
       "_model_module": "@jupyter-widgets/controls",
       "_model_module_version": "1.5.0",
       "_model_name": "FloatProgressModel",
       "_view_count": null,
       "_view_module": "@jupyter-widgets/controls",
       "_view_module_version": "1.5.0",
       "_view_name": "ProgressView",
       "bar_style": "success",
       "description": "",
       "description_tooltip": null,
       "layout": "IPY_MODEL_5a945f74fe184dcbbb3f6d9e30818c4d",
       "max": 569,
       "min": 0,
       "orientation": "horizontal",
       "style": "IPY_MODEL_8619265803da41d2a16aecd0b99f49e6",
       "value": 569
      }
     },
     "5e21807eaa14447a9da05c8e88b2f7ad": {
      "model_module": "@jupyter-widgets/base",
      "model_module_version": "1.2.0",
      "model_name": "LayoutModel",
      "state": {
       "_model_module": "@jupyter-widgets/base",
       "_model_module_version": "1.2.0",
       "_model_name": "LayoutModel",
       "_view_count": null,
       "_view_module": "@jupyter-widgets/base",
       "_view_module_version": "1.2.0",
       "_view_name": "LayoutView",
       "align_content": null,
       "align_items": null,
       "align_self": null,
       "border": null,
       "bottom": null,
       "display": null,
       "flex": null,
       "flex_flow": null,
       "grid_area": null,
       "grid_auto_columns": null,
       "grid_auto_flow": null,
       "grid_auto_rows": null,
       "grid_column": null,
       "grid_gap": null,
       "grid_row": null,
       "grid_template_areas": null,
       "grid_template_columns": null,
       "grid_template_rows": null,
       "height": null,
       "justify_content": null,
       "justify_items": null,
       "left": null,
       "margin": null,
       "max_height": null,
       "max_width": null,
       "min_height": null,
       "min_width": null,
       "object_fit": null,
       "object_position": null,
       "order": null,
       "overflow": null,
       "overflow_x": null,
       "overflow_y": null,
       "padding": null,
       "right": null,
       "top": null,
       "visibility": null,
       "width": "20px"
      }
     },
     "65ce4558b8654a7aac69ea6090bd249a": {
      "model_module": "@jupyter-widgets/controls",
      "model_module_version": "1.5.0",
      "model_name": "FloatProgressModel",
      "state": {
       "_dom_classes": [],
       "_model_module": "@jupyter-widgets/controls",
       "_model_module_version": "1.5.0",
       "_model_name": "FloatProgressModel",
       "_view_count": null,
       "_view_module": "@jupyter-widgets/controls",
       "_view_module_version": "1.5.0",
       "_view_name": "ProgressView",
       "bar_style": "success",
       "description": "",
       "description_tooltip": null,
       "layout": "IPY_MODEL_15ae399ffed04c15b580010ca91e186f",
       "max": 3,
       "min": 0,
       "orientation": "horizontal",
       "style": "IPY_MODEL_a18a48619048404e9908a17191c99b5a",
       "value": 3
      }
     },
     "66276f9400f84c5cab0ef3a0d15695c7": {
      "model_module": "@jupyter-widgets/controls",
      "model_module_version": "1.5.0",
      "model_name": "HBoxModel",
      "state": {
       "_dom_classes": [],
       "_model_module": "@jupyter-widgets/controls",
       "_model_module_version": "1.5.0",
       "_model_name": "HBoxModel",
       "_view_count": null,
       "_view_module": "@jupyter-widgets/controls",
       "_view_module_version": "1.5.0",
       "_view_name": "HBoxView",
       "box_style": "",
       "children": [
        "IPY_MODEL_785872b60eaf4e83866b80d58aa20edf",
        "IPY_MODEL_2d01a3dd5f724060a908eea4f61fb665",
        "IPY_MODEL_8e8862ad62014f38a143b8636ceb9aca"
       ],
       "layout": "IPY_MODEL_e89c3a53c7314e9794f552af758c95c7"
      }
     },
     "6919678a54d2470094a20144b14c58dc": {
      "model_module": "@jupyter-widgets/base",
      "model_module_version": "1.2.0",
      "model_name": "LayoutModel",
      "state": {
       "_model_module": "@jupyter-widgets/base",
       "_model_module_version": "1.2.0",
       "_model_name": "LayoutModel",
       "_view_count": null,
       "_view_module": "@jupyter-widgets/base",
       "_view_module_version": "1.2.0",
       "_view_name": "LayoutView",
       "align_content": null,
       "align_items": null,
       "align_self": null,
       "border": null,
       "bottom": null,
       "display": null,
       "flex": null,
       "flex_flow": null,
       "grid_area": null,
       "grid_auto_columns": null,
       "grid_auto_flow": null,
       "grid_auto_rows": null,
       "grid_column": null,
       "grid_gap": null,
       "grid_row": null,
       "grid_template_areas": null,
       "grid_template_columns": null,
       "grid_template_rows": null,
       "height": null,
       "justify_content": null,
       "justify_items": null,
       "left": null,
       "margin": null,
       "max_height": null,
       "max_width": null,
       "min_height": null,
       "min_width": null,
       "object_fit": null,
       "object_position": null,
       "order": null,
       "overflow": null,
       "overflow_x": null,
       "overflow_y": null,
       "padding": null,
       "right": null,
       "top": null,
       "visibility": null,
       "width": "20px"
      }
     },
     "6a2759bf879d462bb0f3117ed1f9124f": {
      "model_module": "@jupyter-widgets/controls",
      "model_module_version": "1.5.0",
      "model_name": "HBoxModel",
      "state": {
       "_dom_classes": [],
       "_model_module": "@jupyter-widgets/controls",
       "_model_module_version": "1.5.0",
       "_model_name": "HBoxModel",
       "_view_count": null,
       "_view_module": "@jupyter-widgets/controls",
       "_view_module_version": "1.5.0",
       "_view_name": "HBoxView",
       "box_style": "",
       "children": [
        "IPY_MODEL_0a7e03a844994d679a796992eb9da60e",
        "IPY_MODEL_3ff404e25e574f53bf962830650eefea",
        "IPY_MODEL_99c7ba8bd7bf4bad84b42cb940ebaebb"
       ],
       "layout": "IPY_MODEL_0dfa8cc20f5b44288c15dcc0f84da472"
      }
     },
     "6aabd93938664f0f829f096e2a7eb6d1": {
      "model_module": "@jupyter-widgets/controls",
      "model_module_version": "1.5.0",
      "model_name": "FloatProgressModel",
      "state": {
       "_dom_classes": [],
       "_model_module": "@jupyter-widgets/controls",
       "_model_module_version": "1.5.0",
       "_model_name": "FloatProgressModel",
       "_view_count": null,
       "_view_module": "@jupyter-widgets/controls",
       "_view_module_version": "1.5.0",
       "_view_name": "ProgressView",
       "bar_style": "success",
       "description": "",
       "description_tooltip": null,
       "layout": "IPY_MODEL_4e06bd0789e14ecc83e757a7e356bb05",
       "max": 987396,
       "min": 0,
       "orientation": "horizontal",
       "style": "IPY_MODEL_8ec0805959f44368ac9177494fd31b97",
       "value": 987396
      }
     },
     "6e1c1b55aac64fda84be3d5d97f38c51": {
      "model_module": "@jupyter-widgets/controls",
      "model_module_version": "1.5.0",
      "model_name": "HBoxModel",
      "state": {
       "_dom_classes": [],
       "_model_module": "@jupyter-widgets/controls",
       "_model_module_version": "1.5.0",
       "_model_name": "HBoxModel",
       "_view_count": null,
       "_view_module": "@jupyter-widgets/controls",
       "_view_module_version": "1.5.0",
       "_view_name": "HBoxView",
       "box_style": "",
       "children": [
        "IPY_MODEL_e49edbbc04b24b0c8761f53ff04a6b1e",
        "IPY_MODEL_c9c79f9a3a744aba95cb1efa128c1a1a",
        "IPY_MODEL_1322fc0e2cb345bb90f53d6d931f410c"
       ],
       "layout": "IPY_MODEL_fb0a4a94600c42d58551507d0d79c0d3"
      }
     },
     "6ec9255c9b414646ae0484ba0752ad60": {
      "model_module": "@jupyter-widgets/controls",
      "model_module_version": "1.5.0",
      "model_name": "HTMLModel",
      "state": {
       "_dom_classes": [],
       "_model_module": "@jupyter-widgets/controls",
       "_model_module_version": "1.5.0",
       "_model_name": "HTMLModel",
       "_view_count": null,
       "_view_module": "@jupyter-widgets/controls",
       "_view_module_version": "1.5.0",
       "_view_name": "HTMLView",
       "description": "",
       "description_tooltip": null,
       "layout": "IPY_MODEL_a456f7150af5422eb928c1d94e288cb9",
       "placeholder": "​",
       "style": "IPY_MODEL_02d8ddd51b9644dc9ec17294a0e292da",
       "value": " 2323/2323 [00:00&lt;00:00, 6199.33 examples/s]"
      }
     },
     "6fe356c147494c0e84890e667f3930f2": {
      "model_module": "@jupyter-widgets/base",
      "model_module_version": "1.2.0",
      "model_name": "LayoutModel",
      "state": {
       "_model_module": "@jupyter-widgets/base",
       "_model_module_version": "1.2.0",
       "_model_name": "LayoutModel",
       "_view_count": null,
       "_view_module": "@jupyter-widgets/base",
       "_view_module_version": "1.2.0",
       "_view_name": "LayoutView",
       "align_content": null,
       "align_items": null,
       "align_self": null,
       "border": null,
       "bottom": null,
       "display": null,
       "flex": null,
       "flex_flow": null,
       "grid_area": null,
       "grid_auto_columns": null,
       "grid_auto_flow": null,
       "grid_auto_rows": null,
       "grid_column": null,
       "grid_gap": null,
       "grid_row": null,
       "grid_template_areas": null,
       "grid_template_columns": null,
       "grid_template_rows": null,
       "height": null,
       "justify_content": null,
       "justify_items": null,
       "left": null,
       "margin": null,
       "max_height": null,
       "max_width": null,
       "min_height": null,
       "min_width": null,
       "object_fit": null,
       "object_position": null,
       "order": null,
       "overflow": null,
       "overflow_x": null,
       "overflow_y": null,
       "padding": null,
       "right": null,
       "top": null,
       "visibility": null,
       "width": null
      }
     },
     "70650c1f946a4369b3e7505dee58c039": {
      "model_module": "@jupyter-widgets/controls",
      "model_module_version": "1.5.0",
      "model_name": "ProgressStyleModel",
      "state": {
       "_model_module": "@jupyter-widgets/controls",
       "_model_module_version": "1.5.0",
       "_model_name": "ProgressStyleModel",
       "_view_count": null,
       "_view_module": "@jupyter-widgets/base",
       "_view_module_version": "1.2.0",
       "_view_name": "StyleView",
       "bar_color": null,
       "description_width": ""
      }
     },
     "71483fc493304d518fbd405789a59931": {
      "model_module": "@jupyter-widgets/controls",
      "model_module_version": "1.5.0",
      "model_name": "HTMLModel",
      "state": {
       "_dom_classes": [],
       "_model_module": "@jupyter-widgets/controls",
       "_model_module_version": "1.5.0",
       "_model_name": "HTMLModel",
       "_view_count": null,
       "_view_module": "@jupyter-widgets/controls",
       "_view_module_version": "1.5.0",
       "_view_name": "HTMLView",
       "description": "",
       "description_tooltip": null,
       "layout": "IPY_MODEL_28b26911f3604e27953cb79b54c36353",
       "placeholder": "​",
       "style": "IPY_MODEL_2df78c45d26c415a8b4ed97b652b0200",
       "value": "Map: 100%"
      }
     },
     "77228ec8bb7b4303ac5894770e224c8d": {
      "model_module": "@jupyter-widgets/base",
      "model_module_version": "1.2.0",
      "model_name": "LayoutModel",
      "state": {
       "_model_module": "@jupyter-widgets/base",
       "_model_module_version": "1.2.0",
       "_model_name": "LayoutModel",
       "_view_count": null,
       "_view_module": "@jupyter-widgets/base",
       "_view_module_version": "1.2.0",
       "_view_name": "LayoutView",
       "align_content": null,
       "align_items": null,
       "align_self": null,
       "border": null,
       "bottom": null,
       "display": null,
       "flex": null,
       "flex_flow": null,
       "grid_area": null,
       "grid_auto_columns": null,
       "grid_auto_flow": null,
       "grid_auto_rows": null,
       "grid_column": null,
       "grid_gap": null,
       "grid_row": null,
       "grid_template_areas": null,
       "grid_template_columns": null,
       "grid_template_rows": null,
       "height": null,
       "justify_content": null,
       "justify_items": null,
       "left": null,
       "margin": null,
       "max_height": null,
       "max_width": null,
       "min_height": null,
       "min_width": null,
       "object_fit": null,
       "object_position": null,
       "order": null,
       "overflow": null,
       "overflow_x": null,
       "overflow_y": null,
       "padding": null,
       "right": null,
       "top": null,
       "visibility": null,
       "width": null
      }
     },
     "7782b67b8a014bc19c53d672fdd97c1d": {
      "model_module": "@jupyter-widgets/controls",
      "model_module_version": "1.5.0",
      "model_name": "HBoxModel",
      "state": {
       "_dom_classes": [],
       "_model_module": "@jupyter-widgets/controls",
       "_model_module_version": "1.5.0",
       "_model_name": "HBoxModel",
       "_view_count": null,
       "_view_module": "@jupyter-widgets/controls",
       "_view_module_version": "1.5.0",
       "_view_name": "HBoxView",
       "box_style": "",
       "children": [
        "IPY_MODEL_0705a2d6c13141e692f95c5b8935799e",
        "IPY_MODEL_e8672c84b32f4e078679a535c2f3cf2a",
        "IPY_MODEL_fc455af5454a42168ab9675f8baebaeb"
       ],
       "layout": "IPY_MODEL_58324043518c4f0b8f725db1ca287883"
      }
     },
     "785872b60eaf4e83866b80d58aa20edf": {
      "model_module": "@jupyter-widgets/controls",
      "model_module_version": "1.5.0",
      "model_name": "HTMLModel",
      "state": {
       "_dom_classes": [],
       "_model_module": "@jupyter-widgets/controls",
       "_model_module_version": "1.5.0",
       "_model_name": "HTMLModel",
       "_view_count": null,
       "_view_module": "@jupyter-widgets/controls",
       "_view_module_version": "1.5.0",
       "_view_name": "HTMLView",
       "description": "",
       "description_tooltip": null,
       "layout": "IPY_MODEL_b252bad5a7da4dcb818240d273a9d3a7",
       "placeholder": "​",
       "style": "IPY_MODEL_bb004cf62491465d9c7794ed94ccef40",
       "value": "pytorch_model.bin: 100%"
      }
     },
     "7afd11de89394c6687389f6e1c816f60": {
      "model_module": "@jupyter-widgets/base",
      "model_module_version": "1.2.0",
      "model_name": "LayoutModel",
      "state": {
       "_model_module": "@jupyter-widgets/base",
       "_model_module_version": "1.2.0",
       "_model_name": "LayoutModel",
       "_view_count": null,
       "_view_module": "@jupyter-widgets/base",
       "_view_module_version": "1.2.0",
       "_view_name": "LayoutView",
       "align_content": null,
       "align_items": null,
       "align_self": null,
       "border": null,
       "bottom": null,
       "display": null,
       "flex": null,
       "flex_flow": null,
       "grid_area": null,
       "grid_auto_columns": null,
       "grid_auto_flow": null,
       "grid_auto_rows": null,
       "grid_column": null,
       "grid_gap": null,
       "grid_row": null,
       "grid_template_areas": null,
       "grid_template_columns": null,
       "grid_template_rows": null,
       "height": null,
       "justify_content": null,
       "justify_items": null,
       "left": null,
       "margin": null,
       "max_height": null,
       "max_width": null,
       "min_height": null,
       "min_width": null,
       "object_fit": null,
       "object_position": null,
       "order": null,
       "overflow": null,
       "overflow_x": null,
       "overflow_y": null,
       "padding": null,
       "right": null,
       "top": null,
       "visibility": null,
       "width": null
      }
     },
     "7b1f720f80394acc8ad86f6d082e1e22": {
      "model_module": "@jupyter-widgets/controls",
      "model_module_version": "1.5.0",
      "model_name": "HBoxModel",
      "state": {
       "_dom_classes": [],
       "_model_module": "@jupyter-widgets/controls",
       "_model_module_version": "1.5.0",
       "_model_name": "HBoxModel",
       "_view_count": null,
       "_view_module": "@jupyter-widgets/controls",
       "_view_module_version": "1.5.0",
       "_view_name": "HBoxView",
       "box_style": "",
       "children": [
        "IPY_MODEL_d011d81bb13a4e158078f4e234439ee0",
        "IPY_MODEL_b3de0fb2ff874f95bf416f84a5cff4fe",
        "IPY_MODEL_f3d646223cb4485682f3ddda6154e8c1"
       ],
       "layout": "IPY_MODEL_6fe356c147494c0e84890e667f3930f2"
      }
     },
     "7e82102ac41a4f20ab8be3de63f4dd0c": {
      "model_module": "@jupyter-widgets/controls",
      "model_module_version": "1.5.0",
      "model_name": "ProgressStyleModel",
      "state": {
       "_model_module": "@jupyter-widgets/controls",
       "_model_module_version": "1.5.0",
       "_model_name": "ProgressStyleModel",
       "_view_count": null,
       "_view_module": "@jupyter-widgets/base",
       "_view_module_version": "1.2.0",
       "_view_name": "StyleView",
       "bar_color": null,
       "description_width": ""
      }
     },
     "7ea9c210103a4b8d8b4932b0e754d0a9": {
      "model_module": "@jupyter-widgets/controls",
      "model_module_version": "1.5.0",
      "model_name": "ProgressStyleModel",
      "state": {
       "_model_module": "@jupyter-widgets/controls",
       "_model_module_version": "1.5.0",
       "_model_name": "ProgressStyleModel",
       "_view_count": null,
       "_view_module": "@jupyter-widgets/base",
       "_view_module_version": "1.2.0",
       "_view_name": "StyleView",
       "bar_color": null,
       "description_width": ""
      }
     },
     "83d116435aeb4547ba08025cd3ae59d7": {
      "model_module": "@jupyter-widgets/base",
      "model_module_version": "1.2.0",
      "model_name": "LayoutModel",
      "state": {
       "_model_module": "@jupyter-widgets/base",
       "_model_module_version": "1.2.0",
       "_model_name": "LayoutModel",
       "_view_count": null,
       "_view_module": "@jupyter-widgets/base",
       "_view_module_version": "1.2.0",
       "_view_name": "LayoutView",
       "align_content": null,
       "align_items": null,
       "align_self": null,
       "border": null,
       "bottom": null,
       "display": null,
       "flex": null,
       "flex_flow": null,
       "grid_area": null,
       "grid_auto_columns": null,
       "grid_auto_flow": null,
       "grid_auto_rows": null,
       "grid_column": null,
       "grid_gap": null,
       "grid_row": null,
       "grid_template_areas": null,
       "grid_template_columns": null,
       "grid_template_rows": null,
       "height": null,
       "justify_content": null,
       "justify_items": null,
       "left": null,
       "margin": null,
       "max_height": null,
       "max_width": null,
       "min_height": null,
       "min_width": null,
       "object_fit": null,
       "object_position": null,
       "order": null,
       "overflow": null,
       "overflow_x": null,
       "overflow_y": null,
       "padding": null,
       "right": null,
       "top": null,
       "visibility": null,
       "width": null
      }
     },
     "842294656bac4606b34baf824c324109": {
      "model_module": "@jupyter-widgets/controls",
      "model_module_version": "1.5.0",
      "model_name": "HBoxModel",
      "state": {
       "_dom_classes": [],
       "_model_module": "@jupyter-widgets/controls",
       "_model_module_version": "1.5.0",
       "_model_name": "HBoxModel",
       "_view_count": null,
       "_view_module": "@jupyter-widgets/controls",
       "_view_module_version": "1.5.0",
       "_view_name": "HBoxView",
       "box_style": "",
       "children": [
        "IPY_MODEL_cb4e1a5a4353442f8000b01718d4d458",
        "IPY_MODEL_a69a473f027742839462cfe9d0bc6ab7",
        "IPY_MODEL_c215d53aa18b43f695b099a110f8a25e"
       ],
       "layout": "IPY_MODEL_56ded9aa5efc4052ac2119add062325a"
      }
     },
     "84ae8b0581f34132a8a5153967725d88": {
      "model_module": "@jupyter-widgets/controls",
      "model_module_version": "1.5.0",
      "model_name": "HTMLModel",
      "state": {
       "_dom_classes": [],
       "_model_module": "@jupyter-widgets/controls",
       "_model_module_version": "1.5.0",
       "_model_name": "HTMLModel",
       "_view_count": null,
       "_view_module": "@jupyter-widgets/controls",
       "_view_module_version": "1.5.0",
       "_view_name": "HTMLView",
       "description": "",
       "description_tooltip": null,
       "layout": "IPY_MODEL_f7ed44fab663426a9c1e9290c48ed383",
       "placeholder": "​",
       "style": "IPY_MODEL_8801c11e9c994401805b33c336ac1152",
       "value": "Extracting data files: 100%"
      }
     },
     "855ce54d9ba445eda8da8a6c81d6cdd7": {
      "model_module": "@jupyter-widgets/controls",
      "model_module_version": "1.5.0",
      "model_name": "ProgressStyleModel",
      "state": {
       "_model_module": "@jupyter-widgets/controls",
       "_model_module_version": "1.5.0",
       "_model_name": "ProgressStyleModel",
       "_view_count": null,
       "_view_module": "@jupyter-widgets/base",
       "_view_module_version": "1.2.0",
       "_view_name": "StyleView",
       "bar_color": null,
       "description_width": ""
      }
     },
     "8619265803da41d2a16aecd0b99f49e6": {
      "model_module": "@jupyter-widgets/controls",
      "model_module_version": "1.5.0",
      "model_name": "ProgressStyleModel",
      "state": {
       "_model_module": "@jupyter-widgets/controls",
       "_model_module_version": "1.5.0",
       "_model_name": "ProgressStyleModel",
       "_view_count": null,
       "_view_module": "@jupyter-widgets/base",
       "_view_module_version": "1.2.0",
       "_view_name": "StyleView",
       "bar_color": null,
       "description_width": ""
      }
     },
     "87b110f1aed8411da5d532f48be69154": {
      "model_module": "@jupyter-widgets/base",
      "model_module_version": "1.2.0",
      "model_name": "LayoutModel",
      "state": {
       "_model_module": "@jupyter-widgets/base",
       "_model_module_version": "1.2.0",
       "_model_name": "LayoutModel",
       "_view_count": null,
       "_view_module": "@jupyter-widgets/base",
       "_view_module_version": "1.2.0",
       "_view_name": "LayoutView",
       "align_content": null,
       "align_items": null,
       "align_self": null,
       "border": null,
       "bottom": null,
       "display": null,
       "flex": null,
       "flex_flow": null,
       "grid_area": null,
       "grid_auto_columns": null,
       "grid_auto_flow": null,
       "grid_auto_rows": null,
       "grid_column": null,
       "grid_gap": null,
       "grid_row": null,
       "grid_template_areas": null,
       "grid_template_columns": null,
       "grid_template_rows": null,
       "height": null,
       "justify_content": null,
       "justify_items": null,
       "left": null,
       "margin": null,
       "max_height": null,
       "max_width": null,
       "min_height": null,
       "min_width": null,
       "object_fit": null,
       "object_position": null,
       "order": null,
       "overflow": null,
       "overflow_x": null,
       "overflow_y": null,
       "padding": null,
       "right": null,
       "top": null,
       "visibility": null,
       "width": null
      }
     },
     "87ed3241e4ca40af95139b7ef7a79e55": {
      "model_module": "@jupyter-widgets/controls",
      "model_module_version": "1.5.0",
      "model_name": "HBoxModel",
      "state": {
       "_dom_classes": [],
       "_model_module": "@jupyter-widgets/controls",
       "_model_module_version": "1.5.0",
       "_model_name": "HBoxModel",
       "_view_count": null,
       "_view_module": "@jupyter-widgets/controls",
       "_view_module_version": "1.5.0",
       "_view_name": "HBoxView",
       "box_style": "",
       "children": [
        "IPY_MODEL_d1ef211e0db446008252cb0f63b7806f",
        "IPY_MODEL_6aabd93938664f0f829f096e2a7eb6d1",
        "IPY_MODEL_51a2b258aff544f5be7ce7e485bc2c9e"
       ],
       "layout": "IPY_MODEL_83d116435aeb4547ba08025cd3ae59d7"
      }
     },
     "8801c11e9c994401805b33c336ac1152": {
      "model_module": "@jupyter-widgets/controls",
      "model_module_version": "1.5.0",
      "model_name": "DescriptionStyleModel",
      "state": {
       "_model_module": "@jupyter-widgets/controls",
       "_model_module_version": "1.5.0",
       "_model_name": "DescriptionStyleModel",
       "_view_count": null,
       "_view_module": "@jupyter-widgets/base",
       "_view_module_version": "1.2.0",
       "_view_name": "StyleView",
       "description_width": ""
      }
     },
     "89ef449433154bda84d436402df4523d": {
      "model_module": "@jupyter-widgets/controls",
      "model_module_version": "1.5.0",
      "model_name": "HBoxModel",
      "state": {
       "_dom_classes": [],
       "_model_module": "@jupyter-widgets/controls",
       "_model_module_version": "1.5.0",
       "_model_name": "HBoxModel",
       "_view_count": null,
       "_view_module": "@jupyter-widgets/controls",
       "_view_module_version": "1.5.0",
       "_view_name": "HBoxView",
       "box_style": "",
       "children": [
        "IPY_MODEL_71483fc493304d518fbd405789a59931",
        "IPY_MODEL_49770bc5b7494ac3b1755acadcac8905",
        "IPY_MODEL_e5504ebf03bb455dbf350992ae210122"
       ],
       "layout": "IPY_MODEL_9e04574f95e942ffb3fe58db637ef48b"
      }
     },
     "8a709811d2384865b110a1c950341395": {
      "model_module": "@jupyter-widgets/base",
      "model_module_version": "1.2.0",
      "model_name": "LayoutModel",
      "state": {
       "_model_module": "@jupyter-widgets/base",
       "_model_module_version": "1.2.0",
       "_model_name": "LayoutModel",
       "_view_count": null,
       "_view_module": "@jupyter-widgets/base",
       "_view_module_version": "1.2.0",
       "_view_name": "LayoutView",
       "align_content": null,
       "align_items": null,
       "align_self": null,
       "border": null,
       "bottom": null,
       "display": null,
       "flex": null,
       "flex_flow": null,
       "grid_area": null,
       "grid_auto_columns": null,
       "grid_auto_flow": null,
       "grid_auto_rows": null,
       "grid_column": null,
       "grid_gap": null,
       "grid_row": null,
       "grid_template_areas": null,
       "grid_template_columns": null,
       "grid_template_rows": null,
       "height": null,
       "justify_content": null,
       "justify_items": null,
       "left": null,
       "margin": null,
       "max_height": null,
       "max_width": null,
       "min_height": null,
       "min_width": null,
       "object_fit": null,
       "object_position": null,
       "order": null,
       "overflow": null,
       "overflow_x": null,
       "overflow_y": null,
       "padding": null,
       "right": null,
       "top": null,
       "visibility": null,
       "width": null
      }
     },
     "8e8862ad62014f38a143b8636ceb9aca": {
      "model_module": "@jupyter-widgets/controls",
      "model_module_version": "1.5.0",
      "model_name": "HTMLModel",
      "state": {
       "_dom_classes": [],
       "_model_module": "@jupyter-widgets/controls",
       "_model_module_version": "1.5.0",
       "_model_name": "HTMLModel",
       "_view_count": null,
       "_view_module": "@jupyter-widgets/controls",
       "_view_module_version": "1.5.0",
       "_view_name": "HTMLView",
       "description": "",
       "description_tooltip": null,
       "layout": "IPY_MODEL_b2b3bba369924860b9cbff76f12650c5",
       "placeholder": "​",
       "style": "IPY_MODEL_48e77af0ac4b43ae8a0d3498c3d00373",
       "value": " 328M/328M [00:05&lt;00:00, 66.6MB/s]"
      }
     },
     "8ec0805959f44368ac9177494fd31b97": {
      "model_module": "@jupyter-widgets/controls",
      "model_module_version": "1.5.0",
      "model_name": "ProgressStyleModel",
      "state": {
       "_model_module": "@jupyter-widgets/controls",
       "_model_module_version": "1.5.0",
       "_model_name": "ProgressStyleModel",
       "_view_count": null,
       "_view_module": "@jupyter-widgets/base",
       "_view_module_version": "1.2.0",
       "_view_name": "StyleView",
       "bar_color": null,
       "description_width": ""
      }
     },
     "93ade97c4584488c8a067ca3136d3dee": {
      "model_module": "@jupyter-widgets/base",
      "model_module_version": "1.2.0",
      "model_name": "LayoutModel",
      "state": {
       "_model_module": "@jupyter-widgets/base",
       "_model_module_version": "1.2.0",
       "_model_name": "LayoutModel",
       "_view_count": null,
       "_view_module": "@jupyter-widgets/base",
       "_view_module_version": "1.2.0",
       "_view_name": "LayoutView",
       "align_content": null,
       "align_items": null,
       "align_self": null,
       "border": null,
       "bottom": null,
       "display": null,
       "flex": null,
       "flex_flow": null,
       "grid_area": null,
       "grid_auto_columns": null,
       "grid_auto_flow": null,
       "grid_auto_rows": null,
       "grid_column": null,
       "grid_gap": null,
       "grid_row": null,
       "grid_template_areas": null,
       "grid_template_columns": null,
       "grid_template_rows": null,
       "height": null,
       "justify_content": null,
       "justify_items": null,
       "left": null,
       "margin": null,
       "max_height": null,
       "max_width": null,
       "min_height": null,
       "min_width": null,
       "object_fit": null,
       "object_position": null,
       "order": null,
       "overflow": null,
       "overflow_x": null,
       "overflow_y": null,
       "padding": null,
       "right": null,
       "top": null,
       "visibility": null,
       "width": null
      }
     },
     "96669cb637bc40128a149249e7b09c28": {
      "model_module": "@jupyter-widgets/controls",
      "model_module_version": "1.5.0",
      "model_name": "DescriptionStyleModel",
      "state": {
       "_model_module": "@jupyter-widgets/controls",
       "_model_module_version": "1.5.0",
       "_model_name": "DescriptionStyleModel",
       "_view_count": null,
       "_view_module": "@jupyter-widgets/base",
       "_view_module_version": "1.2.0",
       "_view_name": "StyleView",
       "description_width": ""
      }
     },
     "99c7ba8bd7bf4bad84b42cb940ebaebb": {
      "model_module": "@jupyter-widgets/controls",
      "model_module_version": "1.5.0",
      "model_name": "HTMLModel",
      "state": {
       "_dom_classes": [],
       "_model_module": "@jupyter-widgets/controls",
       "_model_module_version": "1.5.0",
       "_model_name": "HTMLModel",
       "_view_count": null,
       "_view_module": "@jupyter-widgets/controls",
       "_view_module_version": "1.5.0",
       "_view_name": "HTMLView",
       "description": "",
       "description_tooltip": null,
       "layout": "IPY_MODEL_7afd11de89394c6687389f6e1c816f60",
       "placeholder": "​",
       "style": "IPY_MODEL_4d353768b35e40d6b91f2e8aa7d7ca5e",
       "value": " 3/3 [00:00&lt;00:00, 225.97it/s]"
      }
     },
     "9bc6fe253b0a4247a2ab4376fd704ed8": {
      "model_module": "@jupyter-widgets/base",
      "model_module_version": "1.2.0",
      "model_name": "LayoutModel",
      "state": {
       "_model_module": "@jupyter-widgets/base",
       "_model_module_version": "1.2.0",
       "_model_name": "LayoutModel",
       "_view_count": null,
       "_view_module": "@jupyter-widgets/base",
       "_view_module_version": "1.2.0",
       "_view_name": "LayoutView",
       "align_content": null,
       "align_items": null,
       "align_self": null,
       "border": null,
       "bottom": null,
       "display": null,
       "flex": null,
       "flex_flow": null,
       "grid_area": null,
       "grid_auto_columns": null,
       "grid_auto_flow": null,
       "grid_auto_rows": null,
       "grid_column": null,
       "grid_gap": null,
       "grid_row": null,
       "grid_template_areas": null,
       "grid_template_columns": null,
       "grid_template_rows": null,
       "height": null,
       "justify_content": null,
       "justify_items": null,
       "left": null,
       "margin": null,
       "max_height": null,
       "max_width": null,
       "min_height": null,
       "min_width": null,
       "object_fit": null,
       "object_position": null,
       "order": null,
       "overflow": null,
       "overflow_x": null,
       "overflow_y": null,
       "padding": null,
       "right": null,
       "top": null,
       "visibility": null,
       "width": null
      }
     },
     "9e04574f95e942ffb3fe58db637ef48b": {
      "model_module": "@jupyter-widgets/base",
      "model_module_version": "1.2.0",
      "model_name": "LayoutModel",
      "state": {
       "_model_module": "@jupyter-widgets/base",
       "_model_module_version": "1.2.0",
       "_model_name": "LayoutModel",
       "_view_count": null,
       "_view_module": "@jupyter-widgets/base",
       "_view_module_version": "1.2.0",
       "_view_name": "LayoutView",
       "align_content": null,
       "align_items": null,
       "align_self": null,
       "border": null,
       "bottom": null,
       "display": null,
       "flex": null,
       "flex_flow": null,
       "grid_area": null,
       "grid_auto_columns": null,
       "grid_auto_flow": null,
       "grid_auto_rows": null,
       "grid_column": null,
       "grid_gap": null,
       "grid_row": null,
       "grid_template_areas": null,
       "grid_template_columns": null,
       "grid_template_rows": null,
       "height": null,
       "justify_content": null,
       "justify_items": null,
       "left": null,
       "margin": null,
       "max_height": null,
       "max_width": null,
       "min_height": null,
       "min_width": null,
       "object_fit": null,
       "object_position": null,
       "order": null,
       "overflow": null,
       "overflow_x": null,
       "overflow_y": null,
       "padding": null,
       "right": null,
       "top": null,
       "visibility": null,
       "width": null
      }
     },
     "9fadec9214224b2988938fda6ba9199e": {
      "model_module": "@jupyter-widgets/base",
      "model_module_version": "1.2.0",
      "model_name": "LayoutModel",
      "state": {
       "_model_module": "@jupyter-widgets/base",
       "_model_module_version": "1.2.0",
       "_model_name": "LayoutModel",
       "_view_count": null,
       "_view_module": "@jupyter-widgets/base",
       "_view_module_version": "1.2.0",
       "_view_name": "LayoutView",
       "align_content": null,
       "align_items": null,
       "align_self": null,
       "border": null,
       "bottom": null,
       "display": null,
       "flex": null,
       "flex_flow": null,
       "grid_area": null,
       "grid_auto_columns": null,
       "grid_auto_flow": null,
       "grid_auto_rows": null,
       "grid_column": null,
       "grid_gap": null,
       "grid_row": null,
       "grid_template_areas": null,
       "grid_template_columns": null,
       "grid_template_rows": null,
       "height": null,
       "justify_content": null,
       "justify_items": null,
       "left": null,
       "margin": null,
       "max_height": null,
       "max_width": null,
       "min_height": null,
       "min_width": null,
       "object_fit": null,
       "object_position": null,
       "order": null,
       "overflow": null,
       "overflow_x": null,
       "overflow_y": null,
       "padding": null,
       "right": null,
       "top": null,
       "visibility": null,
       "width": null
      }
     },
     "a002d4596ba6472cbf76103f1f566728": {
      "model_module": "@jupyter-widgets/controls",
      "model_module_version": "1.5.0",
      "model_name": "DescriptionStyleModel",
      "state": {
       "_model_module": "@jupyter-widgets/controls",
       "_model_module_version": "1.5.0",
       "_model_name": "DescriptionStyleModel",
       "_view_count": null,
       "_view_module": "@jupyter-widgets/base",
       "_view_module_version": "1.2.0",
       "_view_name": "StyleView",
       "description_width": ""
      }
     },
     "a18a48619048404e9908a17191c99b5a": {
      "model_module": "@jupyter-widgets/controls",
      "model_module_version": "1.5.0",
      "model_name": "ProgressStyleModel",
      "state": {
       "_model_module": "@jupyter-widgets/controls",
       "_model_module_version": "1.5.0",
       "_model_name": "ProgressStyleModel",
       "_view_count": null,
       "_view_module": "@jupyter-widgets/base",
       "_view_module_version": "1.2.0",
       "_view_name": "StyleView",
       "bar_color": null,
       "description_width": ""
      }
     },
     "a452dfcf0a984123a36fb7d8759fef8d": {
      "model_module": "@jupyter-widgets/base",
      "model_module_version": "1.2.0",
      "model_name": "LayoutModel",
      "state": {
       "_model_module": "@jupyter-widgets/base",
       "_model_module_version": "1.2.0",
       "_model_name": "LayoutModel",
       "_view_count": null,
       "_view_module": "@jupyter-widgets/base",
       "_view_module_version": "1.2.0",
       "_view_name": "LayoutView",
       "align_content": null,
       "align_items": null,
       "align_self": null,
       "border": null,
       "bottom": null,
       "display": null,
       "flex": null,
       "flex_flow": null,
       "grid_area": null,
       "grid_auto_columns": null,
       "grid_auto_flow": null,
       "grid_auto_rows": null,
       "grid_column": null,
       "grid_gap": null,
       "grid_row": null,
       "grid_template_areas": null,
       "grid_template_columns": null,
       "grid_template_rows": null,
       "height": null,
       "justify_content": null,
       "justify_items": null,
       "left": null,
       "margin": null,
       "max_height": null,
       "max_width": null,
       "min_height": null,
       "min_width": null,
       "object_fit": null,
       "object_position": null,
       "order": null,
       "overflow": null,
       "overflow_x": null,
       "overflow_y": null,
       "padding": null,
       "right": null,
       "top": null,
       "visibility": null,
       "width": null
      }
     },
     "a456f7150af5422eb928c1d94e288cb9": {
      "model_module": "@jupyter-widgets/base",
      "model_module_version": "1.2.0",
      "model_name": "LayoutModel",
      "state": {
       "_model_module": "@jupyter-widgets/base",
       "_model_module_version": "1.2.0",
       "_model_name": "LayoutModel",
       "_view_count": null,
       "_view_module": "@jupyter-widgets/base",
       "_view_module_version": "1.2.0",
       "_view_name": "LayoutView",
       "align_content": null,
       "align_items": null,
       "align_self": null,
       "border": null,
       "bottom": null,
       "display": null,
       "flex": null,
       "flex_flow": null,
       "grid_area": null,
       "grid_auto_columns": null,
       "grid_auto_flow": null,
       "grid_auto_rows": null,
       "grid_column": null,
       "grid_gap": null,
       "grid_row": null,
       "grid_template_areas": null,
       "grid_template_columns": null,
       "grid_template_rows": null,
       "height": null,
       "justify_content": null,
       "justify_items": null,
       "left": null,
       "margin": null,
       "max_height": null,
       "max_width": null,
       "min_height": null,
       "min_width": null,
       "object_fit": null,
       "object_position": null,
       "order": null,
       "overflow": null,
       "overflow_x": null,
       "overflow_y": null,
       "padding": null,
       "right": null,
       "top": null,
       "visibility": null,
       "width": null
      }
     },
     "a6397b366828444594dd15c3f827dfe2": {
      "model_module": "@jupyter-widgets/controls",
      "model_module_version": "1.5.0",
      "model_name": "DescriptionStyleModel",
      "state": {
       "_model_module": "@jupyter-widgets/controls",
       "_model_module_version": "1.5.0",
       "_model_name": "DescriptionStyleModel",
       "_view_count": null,
       "_view_module": "@jupyter-widgets/base",
       "_view_module_version": "1.2.0",
       "_view_name": "StyleView",
       "description_width": ""
      }
     },
     "a69a473f027742839462cfe9d0bc6ab7": {
      "model_module": "@jupyter-widgets/controls",
      "model_module_version": "1.5.0",
      "model_name": "FloatProgressModel",
      "state": {
       "_dom_classes": [],
       "_model_module": "@jupyter-widgets/controls",
       "_model_module_version": "1.5.0",
       "_model_name": "FloatProgressModel",
       "_view_count": null,
       "_view_module": "@jupyter-widgets/controls",
       "_view_module_version": "1.5.0",
       "_view_name": "ProgressView",
       "bar_style": "success",
       "description": "",
       "description_tooltip": null,
       "layout": "IPY_MODEL_2882991b1dbb4351b060b7347fcf00e2",
       "max": 1,
       "min": 0,
       "orientation": "horizontal",
       "style": "IPY_MODEL_2289d1f0a1444e91b713e4811df8f90e",
       "value": 1
      }
     },
     "a772706303554723917006906059f9f6": {
      "model_module": "@jupyter-widgets/controls",
      "model_module_version": "1.5.0",
      "model_name": "DescriptionStyleModel",
      "state": {
       "_model_module": "@jupyter-widgets/controls",
       "_model_module_version": "1.5.0",
       "_model_name": "DescriptionStyleModel",
       "_view_count": null,
       "_view_module": "@jupyter-widgets/base",
       "_view_module_version": "1.2.0",
       "_view_name": "StyleView",
       "description_width": ""
      }
     },
     "a9bd91a77c6e495eb71968b7659b4b16": {
      "model_module": "@jupyter-widgets/base",
      "model_module_version": "1.2.0",
      "model_name": "LayoutModel",
      "state": {
       "_model_module": "@jupyter-widgets/base",
       "_model_module_version": "1.2.0",
       "_model_name": "LayoutModel",
       "_view_count": null,
       "_view_module": "@jupyter-widgets/base",
       "_view_module_version": "1.2.0",
       "_view_name": "LayoutView",
       "align_content": null,
       "align_items": null,
       "align_self": null,
       "border": null,
       "bottom": null,
       "display": null,
       "flex": null,
       "flex_flow": null,
       "grid_area": null,
       "grid_auto_columns": null,
       "grid_auto_flow": null,
       "grid_auto_rows": null,
       "grid_column": null,
       "grid_gap": null,
       "grid_row": null,
       "grid_template_areas": null,
       "grid_template_columns": null,
       "grid_template_rows": null,
       "height": null,
       "justify_content": null,
       "justify_items": null,
       "left": null,
       "margin": null,
       "max_height": null,
       "max_width": null,
       "min_height": null,
       "min_width": null,
       "object_fit": null,
       "object_position": null,
       "order": null,
       "overflow": null,
       "overflow_x": null,
       "overflow_y": null,
       "padding": null,
       "right": null,
       "top": null,
       "visibility": null,
       "width": null
      }
     },
     "acfa095e90694fe2a5edea2b398e3cc0": {
      "model_module": "@jupyter-widgets/base",
      "model_module_version": "1.2.0",
      "model_name": "LayoutModel",
      "state": {
       "_model_module": "@jupyter-widgets/base",
       "_model_module_version": "1.2.0",
       "_model_name": "LayoutModel",
       "_view_count": null,
       "_view_module": "@jupyter-widgets/base",
       "_view_module_version": "1.2.0",
       "_view_name": "LayoutView",
       "align_content": null,
       "align_items": null,
       "align_self": null,
       "border": null,
       "bottom": null,
       "display": null,
       "flex": null,
       "flex_flow": null,
       "grid_area": null,
       "grid_auto_columns": null,
       "grid_auto_flow": null,
       "grid_auto_rows": null,
       "grid_column": null,
       "grid_gap": null,
       "grid_row": null,
       "grid_template_areas": null,
       "grid_template_columns": null,
       "grid_template_rows": null,
       "height": null,
       "justify_content": null,
       "justify_items": null,
       "left": null,
       "margin": null,
       "max_height": null,
       "max_width": null,
       "min_height": null,
       "min_width": null,
       "object_fit": null,
       "object_position": null,
       "order": null,
       "overflow": null,
       "overflow_x": null,
       "overflow_y": null,
       "padding": null,
       "right": null,
       "top": null,
       "visibility": null,
       "width": null
      }
     },
     "ad84f6e7c80045629148db741f27c28b": {
      "model_module": "@jupyter-widgets/controls",
      "model_module_version": "1.5.0",
      "model_name": "DescriptionStyleModel",
      "state": {
       "_model_module": "@jupyter-widgets/controls",
       "_model_module_version": "1.5.0",
       "_model_name": "DescriptionStyleModel",
       "_view_count": null,
       "_view_module": "@jupyter-widgets/base",
       "_view_module_version": "1.2.0",
       "_view_name": "StyleView",
       "description_width": ""
      }
     },
     "af4e88ce247b4eb2b3ea76d5d53855db": {
      "model_module": "@jupyter-widgets/base",
      "model_module_version": "1.2.0",
      "model_name": "LayoutModel",
      "state": {
       "_model_module": "@jupyter-widgets/base",
       "_model_module_version": "1.2.0",
       "_model_name": "LayoutModel",
       "_view_count": null,
       "_view_module": "@jupyter-widgets/base",
       "_view_module_version": "1.2.0",
       "_view_name": "LayoutView",
       "align_content": null,
       "align_items": null,
       "align_self": null,
       "border": null,
       "bottom": null,
       "display": null,
       "flex": null,
       "flex_flow": null,
       "grid_area": null,
       "grid_auto_columns": null,
       "grid_auto_flow": null,
       "grid_auto_rows": null,
       "grid_column": null,
       "grid_gap": null,
       "grid_row": null,
       "grid_template_areas": null,
       "grid_template_columns": null,
       "grid_template_rows": null,
       "height": null,
       "justify_content": null,
       "justify_items": null,
       "left": null,
       "margin": null,
       "max_height": null,
       "max_width": null,
       "min_height": null,
       "min_width": null,
       "object_fit": null,
       "object_position": null,
       "order": null,
       "overflow": null,
       "overflow_x": null,
       "overflow_y": null,
       "padding": null,
       "right": null,
       "top": null,
       "visibility": null,
       "width": null
      }
     },
     "b0093d2aaa2a4b5c8936e8465b7954c1": {
      "model_module": "@jupyter-widgets/controls",
      "model_module_version": "1.5.0",
      "model_name": "DescriptionStyleModel",
      "state": {
       "_model_module": "@jupyter-widgets/controls",
       "_model_module_version": "1.5.0",
       "_model_name": "DescriptionStyleModel",
       "_view_count": null,
       "_view_module": "@jupyter-widgets/base",
       "_view_module_version": "1.2.0",
       "_view_name": "StyleView",
       "description_width": ""
      }
     },
     "b2118883429840c1b6a02308f9240319": {
      "model_module": "@jupyter-widgets/base",
      "model_module_version": "1.2.0",
      "model_name": "LayoutModel",
      "state": {
       "_model_module": "@jupyter-widgets/base",
       "_model_module_version": "1.2.0",
       "_model_name": "LayoutModel",
       "_view_count": null,
       "_view_module": "@jupyter-widgets/base",
       "_view_module_version": "1.2.0",
       "_view_name": "LayoutView",
       "align_content": null,
       "align_items": null,
       "align_self": null,
       "border": null,
       "bottom": null,
       "display": null,
       "flex": null,
       "flex_flow": null,
       "grid_area": null,
       "grid_auto_columns": null,
       "grid_auto_flow": null,
       "grid_auto_rows": null,
       "grid_column": null,
       "grid_gap": null,
       "grid_row": null,
       "grid_template_areas": null,
       "grid_template_columns": null,
       "grid_template_rows": null,
       "height": null,
       "justify_content": null,
       "justify_items": null,
       "left": null,
       "margin": null,
       "max_height": null,
       "max_width": null,
       "min_height": null,
       "min_width": null,
       "object_fit": null,
       "object_position": null,
       "order": null,
       "overflow": null,
       "overflow_x": null,
       "overflow_y": null,
       "padding": null,
       "right": null,
       "top": null,
       "visibility": null,
       "width": null
      }
     },
     "b252bad5a7da4dcb818240d273a9d3a7": {
      "model_module": "@jupyter-widgets/base",
      "model_module_version": "1.2.0",
      "model_name": "LayoutModel",
      "state": {
       "_model_module": "@jupyter-widgets/base",
       "_model_module_version": "1.2.0",
       "_model_name": "LayoutModel",
       "_view_count": null,
       "_view_module": "@jupyter-widgets/base",
       "_view_module_version": "1.2.0",
       "_view_name": "LayoutView",
       "align_content": null,
       "align_items": null,
       "align_self": null,
       "border": null,
       "bottom": null,
       "display": null,
       "flex": null,
       "flex_flow": null,
       "grid_area": null,
       "grid_auto_columns": null,
       "grid_auto_flow": null,
       "grid_auto_rows": null,
       "grid_column": null,
       "grid_gap": null,
       "grid_row": null,
       "grid_template_areas": null,
       "grid_template_columns": null,
       "grid_template_rows": null,
       "height": null,
       "justify_content": null,
       "justify_items": null,
       "left": null,
       "margin": null,
       "max_height": null,
       "max_width": null,
       "min_height": null,
       "min_width": null,
       "object_fit": null,
       "object_position": null,
       "order": null,
       "overflow": null,
       "overflow_x": null,
       "overflow_y": null,
       "padding": null,
       "right": null,
       "top": null,
       "visibility": null,
       "width": null
      }
     },
     "b2b3bba369924860b9cbff76f12650c5": {
      "model_module": "@jupyter-widgets/base",
      "model_module_version": "1.2.0",
      "model_name": "LayoutModel",
      "state": {
       "_model_module": "@jupyter-widgets/base",
       "_model_module_version": "1.2.0",
       "_model_name": "LayoutModel",
       "_view_count": null,
       "_view_module": "@jupyter-widgets/base",
       "_view_module_version": "1.2.0",
       "_view_name": "LayoutView",
       "align_content": null,
       "align_items": null,
       "align_self": null,
       "border": null,
       "bottom": null,
       "display": null,
       "flex": null,
       "flex_flow": null,
       "grid_area": null,
       "grid_auto_columns": null,
       "grid_auto_flow": null,
       "grid_auto_rows": null,
       "grid_column": null,
       "grid_gap": null,
       "grid_row": null,
       "grid_template_areas": null,
       "grid_template_columns": null,
       "grid_template_rows": null,
       "height": null,
       "justify_content": null,
       "justify_items": null,
       "left": null,
       "margin": null,
       "max_height": null,
       "max_width": null,
       "min_height": null,
       "min_width": null,
       "object_fit": null,
       "object_position": null,
       "order": null,
       "overflow": null,
       "overflow_x": null,
       "overflow_y": null,
       "padding": null,
       "right": null,
       "top": null,
       "visibility": null,
       "width": null
      }
     },
     "b2fdab93e08d4db7ba9bdaef475bb317": {
      "model_module": "@jupyter-widgets/controls",
      "model_module_version": "1.5.0",
      "model_name": "HBoxModel",
      "state": {
       "_dom_classes": [],
       "_model_module": "@jupyter-widgets/controls",
       "_model_module_version": "1.5.0",
       "_model_name": "HBoxModel",
       "_view_count": null,
       "_view_module": "@jupyter-widgets/controls",
       "_view_module_version": "1.5.0",
       "_view_name": "HBoxView",
       "box_style": "",
       "children": [
        "IPY_MODEL_84ae8b0581f34132a8a5153967725d88",
        "IPY_MODEL_65ce4558b8654a7aac69ea6090bd249a",
        "IPY_MODEL_ca9852689eba40f086dec90d5f5f3574"
       ],
       "layout": "IPY_MODEL_5093d175607a4f1098685077570c2d2d"
      }
     },
     "b3de0fb2ff874f95bf416f84a5cff4fe": {
      "model_module": "@jupyter-widgets/controls",
      "model_module_version": "1.5.0",
      "model_name": "FloatProgressModel",
      "state": {
       "_dom_classes": [],
       "_model_module": "@jupyter-widgets/controls",
       "_model_module_version": "1.5.0",
       "_model_name": "FloatProgressModel",
       "_view_count": null,
       "_view_module": "@jupyter-widgets/controls",
       "_view_module_version": "1.5.0",
       "_view_name": "ProgressView",
       "bar_style": "success",
       "description": "",
       "description_tooltip": null,
       "layout": "IPY_MODEL_bb4b716f213446e08b24cfc9630d2f0c",
       "max": 6338,
       "min": 0,
       "orientation": "horizontal",
       "style": "IPY_MODEL_e0b0a110ca984bb5b46ddee140412eff",
       "value": 6338
      }
     },
     "bb004cf62491465d9c7794ed94ccef40": {
      "model_module": "@jupyter-widgets/controls",
      "model_module_version": "1.5.0",
      "model_name": "DescriptionStyleModel",
      "state": {
       "_model_module": "@jupyter-widgets/controls",
       "_model_module_version": "1.5.0",
       "_model_name": "DescriptionStyleModel",
       "_view_count": null,
       "_view_module": "@jupyter-widgets/base",
       "_view_module_version": "1.2.0",
       "_view_name": "StyleView",
       "description_width": ""
      }
     },
     "bb4b716f213446e08b24cfc9630d2f0c": {
      "model_module": "@jupyter-widgets/base",
      "model_module_version": "1.2.0",
      "model_name": "LayoutModel",
      "state": {
       "_model_module": "@jupyter-widgets/base",
       "_model_module_version": "1.2.0",
       "_model_name": "LayoutModel",
       "_view_count": null,
       "_view_module": "@jupyter-widgets/base",
       "_view_module_version": "1.2.0",
       "_view_name": "LayoutView",
       "align_content": null,
       "align_items": null,
       "align_self": null,
       "border": null,
       "bottom": null,
       "display": null,
       "flex": null,
       "flex_flow": null,
       "grid_area": null,
       "grid_auto_columns": null,
       "grid_auto_flow": null,
       "grid_auto_rows": null,
       "grid_column": null,
       "grid_gap": null,
       "grid_row": null,
       "grid_template_areas": null,
       "grid_template_columns": null,
       "grid_template_rows": null,
       "height": null,
       "justify_content": null,
       "justify_items": null,
       "left": null,
       "margin": null,
       "max_height": null,
       "max_width": null,
       "min_height": null,
       "min_width": null,
       "object_fit": null,
       "object_position": null,
       "order": null,
       "overflow": null,
       "overflow_x": null,
       "overflow_y": null,
       "padding": null,
       "right": null,
       "top": null,
       "visibility": null,
       "width": null
      }
     },
     "c0376f480de042748ab862459e9e633b": {
      "model_module": "@jupyter-widgets/base",
      "model_module_version": "1.2.0",
      "model_name": "LayoutModel",
      "state": {
       "_model_module": "@jupyter-widgets/base",
       "_model_module_version": "1.2.0",
       "_model_name": "LayoutModel",
       "_view_count": null,
       "_view_module": "@jupyter-widgets/base",
       "_view_module_version": "1.2.0",
       "_view_name": "LayoutView",
       "align_content": null,
       "align_items": null,
       "align_self": null,
       "border": null,
       "bottom": null,
       "display": null,
       "flex": null,
       "flex_flow": null,
       "grid_area": null,
       "grid_auto_columns": null,
       "grid_auto_flow": null,
       "grid_auto_rows": null,
       "grid_column": null,
       "grid_gap": null,
       "grid_row": null,
       "grid_template_areas": null,
       "grid_template_columns": null,
       "grid_template_rows": null,
       "height": null,
       "justify_content": null,
       "justify_items": null,
       "left": null,
       "margin": null,
       "max_height": null,
       "max_width": null,
       "min_height": null,
       "min_width": null,
       "object_fit": null,
       "object_position": null,
       "order": null,
       "overflow": null,
       "overflow_x": null,
       "overflow_y": null,
       "padding": null,
       "right": null,
       "top": null,
       "visibility": null,
       "width": null
      }
     },
     "c215d53aa18b43f695b099a110f8a25e": {
      "model_module": "@jupyter-widgets/controls",
      "model_module_version": "1.5.0",
      "model_name": "HTMLModel",
      "state": {
       "_dom_classes": [],
       "_model_module": "@jupyter-widgets/controls",
       "_model_module_version": "1.5.0",
       "_model_name": "HTMLModel",
       "_view_count": null,
       "_view_module": "@jupyter-widgets/controls",
       "_view_module_version": "1.5.0",
       "_view_name": "HTMLView",
       "description": "",
       "description_tooltip": null,
       "layout": "IPY_MODEL_77228ec8bb7b4303ac5894770e224c8d",
       "placeholder": "​",
       "style": "IPY_MODEL_dae0d531f525443e8cf55854f9b1ce83",
       "value": " 330/0 [00:00&lt;00:00, 4167.44 examples/s]"
      }
     },
     "c2f7a1a9587f4c2bb157605a7ece6874": {
      "model_module": "@jupyter-widgets/base",
      "model_module_version": "1.2.0",
      "model_name": "LayoutModel",
      "state": {
       "_model_module": "@jupyter-widgets/base",
       "_model_module_version": "1.2.0",
       "_model_name": "LayoutModel",
       "_view_count": null,
       "_view_module": "@jupyter-widgets/base",
       "_view_module_version": "1.2.0",
       "_view_name": "LayoutView",
       "align_content": null,
       "align_items": null,
       "align_self": null,
       "border": null,
       "bottom": null,
       "display": null,
       "flex": null,
       "flex_flow": null,
       "grid_area": null,
       "grid_auto_columns": null,
       "grid_auto_flow": null,
       "grid_auto_rows": null,
       "grid_column": null,
       "grid_gap": null,
       "grid_row": null,
       "grid_template_areas": null,
       "grid_template_columns": null,
       "grid_template_rows": null,
       "height": null,
       "justify_content": null,
       "justify_items": null,
       "left": null,
       "margin": null,
       "max_height": null,
       "max_width": null,
       "min_height": null,
       "min_width": null,
       "object_fit": null,
       "object_position": null,
       "order": null,
       "overflow": null,
       "overflow_x": null,
       "overflow_y": null,
       "padding": null,
       "right": null,
       "top": null,
       "visibility": null,
       "width": null
      }
     },
     "c372f694e8ab46239b7c304787ad078a": {
      "model_module": "@jupyter-widgets/base",
      "model_module_version": "1.2.0",
      "model_name": "LayoutModel",
      "state": {
       "_model_module": "@jupyter-widgets/base",
       "_model_module_version": "1.2.0",
       "_model_name": "LayoutModel",
       "_view_count": null,
       "_view_module": "@jupyter-widgets/base",
       "_view_module_version": "1.2.0",
       "_view_name": "LayoutView",
       "align_content": null,
       "align_items": null,
       "align_self": null,
       "border": null,
       "bottom": null,
       "display": null,
       "flex": null,
       "flex_flow": null,
       "grid_area": null,
       "grid_auto_columns": null,
       "grid_auto_flow": null,
       "grid_auto_rows": null,
       "grid_column": null,
       "grid_gap": null,
       "grid_row": null,
       "grid_template_areas": null,
       "grid_template_columns": null,
       "grid_template_rows": null,
       "height": null,
       "justify_content": null,
       "justify_items": null,
       "left": null,
       "margin": null,
       "max_height": null,
       "max_width": null,
       "min_height": null,
       "min_width": null,
       "object_fit": null,
       "object_position": null,
       "order": null,
       "overflow": null,
       "overflow_x": null,
       "overflow_y": null,
       "padding": null,
       "right": null,
       "top": null,
       "visibility": null,
       "width": null
      }
     },
     "c7ccf42fd36b4a60bade89d264b292b0": {
      "model_module": "@jupyter-widgets/base",
      "model_module_version": "1.2.0",
      "model_name": "LayoutModel",
      "state": {
       "_model_module": "@jupyter-widgets/base",
       "_model_module_version": "1.2.0",
       "_model_name": "LayoutModel",
       "_view_count": null,
       "_view_module": "@jupyter-widgets/base",
       "_view_module_version": "1.2.0",
       "_view_name": "LayoutView",
       "align_content": null,
       "align_items": null,
       "align_self": null,
       "border": null,
       "bottom": null,
       "display": null,
       "flex": null,
       "flex_flow": null,
       "grid_area": null,
       "grid_auto_columns": null,
       "grid_auto_flow": null,
       "grid_auto_rows": null,
       "grid_column": null,
       "grid_gap": null,
       "grid_row": null,
       "grid_template_areas": null,
       "grid_template_columns": null,
       "grid_template_rows": null,
       "height": null,
       "justify_content": null,
       "justify_items": null,
       "left": null,
       "margin": null,
       "max_height": null,
       "max_width": null,
       "min_height": null,
       "min_width": null,
       "object_fit": null,
       "object_position": null,
       "order": null,
       "overflow": null,
       "overflow_x": null,
       "overflow_y": null,
       "padding": null,
       "right": null,
       "top": null,
       "visibility": null,
       "width": null
      }
     },
     "c9c79f9a3a744aba95cb1efa128c1a1a": {
      "model_module": "@jupyter-widgets/controls",
      "model_module_version": "1.5.0",
      "model_name": "FloatProgressModel",
      "state": {
       "_dom_classes": [],
       "_model_module": "@jupyter-widgets/controls",
       "_model_module_version": "1.5.0",
       "_model_name": "FloatProgressModel",
       "_view_count": null,
       "_view_module": "@jupyter-widgets/controls",
       "_view_module_version": "1.5.0",
       "_view_name": "ProgressView",
       "bar_style": "success",
       "description": "",
       "description_tooltip": null,
       "layout": "IPY_MODEL_b2118883429840c1b6a02308f9240319",
       "max": 3,
       "min": 0,
       "orientation": "horizontal",
       "style": "IPY_MODEL_7e82102ac41a4f20ab8be3de63f4dd0c",
       "value": 3
      }
     },
     "ca9852689eba40f086dec90d5f5f3574": {
      "model_module": "@jupyter-widgets/controls",
      "model_module_version": "1.5.0",
      "model_name": "HTMLModel",
      "state": {
       "_dom_classes": [],
       "_model_module": "@jupyter-widgets/controls",
       "_model_module_version": "1.5.0",
       "_model_name": "HTMLModel",
       "_view_count": null,
       "_view_module": "@jupyter-widgets/controls",
       "_view_module_version": "1.5.0",
       "_view_name": "HTMLView",
       "description": "",
       "description_tooltip": null,
       "layout": "IPY_MODEL_a9bd91a77c6e495eb71968b7659b4b16",
       "placeholder": "​",
       "style": "IPY_MODEL_2d8709bb9d874280b6589a854abb2378",
       "value": " 3/3 [00:00&lt;00:00, 175.20it/s]"
      }
     },
     "cb4e1a5a4353442f8000b01718d4d458": {
      "model_module": "@jupyter-widgets/controls",
      "model_module_version": "1.5.0",
      "model_name": "HTMLModel",
      "state": {
       "_dom_classes": [],
       "_model_module": "@jupyter-widgets/controls",
       "_model_module_version": "1.5.0",
       "_model_name": "HTMLModel",
       "_view_count": null,
       "_view_module": "@jupyter-widgets/controls",
       "_view_module_version": "1.5.0",
       "_view_name": "HTMLView",
       "description": "",
       "description_tooltip": null,
       "layout": "IPY_MODEL_af4e88ce247b4eb2b3ea76d5d53855db",
       "placeholder": "​",
       "style": "IPY_MODEL_a772706303554723917006906059f9f6",
       "value": "Generating validation split: "
      }
     },
     "cca6fc93931f455ba29069d87a5affae": {
      "model_module": "@jupyter-widgets/controls",
      "model_module_version": "1.5.0",
      "model_name": "ProgressStyleModel",
      "state": {
       "_model_module": "@jupyter-widgets/controls",
       "_model_module_version": "1.5.0",
       "_model_name": "ProgressStyleModel",
       "_view_count": null,
       "_view_module": "@jupyter-widgets/base",
       "_view_module_version": "1.2.0",
       "_view_name": "StyleView",
       "bar_color": null,
       "description_width": ""
      }
     },
     "d011d81bb13a4e158078f4e234439ee0": {
      "model_module": "@jupyter-widgets/controls",
      "model_module_version": "1.5.0",
      "model_name": "HTMLModel",
      "state": {
       "_dom_classes": [],
       "_model_module": "@jupyter-widgets/controls",
       "_model_module_version": "1.5.0",
       "_model_name": "HTMLModel",
       "_view_count": null,
       "_view_module": "@jupyter-widgets/controls",
       "_view_module_version": "1.5.0",
       "_view_name": "HTMLView",
       "description": "",
       "description_tooltip": null,
       "layout": "IPY_MODEL_c7ccf42fd36b4a60bade89d264b292b0",
       "placeholder": "​",
       "style": "IPY_MODEL_f083957807264b4297fe431699ef5260",
       "value": "Downloading builder script: 100%"
      }
     },
     "d1ef211e0db446008252cb0f63b7806f": {
      "model_module": "@jupyter-widgets/controls",
      "model_module_version": "1.5.0",
      "model_name": "HTMLModel",
      "state": {
       "_dom_classes": [],
       "_model_module": "@jupyter-widgets/controls",
       "_model_module_version": "1.5.0",
       "_model_name": "HTMLModel",
       "_view_count": null,
       "_view_module": "@jupyter-widgets/controls",
       "_view_module_version": "1.5.0",
       "_view_name": "HTMLView",
       "description": "",
       "description_tooltip": null,
       "layout": "IPY_MODEL_2788274ad94d4af29e63459ee6bac5a8",
       "placeholder": "​",
       "style": "IPY_MODEL_a002d4596ba6472cbf76103f1f566728",
       "value": "vocab.txt: 100%"
      }
     },
     "dae0d531f525443e8cf55854f9b1ce83": {
      "model_module": "@jupyter-widgets/controls",
      "model_module_version": "1.5.0",
      "model_name": "DescriptionStyleModel",
      "state": {
       "_model_module": "@jupyter-widgets/controls",
       "_model_module_version": "1.5.0",
       "_model_name": "DescriptionStyleModel",
       "_view_count": null,
       "_view_module": "@jupyter-widgets/base",
       "_view_module_version": "1.2.0",
       "_view_name": "StyleView",
       "description_width": ""
      }
     },
     "dd17cf942eb04812a34b7b6a04073a14": {
      "model_module": "@jupyter-widgets/controls",
      "model_module_version": "1.5.0",
      "model_name": "DescriptionStyleModel",
      "state": {
       "_model_module": "@jupyter-widgets/controls",
       "_model_module_version": "1.5.0",
       "_model_name": "DescriptionStyleModel",
       "_view_count": null,
       "_view_module": "@jupyter-widgets/base",
       "_view_module_version": "1.2.0",
       "_view_name": "StyleView",
       "description_width": ""
      }
     },
     "dda78fd635ea44038e10e1afb34edd14": {
      "model_module": "@jupyter-widgets/controls",
      "model_module_version": "1.5.0",
      "model_name": "DescriptionStyleModel",
      "state": {
       "_model_module": "@jupyter-widgets/controls",
       "_model_module_version": "1.5.0",
       "_model_name": "DescriptionStyleModel",
       "_view_count": null,
       "_view_module": "@jupyter-widgets/base",
       "_view_module_version": "1.2.0",
       "_view_name": "StyleView",
       "description_width": ""
      }
     },
     "ddd226da564f4cc985a9ddc4b20ea048": {
      "model_module": "@jupyter-widgets/controls",
      "model_module_version": "1.5.0",
      "model_name": "FloatProgressModel",
      "state": {
       "_dom_classes": [],
       "_model_module": "@jupyter-widgets/controls",
       "_model_module_version": "1.5.0",
       "_model_name": "FloatProgressModel",
       "_view_count": null,
       "_view_module": "@jupyter-widgets/controls",
       "_view_module_version": "1.5.0",
       "_view_name": "ProgressView",
       "bar_style": "success",
       "description": "",
       "description_tooltip": null,
       "layout": "IPY_MODEL_5e21807eaa14447a9da05c8e88b2f7ad",
       "max": 1,
       "min": 0,
       "orientation": "horizontal",
       "style": "IPY_MODEL_38f9779607d1435981ed87eb150714c5",
       "value": 1
      }
     },
     "dec1e075bb6740c39a1cd587c3f55176": {
      "model_module": "@jupyter-widgets/base",
      "model_module_version": "1.2.0",
      "model_name": "LayoutModel",
      "state": {
       "_model_module": "@jupyter-widgets/base",
       "_model_module_version": "1.2.0",
       "_model_name": "LayoutModel",
       "_view_count": null,
       "_view_module": "@jupyter-widgets/base",
       "_view_module_version": "1.2.0",
       "_view_name": "LayoutView",
       "align_content": null,
       "align_items": null,
       "align_self": null,
       "border": null,
       "bottom": null,
       "display": null,
       "flex": null,
       "flex_flow": null,
       "grid_area": null,
       "grid_auto_columns": null,
       "grid_auto_flow": null,
       "grid_auto_rows": null,
       "grid_column": null,
       "grid_gap": null,
       "grid_row": null,
       "grid_template_areas": null,
       "grid_template_columns": null,
       "grid_template_rows": null,
       "height": null,
       "justify_content": null,
       "justify_items": null,
       "left": null,
       "margin": null,
       "max_height": null,
       "max_width": null,
       "min_height": null,
       "min_width": null,
       "object_fit": null,
       "object_position": null,
       "order": null,
       "overflow": null,
       "overflow_x": null,
       "overflow_y": null,
       "padding": null,
       "right": null,
       "top": null,
       "visibility": null,
       "width": null
      }
     },
     "e0b0a110ca984bb5b46ddee140412eff": {
      "model_module": "@jupyter-widgets/controls",
      "model_module_version": "1.5.0",
      "model_name": "ProgressStyleModel",
      "state": {
       "_model_module": "@jupyter-widgets/controls",
       "_model_module_version": "1.5.0",
       "_model_name": "ProgressStyleModel",
       "_view_count": null,
       "_view_module": "@jupyter-widgets/base",
       "_view_module_version": "1.2.0",
       "_view_name": "StyleView",
       "bar_color": null,
       "description_width": ""
      }
     },
     "e49edbbc04b24b0c8761f53ff04a6b1e": {
      "model_module": "@jupyter-widgets/controls",
      "model_module_version": "1.5.0",
      "model_name": "HTMLModel",
      "state": {
       "_dom_classes": [],
       "_model_module": "@jupyter-widgets/controls",
       "_model_module_version": "1.5.0",
       "_model_name": "HTMLModel",
       "_view_count": null,
       "_view_module": "@jupyter-widgets/controls",
       "_view_module_version": "1.5.0",
       "_view_name": "HTMLView",
       "description": "",
       "description_tooltip": null,
       "layout": "IPY_MODEL_fe62d6a3d9af43a087f5e10faaf72bbc",
       "placeholder": "​",
       "style": "IPY_MODEL_3ce86d882a4b40b8abfec75abaa5ac89",
       "value": "Computing checksums: 100%"
      }
     },
     "e533ea298b754b1a8fe981245f5165a9": {
      "model_module": "@jupyter-widgets/controls",
      "model_module_version": "1.5.0",
      "model_name": "DescriptionStyleModel",
      "state": {
       "_model_module": "@jupyter-widgets/controls",
       "_model_module_version": "1.5.0",
       "_model_name": "DescriptionStyleModel",
       "_view_count": null,
       "_view_module": "@jupyter-widgets/base",
       "_view_module_version": "1.2.0",
       "_view_name": "StyleView",
       "description_width": ""
      }
     },
     "e5504ebf03bb455dbf350992ae210122": {
      "model_module": "@jupyter-widgets/controls",
      "model_module_version": "1.5.0",
      "model_name": "HTMLModel",
      "state": {
       "_dom_classes": [],
       "_model_module": "@jupyter-widgets/controls",
       "_model_module_version": "1.5.0",
       "_model_name": "HTMLModel",
       "_view_count": null,
       "_view_module": "@jupyter-widgets/controls",
       "_view_module_version": "1.5.0",
       "_view_name": "HTMLView",
       "description": "",
       "description_tooltip": null,
       "layout": "IPY_MODEL_c0376f480de042748ab862459e9e633b",
       "placeholder": "​",
       "style": "IPY_MODEL_426a733c442845cb91448878ec70fdc2",
       "value": " 330/330 [00:00&lt;00:00, 5060.38 examples/s]"
      }
     },
     "e8672c84b32f4e078679a535c2f3cf2a": {
      "model_module": "@jupyter-widgets/controls",
      "model_module_version": "1.5.0",
      "model_name": "FloatProgressModel",
      "state": {
       "_dom_classes": [],
       "_model_module": "@jupyter-widgets/controls",
       "_model_module_version": "1.5.0",
       "_model_name": "FloatProgressModel",
       "_view_count": null,
       "_view_module": "@jupyter-widgets/controls",
       "_view_module_version": "1.5.0",
       "_view_name": "ProgressView",
       "bar_style": "success",
       "description": "",
       "description_tooltip": null,
       "layout": "IPY_MODEL_9bc6fe253b0a4247a2ab4376fd704ed8",
       "max": 280,
       "min": 0,
       "orientation": "horizontal",
       "style": "IPY_MODEL_7ea9c210103a4b8d8b4932b0e754d0a9",
       "value": 280
      }
     },
     "e89c3a53c7314e9794f552af758c95c7": {
      "model_module": "@jupyter-widgets/base",
      "model_module_version": "1.2.0",
      "model_name": "LayoutModel",
      "state": {
       "_model_module": "@jupyter-widgets/base",
       "_model_module_version": "1.2.0",
       "_model_name": "LayoutModel",
       "_view_count": null,
       "_view_module": "@jupyter-widgets/base",
       "_view_module_version": "1.2.0",
       "_view_name": "LayoutView",
       "align_content": null,
       "align_items": null,
       "align_self": null,
       "border": null,
       "bottom": null,
       "display": null,
       "flex": null,
       "flex_flow": null,
       "grid_area": null,
       "grid_auto_columns": null,
       "grid_auto_flow": null,
       "grid_auto_rows": null,
       "grid_column": null,
       "grid_gap": null,
       "grid_row": null,
       "grid_template_areas": null,
       "grid_template_columns": null,
       "grid_template_rows": null,
       "height": null,
       "justify_content": null,
       "justify_items": null,
       "left": null,
       "margin": null,
       "max_height": null,
       "max_width": null,
       "min_height": null,
       "min_width": null,
       "object_fit": null,
       "object_position": null,
       "order": null,
       "overflow": null,
       "overflow_x": null,
       "overflow_y": null,
       "padding": null,
       "right": null,
       "top": null,
       "visibility": null,
       "width": null
      }
     },
     "e90d567077674cb7b2d4be05d81ea807": {
      "model_module": "@jupyter-widgets/controls",
      "model_module_version": "1.5.0",
      "model_name": "ProgressStyleModel",
      "state": {
       "_model_module": "@jupyter-widgets/controls",
       "_model_module_version": "1.5.0",
       "_model_name": "ProgressStyleModel",
       "_view_count": null,
       "_view_module": "@jupyter-widgets/base",
       "_view_module_version": "1.2.0",
       "_view_name": "StyleView",
       "bar_color": null,
       "description_width": ""
      }
     },
     "e9b2ba4890e846a09087716b489a5983": {
      "model_module": "@jupyter-widgets/controls",
      "model_module_version": "1.5.0",
      "model_name": "HBoxModel",
      "state": {
       "_dom_classes": [],
       "_model_module": "@jupyter-widgets/controls",
       "_model_module_version": "1.5.0",
       "_model_name": "HBoxModel",
       "_view_count": null,
       "_view_module": "@jupyter-widgets/controls",
       "_view_module_version": "1.5.0",
       "_view_name": "HBoxView",
       "box_style": "",
       "children": [
        "IPY_MODEL_04eafa26c45f4e5c80153a4fafbe2e48",
        "IPY_MODEL_4534cb5704ae48a5bb0db9a874b80dd9",
        "IPY_MODEL_6ec9255c9b414646ae0484ba0752ad60"
       ],
       "layout": "IPY_MODEL_9fadec9214224b2988938fda6ba9199e"
      }
     },
     "ebee25935d5d47c69475687fa1824627": {
      "model_module": "@jupyter-widgets/controls",
      "model_module_version": "1.5.0",
      "model_name": "HBoxModel",
      "state": {
       "_dom_classes": [],
       "_model_module": "@jupyter-widgets/controls",
       "_model_module_version": "1.5.0",
       "_model_name": "HBoxModel",
       "_view_count": null,
       "_view_module": "@jupyter-widgets/controls",
       "_view_module_version": "1.5.0",
       "_view_name": "HBoxView",
       "box_style": "",
       "children": [
        "IPY_MODEL_44bd29343ebc4095a3bea2abb0903dbc",
        "IPY_MODEL_ddd226da564f4cc985a9ddc4b20ea048",
        "IPY_MODEL_0872ae72f9964cc28a5e4e001058f2a9"
       ],
       "layout": "IPY_MODEL_f1d126def78d42f5954c50420f35abc8"
      }
     },
     "ec274f04992d433a8786e4d02ebecfb9": {
      "model_module": "@jupyter-widgets/base",
      "model_module_version": "1.2.0",
      "model_name": "LayoutModel",
      "state": {
       "_model_module": "@jupyter-widgets/base",
       "_model_module_version": "1.2.0",
       "_model_name": "LayoutModel",
       "_view_count": null,
       "_view_module": "@jupyter-widgets/base",
       "_view_module_version": "1.2.0",
       "_view_name": "LayoutView",
       "align_content": null,
       "align_items": null,
       "align_self": null,
       "border": null,
       "bottom": null,
       "display": null,
       "flex": null,
       "flex_flow": null,
       "grid_area": null,
       "grid_auto_columns": null,
       "grid_auto_flow": null,
       "grid_auto_rows": null,
       "grid_column": null,
       "grid_gap": null,
       "grid_row": null,
       "grid_template_areas": null,
       "grid_template_columns": null,
       "grid_template_rows": null,
       "height": null,
       "justify_content": null,
       "justify_items": null,
       "left": null,
       "margin": null,
       "max_height": null,
       "max_width": null,
       "min_height": null,
       "min_width": null,
       "object_fit": null,
       "object_position": null,
       "order": null,
       "overflow": null,
       "overflow_x": null,
       "overflow_y": null,
       "padding": null,
       "right": null,
       "top": null,
       "visibility": null,
       "width": null
      }
     },
     "f083957807264b4297fe431699ef5260": {
      "model_module": "@jupyter-widgets/controls",
      "model_module_version": "1.5.0",
      "model_name": "DescriptionStyleModel",
      "state": {
       "_model_module": "@jupyter-widgets/controls",
       "_model_module_version": "1.5.0",
       "_model_name": "DescriptionStyleModel",
       "_view_count": null,
       "_view_module": "@jupyter-widgets/base",
       "_view_module_version": "1.2.0",
       "_view_name": "StyleView",
       "description_width": ""
      }
     },
     "f1d126def78d42f5954c50420f35abc8": {
      "model_module": "@jupyter-widgets/base",
      "model_module_version": "1.2.0",
      "model_name": "LayoutModel",
      "state": {
       "_model_module": "@jupyter-widgets/base",
       "_model_module_version": "1.2.0",
       "_model_name": "LayoutModel",
       "_view_count": null,
       "_view_module": "@jupyter-widgets/base",
       "_view_module_version": "1.2.0",
       "_view_name": "LayoutView",
       "align_content": null,
       "align_items": null,
       "align_self": null,
       "border": null,
       "bottom": null,
       "display": null,
       "flex": null,
       "flex_flow": null,
       "grid_area": null,
       "grid_auto_columns": null,
       "grid_auto_flow": null,
       "grid_auto_rows": null,
       "grid_column": null,
       "grid_gap": null,
       "grid_row": null,
       "grid_template_areas": null,
       "grid_template_columns": null,
       "grid_template_rows": null,
       "height": null,
       "justify_content": null,
       "justify_items": null,
       "left": null,
       "margin": null,
       "max_height": null,
       "max_width": null,
       "min_height": null,
       "min_width": null,
       "object_fit": null,
       "object_position": null,
       "order": null,
       "overflow": null,
       "overflow_x": null,
       "overflow_y": null,
       "padding": null,
       "right": null,
       "top": null,
       "visibility": null,
       "width": null
      }
     },
     "f3d646223cb4485682f3ddda6154e8c1": {
      "model_module": "@jupyter-widgets/controls",
      "model_module_version": "1.5.0",
      "model_name": "HTMLModel",
      "state": {
       "_dom_classes": [],
       "_model_module": "@jupyter-widgets/controls",
       "_model_module_version": "1.5.0",
       "_model_name": "HTMLModel",
       "_view_count": null,
       "_view_module": "@jupyter-widgets/controls",
       "_view_module_version": "1.5.0",
       "_view_name": "HTMLView",
       "description": "",
       "description_tooltip": null,
       "layout": "IPY_MODEL_c2f7a1a9587f4c2bb157605a7ece6874",
       "placeholder": "​",
       "style": "IPY_MODEL_e533ea298b754b1a8fe981245f5165a9",
       "value": " 6.34k/6.34k [00:00&lt;00:00, 435kB/s]"
      }
     },
     "f52be6381c8745a187133911a7ce683b": {
      "model_module": "@jupyter-widgets/base",
      "model_module_version": "1.2.0",
      "model_name": "LayoutModel",
      "state": {
       "_model_module": "@jupyter-widgets/base",
       "_model_module_version": "1.2.0",
       "_model_name": "LayoutModel",
       "_view_count": null,
       "_view_module": "@jupyter-widgets/base",
       "_view_module_version": "1.2.0",
       "_view_name": "LayoutView",
       "align_content": null,
       "align_items": null,
       "align_self": null,
       "border": null,
       "bottom": null,
       "display": null,
       "flex": null,
       "flex_flow": null,
       "grid_area": null,
       "grid_auto_columns": null,
       "grid_auto_flow": null,
       "grid_auto_rows": null,
       "grid_column": null,
       "grid_gap": null,
       "grid_row": null,
       "grid_template_areas": null,
       "grid_template_columns": null,
       "grid_template_rows": null,
       "height": null,
       "justify_content": null,
       "justify_items": null,
       "left": null,
       "margin": null,
       "max_height": null,
       "max_width": null,
       "min_height": null,
       "min_width": null,
       "object_fit": null,
       "object_position": null,
       "order": null,
       "overflow": null,
       "overflow_x": null,
       "overflow_y": null,
       "padding": null,
       "right": null,
       "top": null,
       "visibility": null,
       "width": null
      }
     },
     "f744934e578841b79e73315493476508": {
      "model_module": "@jupyter-widgets/controls",
      "model_module_version": "1.5.0",
      "model_name": "DescriptionStyleModel",
      "state": {
       "_model_module": "@jupyter-widgets/controls",
       "_model_module_version": "1.5.0",
       "_model_name": "DescriptionStyleModel",
       "_view_count": null,
       "_view_module": "@jupyter-widgets/base",
       "_view_module_version": "1.2.0",
       "_view_name": "StyleView",
       "description_width": ""
      }
     },
     "f7ed44fab663426a9c1e9290c48ed383": {
      "model_module": "@jupyter-widgets/base",
      "model_module_version": "1.2.0",
      "model_name": "LayoutModel",
      "state": {
       "_model_module": "@jupyter-widgets/base",
       "_model_module_version": "1.2.0",
       "_model_name": "LayoutModel",
       "_view_count": null,
       "_view_module": "@jupyter-widgets/base",
       "_view_module_version": "1.2.0",
       "_view_name": "LayoutView",
       "align_content": null,
       "align_items": null,
       "align_self": null,
       "border": null,
       "bottom": null,
       "display": null,
       "flex": null,
       "flex_flow": null,
       "grid_area": null,
       "grid_auto_columns": null,
       "grid_auto_flow": null,
       "grid_auto_rows": null,
       "grid_column": null,
       "grid_gap": null,
       "grid_row": null,
       "grid_template_areas": null,
       "grid_template_columns": null,
       "grid_template_rows": null,
       "height": null,
       "justify_content": null,
       "justify_items": null,
       "left": null,
       "margin": null,
       "max_height": null,
       "max_width": null,
       "min_height": null,
       "min_width": null,
       "object_fit": null,
       "object_position": null,
       "order": null,
       "overflow": null,
       "overflow_x": null,
       "overflow_y": null,
       "padding": null,
       "right": null,
       "top": null,
       "visibility": null,
       "width": null
      }
     },
     "fb0a4a94600c42d58551507d0d79c0d3": {
      "model_module": "@jupyter-widgets/base",
      "model_module_version": "1.2.0",
      "model_name": "LayoutModel",
      "state": {
       "_model_module": "@jupyter-widgets/base",
       "_model_module_version": "1.2.0",
       "_model_name": "LayoutModel",
       "_view_count": null,
       "_view_module": "@jupyter-widgets/base",
       "_view_module_version": "1.2.0",
       "_view_name": "LayoutView",
       "align_content": null,
       "align_items": null,
       "align_self": null,
       "border": null,
       "bottom": null,
       "display": null,
       "flex": null,
       "flex_flow": null,
       "grid_area": null,
       "grid_auto_columns": null,
       "grid_auto_flow": null,
       "grid_auto_rows": null,
       "grid_column": null,
       "grid_gap": null,
       "grid_row": null,
       "grid_template_areas": null,
       "grid_template_columns": null,
       "grid_template_rows": null,
       "height": null,
       "justify_content": null,
       "justify_items": null,
       "left": null,
       "margin": null,
       "max_height": null,
       "max_width": null,
       "min_height": null,
       "min_width": null,
       "object_fit": null,
       "object_position": null,
       "order": null,
       "overflow": null,
       "overflow_x": null,
       "overflow_y": null,
       "padding": null,
       "right": null,
       "top": null,
       "visibility": null,
       "width": null
      }
     },
     "fc455af5454a42168ab9675f8baebaeb": {
      "model_module": "@jupyter-widgets/controls",
      "model_module_version": "1.5.0",
      "model_name": "HTMLModel",
      "state": {
       "_dom_classes": [],
       "_model_module": "@jupyter-widgets/controls",
       "_model_module_version": "1.5.0",
       "_model_name": "HTMLModel",
       "_view_count": null,
       "_view_module": "@jupyter-widgets/controls",
       "_view_module_version": "1.5.0",
       "_view_name": "HTMLView",
       "description": "",
       "description_tooltip": null,
       "layout": "IPY_MODEL_ff6cf7e0ffd84a799064376cbe8c13e5",
       "placeholder": "​",
       "style": "IPY_MODEL_299a1884f4a94dbfb1a3f104076641d7",
       "value": " 280/280 [00:00&lt;00:00, 4774.53 examples/s]"
      }
     },
     "fe62d6a3d9af43a087f5e10faaf72bbc": {
      "model_module": "@jupyter-widgets/base",
      "model_module_version": "1.2.0",
      "model_name": "LayoutModel",
      "state": {
       "_model_module": "@jupyter-widgets/base",
       "_model_module_version": "1.2.0",
       "_model_name": "LayoutModel",
       "_view_count": null,
       "_view_module": "@jupyter-widgets/base",
       "_view_module_version": "1.2.0",
       "_view_name": "LayoutView",
       "align_content": null,
       "align_items": null,
       "align_self": null,
       "border": null,
       "bottom": null,
       "display": null,
       "flex": null,
       "flex_flow": null,
       "grid_area": null,
       "grid_auto_columns": null,
       "grid_auto_flow": null,
       "grid_auto_rows": null,
       "grid_column": null,
       "grid_gap": null,
       "grid_row": null,
       "grid_template_areas": null,
       "grid_template_columns": null,
       "grid_template_rows": null,
       "height": null,
       "justify_content": null,
       "justify_items": null,
       "left": null,
       "margin": null,
       "max_height": null,
       "max_width": null,
       "min_height": null,
       "min_width": null,
       "object_fit": null,
       "object_position": null,
       "order": null,
       "overflow": null,
       "overflow_x": null,
       "overflow_y": null,
       "padding": null,
       "right": null,
       "top": null,
       "visibility": null,
       "width": null
      }
     },
     "ff6cf7e0ffd84a799064376cbe8c13e5": {
      "model_module": "@jupyter-widgets/base",
      "model_module_version": "1.2.0",
      "model_name": "LayoutModel",
      "state": {
       "_model_module": "@jupyter-widgets/base",
       "_model_module_version": "1.2.0",
       "_model_name": "LayoutModel",
       "_view_count": null,
       "_view_module": "@jupyter-widgets/base",
       "_view_module_version": "1.2.0",
       "_view_name": "LayoutView",
       "align_content": null,
       "align_items": null,
       "align_self": null,
       "border": null,
       "bottom": null,
       "display": null,
       "flex": null,
       "flex_flow": null,
       "grid_area": null,
       "grid_auto_columns": null,
       "grid_auto_flow": null,
       "grid_auto_rows": null,
       "grid_column": null,
       "grid_gap": null,
       "grid_row": null,
       "grid_template_areas": null,
       "grid_template_columns": null,
       "grid_template_rows": null,
       "height": null,
       "justify_content": null,
       "justify_items": null,
       "left": null,
       "margin": null,
       "max_height": null,
       "max_width": null,
       "min_height": null,
       "min_width": null,
       "object_fit": null,
       "object_position": null,
       "order": null,
       "overflow": null,
       "overflow_x": null,
       "overflow_y": null,
       "padding": null,
       "right": null,
       "top": null,
       "visibility": null,
       "width": null
      }
     }
    },
    "version_major": 2,
    "version_minor": 0
   }
  }
 },
 "nbformat": 4,
 "nbformat_minor": 5
}
